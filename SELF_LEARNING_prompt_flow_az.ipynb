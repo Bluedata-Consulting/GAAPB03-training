{
 "cells": [
  {
   "cell_type": "markdown",
   "id": "4b23fd08",
   "metadata": {},
   "source": [
    "# Azure Prompt Flow"
   ]
  },
  {
   "cell_type": "markdown",
   "id": "ac44e234",
   "metadata": {},
   "source": [
    "##### Prompt flow is a development tool designed to streamline the entire development cycle of AI applications powered by Large Language Models (LLMs). Prompt flow provides a comprehensive solution that simplifies the process of prototyping, experimenting, iterating, and deploying your AI applications."
   ]
  },
  {
   "cell_type": "markdown",
   "id": "dd268794",
   "metadata": {},
   "source": [
    "### 1. Creating an Azure Ai Foundry hub"
   ]
  },
  {
   "cell_type": "markdown",
   "id": "5040656f",
   "metadata": {},
   "source": [
    "- Click on the \"Azure AI Foundry\" tile to create or access your AI Foundry resource.\n",
    "\n",
    "\n",
    "<img src=\"images\\create_ai_foundry.png\" width=\"500\" height=\"300\">"
   ]
  },
  {
   "cell_type": "markdown",
   "id": "ed5a8153",
   "metadata": {},
   "source": [
    "- Add resource name and Fill in all the required fields and then click the \"Review + create\" button at the bottom of the page.\n",
    "\n",
    "<img src=\"images\\create_ai_foundry 1.png\" width=\"500\" height=\"300\">"
   ]
  },
  {
   "cell_type": "markdown",
   "id": "480e0aee",
   "metadata": {},
   "source": [
    "- Click the \"Create\" button to create your Azure AI hub resource.\n",
    "\n",
    "<img src=\"images\\create_ai_foundry 2.png\" width=\"500\" height=\"300\">"
   ]
  },
  {
   "cell_type": "markdown",
   "id": "2785921e",
   "metadata": {},
   "source": [
    "- Click the \"Go to resource\" button to access your newly created AI resource.\n",
    "\n",
    "<img src=\"images\\create_ai_foundry 3.png\" width=\"600\" height=\"250\">"
   ]
  },
  {
   "cell_type": "markdown",
   "id": "7488f1d5",
   "metadata": {},
   "source": [
    "- Click the \"Launch Azure AI Foundry\" button to open the AI Foundry interface.\n",
    "\n",
    "<img src=\"images\\create_ai_foundry 4.png\" width=\"600\" height=\"250\">"
   ]
  },
  {
   "cell_type": "markdown",
   "id": "72ae6afe",
   "metadata": {},
   "source": [
    "- Click the \"+ New project\" button to create a new project in your AI Foundry hub.\n",
    "\n",
    "<img src=\"images\\create_project 1.png\" width=\"400\" height=\"250\">"
   ]
  },
  {
   "cell_type": "markdown",
   "id": "a1a1008b",
   "metadata": {},
   "source": [
    "- Enter a name for your project (such as \"prompt-flow-project\") and click the \"Create\" button.\n",
    "\n",
    "<img src=\"images\\create_project 2.png\" width=\"400\" height=\"250\">"
   ]
  },
  {
   "cell_type": "markdown",
   "id": "6af06f9c",
   "metadata": {},
   "source": [
    "### 2. Creating an Azure OpenAI Connection"
   ]
  },
  {
   "cell_type": "markdown",
   "id": "31fb77af",
   "metadata": {},
   "source": [
    "- Go to your Azure OpenAI resource in the Azure Portal\n",
    "- search for \"Azure OpenAI\" in the Azure Portal search bar\n",
    "\n",
    "<img src=\"images\\open_ai.png\" width=\"600\" height=\"350\">"
   ]
  },
  {
   "cell_type": "markdown",
   "id": "c60834e1",
   "metadata": {},
   "source": [
    "Complete the basic configuration for your Azure OpenAI resource:\n",
    "\n",
    "1. Select your preferred region from the dropdown menu\n",
    "2. Enter a unique name for your OpenAI service\n",
    "3. Choose an appropriate pricing tier based on your needs\n",
    "4. Click the \"Next\" button to proceed to the next step of setup\n",
    "\n",
    "<img src=\"images\\open_ai 1.png\" width=\"600\" height=\"400\">"
   ]
  },
  {
   "cell_type": "markdown",
   "id": "292a2254",
   "metadata": {},
   "source": [
    "- Select \"All networks, including the internet, can access this resource\" for the network security option, then click the \"Next\" button to continue.\n",
    "\n",
    "<img src=\"images\\open_ai 2.png\" width=\"600\" height=\"450\">"
   ]
  },
  {
   "cell_type": "markdown",
   "id": "ef901f1e",
   "metadata": {},
   "source": [
    "- Skip adding tags (as they're optional) and simply click the \"Next\" button to proceed to the review and submission page.\n",
    "<img src=\"images\\open_ai 3.png\" width=\"600\" height=\"400\">"
   ]
  },
  {
   "cell_type": "markdown",
   "id": "65d2dac8",
   "metadata": {},
   "source": [
    "- Review your Azure OpenAI configuration details, and if everything looks correct, click the \"Create\" button to create your OpenAI service.\n",
    "<img src=\"images\\open_ai 4.png\" width=\"600\" height=\"400\">"
   ]
  },
  {
   "cell_type": "markdown",
   "id": "6d9ec5b2",
   "metadata": {},
   "source": [
    "### 3. Creating promptflow"
   ]
  },
  {
   "cell_type": "markdown",
   "id": "3c5eaaa0",
   "metadata": {},
   "source": [
    "#### A. Standard promptflow"
   ]
  },
  {
   "cell_type": "markdown",
   "id": "2189bada",
   "metadata": {},
   "source": [
    "##### Creating standard flow"
   ]
  },
  {
   "cell_type": "markdown",
   "id": "05f2f354",
   "metadata": {},
   "source": [
    "- Click on \"Prompt flow\" in the left navigation menu to begin working with prompt flows.\n",
    "\n",
    "<img src=\"images\\prompt_flow.png\" width=\"400\" height=\"300\">"
   ]
  },
  {
   "cell_type": "markdown",
   "id": "5df2ab75",
   "metadata": {},
   "source": [
    "- Click the \"+ Create\" button to start creating a new prompt flow.\n",
    "\n",
    "<img src=\"images\\prompt_flow 1.png\" width=\"400\" height=\"100\">"
   ]
  },
  {
   "cell_type": "markdown",
   "id": "f4f36d64",
   "metadata": {},
   "source": [
    "- Create a flow from scratch by selecting \"Standard flow\" > \"Create\"\n",
    "\n",
    "<img src=\"images\\prompt_flow 3.png\" width=\"500\" height=\"150\">"
   ]
  },
  {
   "cell_type": "markdown",
   "id": "6e827e0a",
   "metadata": {},
   "source": [
    "- Click the \"Create\" button to create your prompt flow with the specified folder name.\n",
    "\n",
    "<img src=\"images\\prompt_flow 5.png\" width=\"400\" height=\"300\">"
   ]
  },
  {
   "cell_type": "markdown",
   "id": "4bc0a1a2",
   "metadata": {},
   "source": [
    "- Start Compute Session: Click \"Start compute session\" at the top to initialize the runtime environment\n",
    "\n",
    "<img src=\"images\\prompt_flow 6.png\" width=\"400\" height=\"100\">\n"
   ]
  },
  {
   "cell_type": "markdown",
   "id": "ebca0933",
   "metadata": {},
   "source": [
    ">Note: The compute session manages the resources needed to run your flow. It may take a few minutes to start."
   ]
  },
  {
   "cell_type": "markdown",
   "id": "047e3974",
   "metadata": {},
   "source": [
    "- You can start authoring your flow now. By default you see a sample flow. This example flow has nodes for the LLM and Python tools.\n",
    "\n",
    "<img src=\"images\\prompt_flow 7.png\" width=\"800\" height=\"400\">"
   ]
  },
  {
   "cell_type": "markdown",
   "id": "42b4f563",
   "metadata": {},
   "source": [
    "- Add a new input by clicking \"add input\" to include more parameters for your prompt flow.\n",
    "\n",
    "<img src=\"images\\open_ai input.png\" width=\"500\" height=\"200\">"
   ]
  },
  {
   "cell_type": "markdown",
   "id": "e6b1d718",
   "metadata": {},
   "source": [
    "- Adjust the \"temperature\" setting to a value between 0 and 1 (e.g., 0.7) to control the randomness of the LLM's responses, then Set the API connection.\n",
    "- Specify the deployment name.\n",
    "\n",
    "<img src=\"images\\open_ai input 1.png\" width=\"600\" height=\"300\">"
   ]
  },
  {
   "cell_type": "markdown",
   "id": "e591c132",
   "metadata": {},
   "source": [
    "Output:\n",
    "\n",
    "- Review the generated output in the \"Outputs\" tab, where the prompt flow has produced the joke.\n",
    "\n",
    "<img src=\"images\\open_ai output.png\" width=\"600\" height=\"250\">"
   ]
  },
  {
   "cell_type": "markdown",
   "id": "d52467b2",
   "metadata": {},
   "source": [
    "#### B. Chat promptflow"
   ]
  },
  {
   "cell_type": "markdown",
   "id": "2f5b53db",
   "metadata": {},
   "source": [
    "##### Creating Chat flow"
   ]
  },
  {
   "cell_type": "markdown",
   "id": "8c1a3139",
   "metadata": {},
   "source": [
    "- Start creating a new chat flow by clicking the \"+ Create\" button in the \"Flows\" section of Azure AI Foundry.\n",
    "\n",
    "<img src=\"images\\chat flow.png\" width=\"400\" height=\"100\">"
   ]
  },
  {
   "cell_type": "markdown",
   "id": "da190585",
   "metadata": {},
   "source": [
    "- Configure the chat flow by selecting the connection and the azure open ai deployment name, then set the temperature to 0.7.\n",
    "\n",
    "<img src=\"images\\chat flow 1.png\" width=\"600\" height=\"300\">"
   ]
  },
  {
   "cell_type": "markdown",
   "id": "5c8d3303",
   "metadata": {},
   "source": [
    "- Start Compute Session: Click \"Start compute session\" at the top to initialize the runtime environment\n",
    "\n",
    "<img src=\"images\\prompt_flow 6.png\" width=\"400\" height=\"100\">"
   ]
  },
  {
   "cell_type": "markdown",
   "id": "25a27984",
   "metadata": {},
   "source": [
    "- Click on \"Chat\" button for excution\n",
    "\n",
    "<img src=\"images\\chat flow 2.png\" width=\"300\" height=\"50\">"
   ]
  },
  {
   "cell_type": "markdown",
   "id": "efffd039",
   "metadata": {},
   "source": [
    "- Test the chat flow by entering the input in the chat input box and pressing the send button to see the response.\n",
    "\n",
    "<img src=\"images\\chat flow 3.png\" width=\"400\" height=\"400\">"
   ]
  },
  {
   "cell_type": "markdown",
   "id": "e1e6f9c0",
   "metadata": {},
   "source": [
    "Output:\n",
    "- Review the chat flow response and select an option (e.g., \"Are you looking for an introduction to machine learning concepts?\") to continue the conversation based on your needs.\n",
    "\n",
    "<img src=\"images\\chat flow output.png\" width=\"400\" height=\"400\">"
   ]
  },
  {
   "cell_type": "markdown",
   "id": "af08ef88",
   "metadata": {},
   "source": []
  },
  {
   "cell_type": "code",
   "execution_count": null,
   "id": "f7f8a52c",
   "metadata": {},
   "outputs": [],
   "source": []
  }
 ],
 "metadata": {
  "kernelspec": {
   "display_name": "ap_chain_env",
   "language": "python",
   "name": "python3"
  },
  "language_info": {
   "codemirror_mode": {
    "name": "ipython",
    "version": 3
   },
   "file_extension": ".py",
   "mimetype": "text/x-python",
   "name": "python",
   "nbconvert_exporter": "python",
   "pygments_lexer": "ipython3",
   "version": "3.10.11"
  }
 },
 "nbformat": 4,
 "nbformat_minor": 5
}

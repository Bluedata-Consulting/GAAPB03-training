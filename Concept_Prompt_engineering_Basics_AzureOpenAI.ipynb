{
 "cells": [
  {
   "cell_type": "code",
   "execution_count": 1,
   "id": "c3545174",
   "metadata": {},
   "outputs": [],
   "source": [
    "from openai import AzureOpenAI\n",
    "\n",
    "client = AzureOpenAI()"
   ]
  },
  {
   "cell_type": "code",
   "execution_count": 2,
   "id": "85ead764",
   "metadata": {},
   "outputs": [
    {
     "name": "stdout",
     "output_type": "stream",
     "text": [
      "Quantum computing is a type of computation that uses quantum bits (qubits) to perform calculations at speeds and efficiencies unattainable by classical computers, leveraging the principles of superposition and entanglement.\n"
     ]
    }
   ],
   "source": [
    "# use gpt-40-mini to perform text generation\n",
    "\n",
    "response = client.chat.completions.create(\n",
    "    messages=[{'role':'user','content':'help me understand Quantum Computing in one line'}],\n",
    "    model='myllm', # deployment name on azure\n",
    "    temperature=0.5\n",
    ")\n",
    "print(response.choices[0].message.content)"
   ]
  },
  {
   "cell_type": "markdown",
   "id": "3d62dbfd",
   "metadata": {},
   "source": [
    "## Prompting Structure\n",
    "\n",
    "System Instructions: static information\n",
    " - A set of policies/considerations/rules  for the LLM to follow\n",
    " - Role Playing: you are a senior programmer who comes with 15+ years of experience in writing python codes and write more optimum effective, readable, easy to debug python code.\n",
    "\n",
    " Main Prompt:\n",
    "\n",
    " - Instructions: CCS (clear concise and specific): Create a document, Summarize below text\n",
    " - Context: background information\n",
    " - data: some vairables, name of person, name of company.\n",
    " - Format: subjective formats: bullet points, paragraph, table. data formats: CSV, JSON,\n",
    " - Constraints: only 2 lines, not more than 30 words "
   ]
  },
  {
   "cell_type": "code",
   "execution_count": 4,
   "id": "6a73ea25",
   "metadata": {},
   "outputs": [
    {
     "name": "stdout",
     "output_type": "stream",
     "text": [
      "Machine Learning (ML) is a subset of artificial intelligence (AI) that focuses on the development of algorithms and statistical models that enable computers to perform tasks without explicit instructions. Instead, ML systems learn from and make predictions or decisions based on data. It involves training models on datasets to identify patterns and make inferences, allowing for applications such as classification, regression, clustering, and recommendation systems.\n"
     ]
    }
   ],
   "source": [
    "# Prompt template: use variables and define prompt structure/skeleton: f string\n",
    "\n",
    "\n",
    "topic = \"data science\"\n",
    "question = \"What is ML?\"\n",
    "\n",
    "prompt = f\"\"\"you are an expert programmer and senior engineer, I am going to ask some questions about {topic}\n",
    " answer the question in a concise way. \n",
    " here is the question: {question}\"\"\"\n",
    "\n",
    "\n",
    "messages = [{\"role\":\"system\",'content':\"you are an expert code and a helpful assistant\"},\n",
    "            {\"role\":\"user\",'content':prompt}]\n",
    "\n",
    "response = client.chat.completions.create(messages=messages,model='myllm',temperature=0.2)\n",
    "print(response.choices[0].message.content)"
   ]
  },
  {
   "cell_type": "code",
   "execution_count": null,
   "id": "50de95f9",
   "metadata": {},
   "outputs": [],
   "source": []
  }
 ],
 "metadata": {
  "kernelspec": {
   "display_name": "gen-ai",
   "language": "python",
   "name": "python3"
  },
  "language_info": {
   "codemirror_mode": {
    "name": "ipython",
    "version": 3
   },
   "file_extension": ".py",
   "mimetype": "text/x-python",
   "name": "python",
   "nbconvert_exporter": "python",
   "pygments_lexer": "ipython3",
   "version": "3.12.3"
  }
 },
 "nbformat": 4,
 "nbformat_minor": 5
}

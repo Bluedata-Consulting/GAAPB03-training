{
 "cells": [
  {
   "cell_type": "code",
   "execution_count": 1,
   "id": "c3545174",
   "metadata": {},
   "outputs": [],
   "source": [
    "from openai import AzureOpenAI\n",
    "\n",
    "client = AzureOpenAI()"
   ]
  },
  {
   "cell_type": "code",
   "execution_count": 3,
   "id": "85ead764",
   "metadata": {},
   "outputs": [
    {
     "name": "stdout",
     "output_type": "stream",
     "text": [
      "Quantum computing uses the principles of quantum mechanics to process information in fundamentally different ways than classical computers, enabling the potential for solving complex problems much faster.\n"
     ]
    }
   ],
   "source": [
    "# use gpt-40-mini to perform text generation\n",
    "\n",
    "response = client.chat.completions.create(\n",
    "    messages=[{'role':'user','content':'help me understand Quantum Computing in one line'}],\n",
    "    model='myllm', # deployment name on azure\n",
    "    temperature=0.5\n",
    ")\n",
    "print(response.choices[0].message.content)"
   ]
  },
  {
   "cell_type": "code",
   "execution_count": null,
   "id": "6a73ea25",
   "metadata": {},
   "outputs": [],
   "source": []
  }
 ],
 "metadata": {
  "kernelspec": {
   "display_name": "gen-ai",
   "language": "python",
   "name": "python3"
  },
  "language_info": {
   "codemirror_mode": {
    "name": "ipython",
    "version": 3
   },
   "file_extension": ".py",
   "mimetype": "text/x-python",
   "name": "python",
   "nbconvert_exporter": "python",
   "pygments_lexer": "ipython3",
   "version": "3.12.3"
  }
 },
 "nbformat": 4,
 "nbformat_minor": 5
}

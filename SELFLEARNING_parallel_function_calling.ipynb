{
  "cells": [
    {
      "cell_type": "markdown",
      "metadata": {
        "colab_type": "text",
        "id": "view-in-github"
      },
      "source": [
        "<a href=\"https://colab.research.google.com/github/Bluedata-Consulting/GAAPB01-training-code-base/blob/main/SELFLEARNING_parallel_function_calling.ipynb\" target=\"_parent\"><img src=\"https://colab.research.google.com/assets/colab-badge.svg\" alt=\"Open In Colab\"/></a>"
      ]
    },
    {
      "cell_type": "markdown",
      "metadata": {},
      "source": [
        "Notebook is available at:\n",
        "https://github.com/Bluedata-Consulting/GAAPB03-training"
      ]
    },
    {
      "cell_type": "markdown",
      "metadata": {
        "id": "gbCxadJVx88B"
      },
      "source": [
        "# Working with Parallel Function Calls and Multiple Function Responses"
      ]
    },
    {
      "cell_type": "markdown",
      "metadata": {
        "id": "CkHPv2myT2cx"
      },
      "source": [
        "## Overview\n",
        "\n",
        "Funciton Calling lets you create a description of a function in your code, then pass that description to a language model in a request. The response from the model includes the name of a function that matches the description and the arguments to call it with.\n",
        "\n",
        "In this tutorial, you'll learn how to work with parallel function calling including:\n",
        "    \n",
        "- Handling parallel function calls for repeated functions\n",
        "- Working with parallel function calls across multiple functions\n",
        "- Extracting multiple function calls from a Gemini response\n",
        "- Calling multiple functions and returning them to Gemini\n",
        "\n",
        "### What is parallel function calling?\n",
        "\n",
        "In previous versions of LLMs, it would return two or more chained function calls if the model determined that more than one function call was needed before returning a natural language summary. Here, a chained function call means that you get the first function call response, return the API data to Gemini, get a second function call response, return the API data to Gemini, and so on.\n",
        "\n",
        "In recent versions of specific Language models (from May 2024 and on), most language models have the ability to return two or more function calls in parallel (i.e., two or more function call responses within the first function call response object). Parallel function calling allows you to fan out and parallelize your API calls or other actions that you perform in your application code, so you don't have to work through each function call response and return one-by-one!\n",
        "\n",
        "\n",
        "<img src=\"https://storage.googleapis.com/github-repo/generative-ai/gemini/function-calling/parallel-function-calling-in-gemini.png\">"
      ]
    },
    {
      "cell_type": "markdown",
      "metadata": {
        "id": "Zv_B-CVXWyhH"
      },
      "source": [
        "Make Sure, Below Environment Variables are created already:\n",
        "\n",
        "\n",
        "```\n",
        "AZURE_OPENAI_API_KEY\n",
        "AZURE_OPENAI_ENDPOINT\n",
        "\n",
        "```"
      ]
    },
    {
      "cell_type": "code",
      "execution_count": 49,
      "metadata": {
        "id": "DOpAUfaRWvFj"
      },
      "outputs": [],
      "source": [
        "import os\n",
        "os.environ['AZURE_OPENAI_ENDPOINT'] = \"\"\n",
        "os.environ['AZURE_OPENAI_API_KEY'] = \"\""
      ]
    },
    {
      "cell_type": "code",
      "execution_count": 50,
      "metadata": {
        "id": "nBMVh0ldtsDP"
      },
      "outputs": [],
      "source": [
        "!pip install wikipedia openai --quiet"
      ]
    },
    {
      "cell_type": "code",
      "execution_count": 51,
      "metadata": {
        "id": "OFag1daziout"
      },
      "outputs": [],
      "source": [
        "from openai import AzureOpenAI\n",
        "client = AzureOpenAI(api_version=\"2024-12-01-preview\")"
      ]
    },
    {
      "cell_type": "markdown",
      "metadata": {
        "id": "o77Xl_JDjvYf"
      },
      "source": [
        "### Define helper function"
      ]
    },
    {
      "cell_type": "code",
      "execution_count": 52,
      "metadata": {
        "id": "izsb1jgbuWnM"
      },
      "outputs": [],
      "source": [
        "def extract_tool_calls(response: dict):\n",
        "    tool_calls = []\n",
        "    tool_call = response.choices[0].message.tool_calls\n",
        "    if tool_call:\n",
        "        for tool in tool_call:\n",
        "            function_name = tool.function.name\n",
        "            function_args = eval(tool.function.arguments)  # Safely convert string to dictionary\n",
        "            function_call_dict = {function_name: function_args}\n",
        "            function_call_dict['id'] = tool.id\n",
        "            tool_calls.append(function_call_dict)\n",
        "\n",
        "    return tool_calls"
      ]
    },
    {
      "cell_type": "markdown",
      "metadata": {
        "id": "j3KHAr6BsJY6"
      },
      "source": [
        "## Example: Parallel function calls on the same function\n",
        "\n",
        "A great use case for parallel function calling is when you have a function that only accepts one parameter per API call and you need to make repeated calls to that function.\n",
        "\n",
        "With Parallel Function Calling, rather than having to send N number of API requests to LLM for N number function calls, instead you can send a single API request to LLM, receive N number of Function Call Responses within a single response, make N number of external API calls in your code, then return all of the API responses to LLM in bulk. And you can do all of this without any extra configuration in your function declarations, tools, or requests to LLM.\n",
        "\n",
        "In this example, you'll do exactly that and use Parallel Function Calling in LLM to ask about multiple topics on [Wikipedia](https://www.wikipedia.org/). Let's get started!\n"
      ]
    },
    {
      "cell_type": "code",
      "execution_count": 53,
      "metadata": {
        "id": "E82hDrsVutvP"
      },
      "outputs": [],
      "source": [
        "tools = [\n",
        "    {\n",
        "        \"type\": \"function\",\n",
        "        \"function\": {\n",
        "            \"name\": \"search_wikipedia\",\n",
        "            \"description\": \"Search for articles or any other relevant information on Wikipedia'\",\n",
        "            \"parameters\": {\n",
        "                \"type\": \"object\",\n",
        "                \"properties\": {\n",
        "                    \"query\": {\n",
        "                        \"type\": \"string\",\n",
        "                        \"description\": \"Query to search for on Wikipedia\"\n",
        "                    }\n",
        "                },\n",
        "                \"required\": [\"query\"],\n",
        "                \"additionalProperties\": False\n",
        "            }\n",
        "        }\n",
        "    }\n",
        "]"
      ]
    },
    {
      "cell_type": "code",
      "execution_count": 54,
      "metadata": {
        "id": "t6wL8go_uvvJ"
      },
      "outputs": [],
      "source": [
        "### Send prompt to OpenAI GPT-4o with function calling\n",
        "prompt = \"Search for articles related to solar panels, renewable energy, and battery storage and provide a summary of your findings\""
      ]
    },
    {
      "cell_type": "code",
      "execution_count": 55,
      "metadata": {
        "id": "xxLnBJGiuyZi"
      },
      "outputs": [],
      "source": [
        "response = client.chat.completions.create(\n",
        "    model=\"telcogpt\",\n",
        "    messages=[\n",
        "        {\"role\": \"system\", \"content\": \"You are a helpful assistant.\"},\n",
        "        {\"role\": \"user\", \"content\": prompt}\n",
        "    ],\n",
        "    tools=tools,\n",
        "    tool_choice=\"auto\",\n",
        ")\n"
      ]
    },
    {
      "cell_type": "code",
      "execution_count": 56,
      "metadata": {
        "colab": {
          "base_uri": "https://localhost:8080/"
        },
        "id": "WUpmzF8rzV92",
        "outputId": "f6ed5577-f93b-4ce9-b3e4-f35fb0795ff5"
      },
      "outputs": [
        {
          "data": {
            "text/plain": [
              "[ChatCompletionMessageToolCall(id='call_KPFpBshYWsCIJcimFa4021io', function=Function(arguments='{\"query\": \"solar panels\"}', name='search_wikipedia'), type='function'),\n",
              " ChatCompletionMessageToolCall(id='call_4b5HxxomqxB35006s6GBsKUm', function=Function(arguments='{\"query\": \"renewable energy\"}', name='search_wikipedia'), type='function'),\n",
              " ChatCompletionMessageToolCall(id='call_Zg2rlrob50W2V54H5elrKIhY', function=Function(arguments='{\"query\": \"battery storage\"}', name='search_wikipedia'), type='function')]"
            ]
          },
          "execution_count": 56,
          "metadata": {},
          "output_type": "execute_result"
        }
      ],
      "source": [
        "response.choices[0].message.tool_calls"
      ]
    },
    {
      "cell_type": "code",
      "execution_count": 57,
      "metadata": {
        "colab": {
          "base_uri": "https://localhost:8080/"
        },
        "id": "ZVl-2MLHzIQ5",
        "outputId": "a9c16668-0d54-4d96-ebfe-c7d49be8c1fd"
      },
      "outputs": [
        {
          "name": "stdout",
          "output_type": "stream",
          "text": [
            "{\n",
            "  \"id\": \"chatcmpl-BUo5qWwcth4Gsfb91aYwmqpyzQZRF\",\n",
            "  \"choices\": [\n",
            "    {\n",
            "      \"finish_reason\": \"length\",\n",
            "      \"index\": 0,\n",
            "      \"logprobs\": null,\n",
            "      \"message\": {\n",
            "        \"content\": \"Artificial Intelligence (AI) is the branch of computer\",\n",
            "        \"refusal\": null,\n",
            "        \"role\": \"assistant\",\n",
            "        \"annotations\": [],\n",
            "        \"audio\": null,\n",
            "        \"function_call\": null,\n",
            "        \"tool_calls\": null\n",
            "      },\n",
            "      \"content_filter_results\": {\n",
            "        \"hate\": {\n",
            "          \"filtered\": false,\n",
            "          \"severity\": \"safe\"\n",
            "        },\n",
            "        \"protected_material_code\": {\n",
            "          \"filtered\": false,\n",
            "          \"detected\": false\n",
            "        },\n",
            "        \"protected_material_text\": {\n",
            "          \"filtered\": false,\n",
            "          \"detected\": false\n",
            "        },\n",
            "        \"self_harm\": {\n",
            "          \"filtered\": false,\n",
            "          \"severity\": \"safe\"\n",
            "        },\n",
            "        \"sexual\": {\n",
            "          \"filtered\": false,\n",
            "          \"severity\": \"safe\"\n",
            "        },\n",
            "        \"violence\": {\n",
            "          \"filtered\": false,\n",
            "          \"severity\": \"safe\"\n",
            "        }\n",
            "      }\n",
            "    },\n",
            "    {\n",
            "      \"finish_reason\": \"length\",\n",
            "      \"index\": 1,\n",
            "      \"logprobs\": null,\n",
            "      \"message\": {\n",
            "        \"content\": \"Artificial Intelligence (AI) is the branch of computer\",\n",
            "        \"refusal\": null,\n",
            "        \"role\": \"assistant\",\n",
            "        \"annotations\": [],\n",
            "        \"audio\": null,\n",
            "        \"function_call\": null,\n",
            "        \"tool_calls\": null\n",
            "      },\n",
            "      \"content_filter_results\": {\n",
            "        \"hate\": {\n",
            "          \"filtered\": false,\n",
            "          \"severity\": \"safe\"\n",
            "        },\n",
            "        \"protected_material_code\": {\n",
            "          \"filtered\": false,\n",
            "          \"detected\": false\n",
            "        },\n",
            "        \"protected_material_text\": {\n",
            "          \"filtered\": false,\n",
            "          \"detected\": false\n",
            "        },\n",
            "        \"self_harm\": {\n",
            "          \"filtered\": false,\n",
            "          \"severity\": \"safe\"\n",
            "        },\n",
            "        \"sexual\": {\n",
            "          \"filtered\": false,\n",
            "          \"severity\": \"safe\"\n",
            "        },\n",
            "        \"violence\": {\n",
            "          \"filtered\": false,\n",
            "          \"severity\": \"safe\"\n",
            "        }\n",
            "      }\n",
            "    }\n",
            "  ],\n",
            "  \"created\": 1746682098,\n",
            "  \"model\": \"gpt-4.1-mini-2025-04-14\",\n",
            "  \"object\": \"chat.completion\",\n",
            "  \"service_tier\": null,\n",
            "  \"system_fingerprint\": \"fp_c8225066ea\",\n",
            "  \"usage\": {\n",
            "    \"completion_tokens\": 20,\n",
            "    \"prompt_tokens\": 10,\n",
            "    \"total_tokens\": 30,\n",
            "    \"completion_tokens_details\": {\n",
            "      \"accepted_prediction_tokens\": 0,\n",
            "      \"audio_tokens\": 0,\n",
            "      \"reasoning_tokens\": 0,\n",
            "      \"rejected_prediction_tokens\": 0\n",
            "    },\n",
            "    \"prompt_tokens_details\": {\n",
            "      \"audio_tokens\": 0,\n",
            "      \"cached_tokens\": 0\n",
            "    }\n",
            "  },\n",
            "  \"prompt_filter_results\": [\n",
            "    {\n",
            "      \"prompt_index\": 0,\n",
            "      \"content_filter_results\": {\n",
            "        \"hate\": {\n",
            "          \"filtered\": false,\n",
            "          \"severity\": \"safe\"\n",
            "        },\n",
            "        \"jailbreak\": {\n",
            "          \"filtered\": false,\n",
            "          \"detected\": false\n",
            "        },\n",
            "        \"self_harm\": {\n",
            "          \"filtered\": false,\n",
            "          \"severity\": \"safe\"\n",
            "        },\n",
            "        \"sexual\": {\n",
            "          \"filtered\": false,\n",
            "          \"severity\": \"safe\"\n",
            "        },\n",
            "        \"violence\": {\n",
            "          \"filtered\": false,\n",
            "          \"severity\": \"safe\"\n",
            "        }\n",
            "      }\n",
            "    }\n",
            "  ]\n",
            "}\n"
          ]
        }
      ],
      "source": [
        "response2 = client.chat.completions.create(model='telcogpt',\n",
        "                                           messages=[{\"role\":\"user\",\"content\":\"Define Artificial Intelligence\"}],\n",
        "                                           max_tokens=10,n=2)\n",
        "\n",
        "print(response2.model_dump_json(indent=2))"
      ]
    },
    {
      "cell_type": "code",
      "execution_count": 58,
      "metadata": {
        "colab": {
          "base_uri": "https://localhost:8080/"
        },
        "id": "m0InetGGvIXQ",
        "outputId": "8f5c57df-71ce-43b0-b2bf-d4e5e69a020c"
      },
      "outputs": [
        {
          "name": "stdout",
          "output_type": "stream",
          "text": [
            "{\n",
            "  \"id\": \"chatcmpl-BUo5pzoTxmQWAXwGQS1zBNhjxOvPB\",\n",
            "  \"choices\": [\n",
            "    {\n",
            "      \"finish_reason\": \"tool_calls\",\n",
            "      \"index\": 0,\n",
            "      \"logprobs\": null,\n",
            "      \"message\": {\n",
            "        \"content\": null,\n",
            "        \"refusal\": null,\n",
            "        \"role\": \"assistant\",\n",
            "        \"annotations\": [],\n",
            "        \"audio\": null,\n",
            "        \"function_call\": null,\n",
            "        \"tool_calls\": [\n",
            "          {\n",
            "            \"id\": \"call_KPFpBshYWsCIJcimFa4021io\",\n",
            "            \"function\": {\n",
            "              \"arguments\": \"{\\\"query\\\": \\\"solar panels\\\"}\",\n",
            "              \"name\": \"search_wikipedia\"\n",
            "            },\n",
            "            \"type\": \"function\"\n",
            "          },\n",
            "          {\n",
            "            \"id\": \"call_4b5HxxomqxB35006s6GBsKUm\",\n",
            "            \"function\": {\n",
            "              \"arguments\": \"{\\\"query\\\": \\\"renewable energy\\\"}\",\n",
            "              \"name\": \"search_wikipedia\"\n",
            "            },\n",
            "            \"type\": \"function\"\n",
            "          },\n",
            "          {\n",
            "            \"id\": \"call_Zg2rlrob50W2V54H5elrKIhY\",\n",
            "            \"function\": {\n",
            "              \"arguments\": \"{\\\"query\\\": \\\"battery storage\\\"}\",\n",
            "              \"name\": \"search_wikipedia\"\n",
            "            },\n",
            "            \"type\": \"function\"\n",
            "          }\n",
            "        ]\n",
            "      },\n",
            "      \"content_filter_results\": {}\n",
            "    }\n",
            "  ],\n",
            "  \"created\": 1746682097,\n",
            "  \"model\": \"gpt-4.1-mini-2025-04-14\",\n",
            "  \"object\": \"chat.completion\",\n",
            "  \"service_tier\": null,\n",
            "  \"system_fingerprint\": \"fp_c8225066ea\",\n",
            "  \"usage\": {\n",
            "    \"completion_tokens\": 66,\n",
            "    \"prompt_tokens\": 84,\n",
            "    \"total_tokens\": 150,\n",
            "    \"completion_tokens_details\": {\n",
            "      \"accepted_prediction_tokens\": 0,\n",
            "      \"audio_tokens\": 0,\n",
            "      \"reasoning_tokens\": 0,\n",
            "      \"rejected_prediction_tokens\": 0\n",
            "    },\n",
            "    \"prompt_tokens_details\": {\n",
            "      \"audio_tokens\": 0,\n",
            "      \"cached_tokens\": 0\n",
            "    }\n",
            "  },\n",
            "  \"prompt_filter_results\": [\n",
            "    {\n",
            "      \"prompt_index\": 0,\n",
            "      \"content_filter_results\": {\n",
            "        \"hate\": {\n",
            "          \"filtered\": false,\n",
            "          \"severity\": \"safe\"\n",
            "        },\n",
            "        \"jailbreak\": {\n",
            "          \"filtered\": false,\n",
            "          \"detected\": false\n",
            "        },\n",
            "        \"self_harm\": {\n",
            "          \"filtered\": false,\n",
            "          \"severity\": \"safe\"\n",
            "        },\n",
            "        \"sexual\": {\n",
            "          \"filtered\": false,\n",
            "          \"severity\": \"safe\"\n",
            "        },\n",
            "        \"violence\": {\n",
            "          \"filtered\": false,\n",
            "          \"severity\": \"safe\"\n",
            "        }\n",
            "      }\n",
            "    }\n",
            "  ]\n",
            "}\n"
          ]
        }
      ],
      "source": [
        "print(response.model_dump_json(indent=2))"
      ]
    },
    {
      "cell_type": "code",
      "execution_count": 59,
      "metadata": {
        "colab": {
          "base_uri": "https://localhost:8080/"
        },
        "id": "d9GkXrgau8Tg",
        "outputId": "f3465b05-7a2b-48cc-c376-2cabe1074bf0"
      },
      "outputs": [
        {
          "name": "stdout",
          "output_type": "stream",
          "text": [
            "[{'search_wikipedia': {'query': 'solar panels'}, 'id': 'call_KPFpBshYWsCIJcimFa4021io'}, {'search_wikipedia': {'query': 'renewable energy'}, 'id': 'call_4b5HxxomqxB35006s6GBsKUm'}, {'search_wikipedia': {'query': 'battery storage'}, 'id': 'call_Zg2rlrob50W2V54H5elrKIhY'}]\n"
          ]
        }
      ],
      "source": [
        "# Extract function calls from the response\n",
        "tool_calls = extract_tool_calls(response)\n",
        "print(tool_calls)"
      ]
    },
    {
      "cell_type": "code",
      "execution_count": 60,
      "metadata": {
        "colab": {
          "base_uri": "https://localhost:8080/"
        },
        "id": "uyBpfsFR0Hsu",
        "outputId": "89e48f70-7a2b-4b51-85d6-827ccbb88626"
      },
      "outputs": [
        {
          "name": "stdout",
          "output_type": "stream",
          "text": [
            "{'search_wikipedia': {'query': 'solar panels'}, 'id': 'call_KPFpBshYWsCIJcimFa4021io'}\n",
            "{'search_wikipedia': {'query': 'renewable energy'}, 'id': 'call_4b5HxxomqxB35006s6GBsKUm'}\n",
            "{'search_wikipedia': {'query': 'battery storage'}, 'id': 'call_Zg2rlrob50W2V54H5elrKIhY'}\n"
          ]
        }
      ],
      "source": [
        "### Make external API calls\n",
        "import wikipedia\n",
        "api_response = []\n",
        "\n",
        "# Loop over multiple function calls\n",
        "for tool in tool_calls:\n",
        "    print(tool)\n",
        "\n",
        "    # Make external API call\n",
        "    result = wikipedia.summary(tool[\"search_wikipedia\"][\"query\"])\n",
        "\n",
        "    # Collect all API responses\n",
        "    api_response.append(result)"
      ]
    },
    {
      "cell_type": "code",
      "execution_count": 61,
      "metadata": {
        "colab": {
          "base_uri": "https://localhost:8080/"
        },
        "id": "gbSSzesj0psA",
        "outputId": "bf3f91f6-91b4-491e-cea1-c02c360ed90c"
      },
      "outputs": [
        {
          "name": "stdout",
          "output_type": "stream",
          "text": [
            "A solar panel is a device that converts sunlight into electricity by using photovoltaic (PV) cells. PV cells are made of materials that produce excited electrons when exposed to light. These electrons flow through a circuit and produce direct current (DC) electricity, which can be used to power various devices or be stored in batteries. Solar panels are also known as solar cell panels, solar electric panels, or PV modules.\n",
            "Solar panels are usually arranged in groups called arrays or systems. A photovoltaic system consists of one or more solar panels, an inverter that converts DC electricity to alternating current (AC) electricity, and sometimes other components such as controllers, meters, and trackers. Most panels are in solar farms or rooftop solar panels which  supply the electricity grid.\n",
            "Some advantages of solar panels are that they use a renewable and clean source of energy, reduce greenhouse gas emissions, and lower electricity bills. Some disadvantages are that they depend on the availability and intensity of sunlight, require cleaning, and have high initial costs. Solar panels are widely used for residential, commercial, and industrial purposes, as well as in space, often together with batteries.\n",
            "\n",
            "\n",
            "Renewable energy (also called green energy) is energy made from renewable natural resources that are replenished on a human timescale. The most widely used renewable energy types are solar energy, wind power, and hydropower. Bioenergy and geothermal power are also significant in some countries. Some also consider nuclear power a renewable power source, although this is controversial, as nuclear energy requires mining uranium, a nonrenewable resource. Renewable energy installations can be large or small and are suited for both urban and rural areas. Renewable energy is often deployed together with further electrification. This has several benefits: electricity can move heat and vehicles efficiently and is clean at the point of consumption. Variable renewable energy sources are those that have a fluctuating nature, such as wind power and solar power. In contrast, controllable renewable energy sources include dammed hydroelectricity, bioenergy, or geothermal power.\n",
            "\n",
            "Renewable energy systems have rapidly become more efficient and cheaper over the past 30 years. A large majority of worldwide newly installed electricity capacity is now renewable. Renewable energy sources, such as solar and wind power, have seen significant cost reductions over the past decade, making them more competitive with traditional fossil fuels. In most countries, photovoltaic solar or onshore wind are the cheapest new-build electricity. From 2011 to 2021, renewable energy grew from 20% to 28% of global electricity supply. Power from the sun and wind accounted for most of this increase, growing from a combined 2% to 10%. Use of fossil energy shrank from 68% to 62%. In 2024, renewables accounted for over 30% of global electricity generation and are projected to reach over 45% by 2030. Many countries already have renewables contributing more than 20% of their total energy supply, with some generating over half or even all their electricity from renewable sources.\n",
            "The main motivation to use renewable energy instead of fossil fuels is to slow and eventually stop climate change, which is mostly caused by their greenhouse gas emissions. In general, renewable energy sources pollute much less than fossil fuels. The International Energy Agency estimates that to achieve net zero emissions by 2050, 90% of global electricity will need to be generated by renewables. Renewables also cause much less air pollution than fossil fuels, improving public health, and are less noisy.\n",
            "\n",
            "The deployment of renewable energy still faces obstacles, especially fossil fuel subsidies, lobbying by incumbent power providers, and local opposition to the use of land for renewable installations. Like all mining, the extraction of minerals required for many renewable energy technologies also results in environmental damage. In addition, although most renewable energy sources are sustainable, some are not. \n",
            "\n",
            "\n",
            "A battery energy storage system (BESS), battery storage power station, battery energy grid storage (BEGS) or battery grid storage is a type of energy storage technology that uses a group of batteries in the grid to store electrical energy. Battery storage is the fastest responding dispatchable source of power on electric grids, and it is used to stabilise those grids, as battery storage can transition from standby to full power in under a second to deal with grid contingencies.\n",
            "Battery energy storage systems are generally designed to be able to output at their full rated power for several hours. Battery storage can be used for short-term peak power and ancillary services, such as providing operating reserve and frequency control to minimize the chance of power outages. They are often installed at, or close to, other active or disused power stations and may share the same grid connection to reduce costs. Since battery storage plants require no deliveries of fuel, are compact compared to generating stations and have no chimneys or large cooling systems, they can be rapidly installed and placed if necessary within urban areas, close to customer load, or even inside customer premises.\n",
            "As of 2021, the power and capacity of the largest individual battery storage system is an order of magnitude less than that of the largest pumped-storage power plants, the most common form of grid energy storage. For example, the Bath County Pumped Storage Station, the second largest in the world, can store 24 GWh of electricity and dispatch 3 GW while the first phase of Vistra Energy's Moss Landing Energy Storage Facility can store 1.2 GWh and dispatch 300 MW. However, grid batteries do not have to be large — a high number of smaller ones (often as hybrid power) can be widely deployed across a grid for greater redundancy and large overall capacity.\n",
            "As of 2019, battery power storage is typically cheaper than open cycle gas turbine power for use up to two hours, and there was around 365 GWh of battery storage deployed worldwide, growing rapidly. \n",
            "Levelized cost of storage (LCOS) has fallen rapidly. From 2014 to 2024, cost halving time was 4.1 years. The price was US$150 per MWh in 2020, and further reduced to US$117 by 2023.\n",
            "The global battery energy storage system market is expected to reach an estimated $33 billion by 2030 with a CAGR of 7% from 2023 to 2030. The major drivers for this market are increasing demand for grid-connected solutions, high demand for the lithium-ion technology in the renewable energy industry, and declining prices of lithium-ion batteries.\n"
          ]
        }
      ],
      "source": [
        "for res in api_response:\n",
        "    print(res)"
      ]
    },
    {
      "cell_type": "code",
      "execution_count": 62,
      "metadata": {
        "id": "iRxpmE3r2eow"
      },
      "outputs": [],
      "source": [
        "\n",
        "### Generate a natural language summary\n",
        "messages=[\n",
        "        {\"role\": \"system\", \"content\": \"You are a helpful assistant.\"},\n",
        "        {\"role\": \"user\", \"content\": prompt},]\n",
        "\n",
        "messages.append(response.choices[0].message)\n",
        "for tool,res in zip(tool_calls,api_response):\n",
        "  messages.append({\"tool_call_id\": tool['id'],\n",
        "                   \"role\": \"tool\",\n",
        "                   \"name\": 'search_wikipedia',\n",
        "                   \"content\": res,})\n"
      ]
    },
    {
      "cell_type": "code",
      "execution_count": 63,
      "metadata": {
        "id": "_6RJnN1lusA3"
      },
      "outputs": [],
      "source": [
        "# Now we return all API responses back to GPT-4 to summarize\n",
        "\n",
        "new_response = client.chat.completions.create(\n",
        "    model=\"telcogpt\",\n",
        "    messages = messages)"
      ]
    },
    {
      "cell_type": "code",
      "execution_count": 64,
      "metadata": {
        "colab": {
          "base_uri": "https://localhost:8080/"
        },
        "id": "Hhf-dmA737LP",
        "outputId": "4532e963-2821-4167-9d8a-74ef86f941c6"
      },
      "outputs": [
        {
          "name": "stdout",
          "output_type": "stream",
          "text": [
            "Here is a summary of findings related to solar panels, renewable energy, and battery storage:\n",
            "\n",
            "1. Solar Panels:\n",
            "- Solar panels convert sunlight into electricity using photovoltaic (PV) cells, which generate direct current (DC) electricity.\n",
            "- Panels are grouped into arrays or systems, often including inverters to convert DC to alternating current (AC).\n",
            "- Commonly used in solar farms and rooftop installations, solar panels provide clean, renewable energy that reduces greenhouse gas emissions and electricity costs.\n",
            "- Challenges include dependence on sunlight availability, maintenance needs, and high initial costs.\n",
            "\n",
            "2. Renewable Energy:\n",
            "- Renewable energy comes from natural resources replenished on a human timescale, including solar, wind, hydropower, bioenergy, and geothermal power.\n",
            "- Renewable energy use is rapidly growing worldwide due to increased efficiency and falling costs, with solar and wind being the most prominent.\n",
            "- Renewables now account for over 30% of global electricity generation, projected to exceed 45% by 2030.\n",
            "- Using renewables helps mitigate climate change by reducing greenhouse gas emissions and pollution.\n",
            "- Challenges include fossil fuel subsidies, industry lobbying, local opposition, and environmental impacts of mineral extraction for renewable technologies.\n",
            "\n",
            "3. Battery Storage:\n",
            "- Battery energy storage systems (BESS) store electrical energy using batteries connected to the grid, providing fast response power to stabilize electricity grids.\n",
            "- Batteries can deliver full power for several hours and support peak power demands and grid stability services.\n",
            "- Battery storage systems are compact, fuel-free, and can be installed near load centers or within urban areas.\n",
            "- Although battery storage capacities are smaller than large pumped-storage hydro plants, many smaller grid batteries can be deployed for resilience and capacity.\n",
            "- Battery storage costs have decreased significantly, with continued market growth driven by demand for renewable energy integration and lithium-ion technologies.\n",
            "- The battery storage market is expected to grow to $33 billion by 2030.\n",
            "\n",
            "In summary, solar panels and battery storage technologies are crucial components of the expanding renewable energy landscape, helping to increase clean energy supply and grid stability worldwide.\n"
          ]
        }
      ],
      "source": [
        "\n",
        "# Display the final summary\n",
        "print(new_response.choices[0].message.content)"
      ]
    },
    {
      "cell_type": "markdown",
      "metadata": {
        "id": "riYC7Z-RjvYl"
      },
      "source": [
        "## Example: Parallel function calls across multiple functions\n",
        "\n",
        "Another good fit for parallel function calling is when you have multiple, independent functions that you want to be able to call in parallel, which reduces the number of consecutive OpenAI API calls that you need to make and (ideally) reduces the overall response time to the end user who is waiting for a natural language response.\n",
        "\n",
        "In this example, you'll use Parallel Function Calling in LLM to ask about multiple aspects of topics and articles on [Wikipedia](https://www.wikipedia.org/).\n"
      ]
    },
    {
      "cell_type": "code",
      "execution_count": 65,
      "metadata": {
        "id": "niPXM0mwjvYl"
      },
      "outputs": [],
      "source": [
        "tools = [\n",
        "    {\n",
        "        \"type\": \"function\",\n",
        "        \"function\": {\n",
        "            \"name\": \"search_wikipedia\",\n",
        "            \"description\": \"Search for articles or any other relevant information on Wikipedia\",\n",
        "            \"parameters\": {\n",
        "                \"type\": \"object\",\n",
        "                \"properties\": {\n",
        "                    \"query\": {\n",
        "                        \"type\": \"string\",\n",
        "                        \"description\": \"Query to search for on Wikipedia\"\n",
        "                    }\n",
        "                },\n",
        "                \"required\": [\"query\"],\n",
        "                \"additionalProperties\": False\n",
        "            }\n",
        "        }\n",
        "    },\n",
        "    {\n",
        "        \"type\": \"function\",\n",
        "        \"function\": {\n",
        "            \"name\": \"suggest_wikipedia\",\n",
        "            \"description\": \"Get suggested titles from Wikipedia based on the given query term\",\n",
        "            \"parameters\": {\n",
        "                \"type\": \"object\",\n",
        "                \"properties\": {\n",
        "                    \"query\": {\n",
        "                        \"type\": \"string\",\n",
        "                        \"description\": \"Query to search for suggested titles on Wikipedia\"\n",
        "                    }\n",
        "                },\n",
        "                \"required\": [\"query\"],\n",
        "                \"additionalProperties\": False\n",
        "            }\n",
        "        }\n",
        "    },\n",
        "    {\n",
        "        \"type\": \"function\",\n",
        "        \"function\": {\n",
        "            \"name\": \"summarize_wikipedia\",\n",
        "            \"description\": \"Retrieve brief summaries of Wikipedia articles related to a given topic\",\n",
        "            \"parameters\": {\n",
        "                \"type\": \"object\",\n",
        "                \"properties\": {\n",
        "                    \"topic\": {\n",
        "                        \"type\": \"string\",\n",
        "                        \"description\": \"Topic to search for article summaries on Wikipedia\"\n",
        "                    }\n",
        "                },\n",
        "                \"required\": [\"topic\"],\n",
        "                \"additionalProperties\": False\n",
        "            }\n",
        "        }\n",
        "    }\n",
        "]\n"
      ]
    },
    {
      "cell_type": "code",
      "execution_count": 66,
      "metadata": {
        "id": "YwOD7xNN57tN"
      },
      "outputs": [],
      "source": [
        "prompt = \"Show the search results, variations, and article summaries about Wikipedia articles related to the solar system\""
      ]
    },
    {
      "cell_type": "code",
      "execution_count": 67,
      "metadata": {
        "id": "3_C4s7WQ57wJ"
      },
      "outputs": [],
      "source": [
        "response = client.chat.completions.create(\n",
        "    model='telcogpt',\n",
        "    messages=[\n",
        "        {\"role\": \"system\", \"content\": \"You are a helpful assistant.\"},\n",
        "        {\"role\": \"user\", \"content\": prompt}\n",
        "    ],\n",
        "    tools=tools,\n",
        "    tool_choice='auto'\n",
        ")\n"
      ]
    },
    {
      "cell_type": "code",
      "execution_count": 68,
      "metadata": {
        "colab": {
          "base_uri": "https://localhost:8080/"
        },
        "id": "wPixYdKJ57wJ",
        "outputId": "fd515005-ea85-45fb-ad67-b3ea65fa4028"
      },
      "outputs": [
        {
          "data": {
            "text/plain": [
              "[ChatCompletionMessageToolCall(id='call_6ymN1z9Ibfj2xiA8LVDPng1s', function=Function(arguments='{\"query\": \"solar system\"}', name='search_wikipedia'), type='function'),\n",
              " ChatCompletionMessageToolCall(id='call_WCF4fVdWTN7Auc5j5el5XYGW', function=Function(arguments='{\"query\": \"solar system\"}', name='suggest_wikipedia'), type='function'),\n",
              " ChatCompletionMessageToolCall(id='call_QLBQKp8M1Fx5Y0e0PAtKD9Lf', function=Function(arguments='{\"topic\": \"solar system\"}', name='summarize_wikipedia'), type='function')]"
            ]
          },
          "execution_count": 68,
          "metadata": {},
          "output_type": "execute_result"
        }
      ],
      "source": [
        "response.choices[0].message.tool_calls"
      ]
    },
    {
      "cell_type": "markdown",
      "metadata": {
        "id": "0mp8zaBhjvYo"
      },
      "source": [
        "### Extract function names and parameters\n",
        "\n",
        "Use the helper function that we created earlier to extract the function names and function parameters for each Function Call that LLM responded with:"
      ]
    },
    {
      "cell_type": "code",
      "execution_count": 69,
      "metadata": {
        "colab": {
          "base_uri": "https://localhost:8080/"
        },
        "id": "AL4sQ7RQ57wK",
        "outputId": "9e0a0792-f230-4437-c303-dd6423683fad"
      },
      "outputs": [
        {
          "name": "stdout",
          "output_type": "stream",
          "text": [
            "[{'search_wikipedia': {'query': 'solar system'}, 'id': 'call_6ymN1z9Ibfj2xiA8LVDPng1s'}, {'suggest_wikipedia': {'query': 'solar system'}, 'id': 'call_WCF4fVdWTN7Auc5j5el5XYGW'}, {'summarize_wikipedia': {'topic': 'solar system'}, 'id': 'call_QLBQKp8M1Fx5Y0e0PAtKD9Lf'}]\n"
          ]
        }
      ],
      "source": [
        "# Extract function calls from the response\n",
        "tool_calls = extract_tool_calls(response)\n",
        "print(tool_calls)"
      ]
    },
    {
      "cell_type": "markdown",
      "metadata": {
        "id": "ZgLqFRJsjvYy"
      },
      "source": [
        "### Make external API calls\n",
        "\n",
        "Next, you'll loop through the Function Calls and use the `wikipedia` Python package to make APIs calls and gather information from Wikipedia:"
      ]
    },
    {
      "cell_type": "code",
      "execution_count": 70,
      "metadata": {
        "colab": {
          "base_uri": "https://localhost:8080/"
        },
        "id": "MrnQf3RcjvYz",
        "outputId": "d55ed976-a363-4b79-b6c6-ae6979beac35"
      },
      "outputs": [
        {
          "name": "stdout",
          "output_type": "stream",
          "text": [
            "{'search_wikipedia': {'query': 'solar system'}, 'id': 'call_6ymN1z9Ibfj2xiA8LVDPng1s'}\n",
            "{'suggest_wikipedia': {'query': 'solar system'}, 'id': 'call_WCF4fVdWTN7Auc5j5el5XYGW'}\n",
            "{'summarize_wikipedia': {'topic': 'solar system'}, 'id': 'call_QLBQKp8M1Fx5Y0e0PAtKD9Lf'}\n"
          ]
        }
      ],
      "source": [
        "api_response = {}\n",
        "\n",
        "# Loop over multiple function calls\n",
        "for tool in tool_calls:\n",
        "    # Extract the function name\n",
        "    print(tool)\n",
        "    function_name = list(tool.keys())[0]\n",
        "\n",
        "    # Determine which external API call to make\n",
        "    if function_name == \"search_wikipedia\":\n",
        "        result = wikipedia.search(tool[\"search_wikipedia\"][\"query\"])\n",
        "    if function_name == \"suggest_wikipedia\":\n",
        "        result = wikipedia.suggest(tool[\"suggest_wikipedia\"][\"query\"])\n",
        "    if function_name == \"summarize_wikipedia\":\n",
        "        result = wikipedia.summary(\n",
        "            tool[\"summarize_wikipedia\"][\"topic\"], auto_suggest=False\n",
        "        )\n",
        "\n",
        "    # Collect all API responses\n",
        "    api_response[function_name] = result"
      ]
    },
    {
      "cell_type": "code",
      "execution_count": 71,
      "metadata": {
        "colab": {
          "base_uri": "https://localhost:8080/"
        },
        "id": "wUcd30f260Od",
        "outputId": "8481f4ad-f11d-48e3-b76c-36bfbd058db6"
      },
      "outputs": [
        {
          "data": {
            "text/plain": [
              "{'search_wikipedia': ['Solar System',\n",
              "  'Formation and evolution of the Solar System',\n",
              "  'List of Solar System objects by size',\n",
              "  'Solar System belts',\n",
              "  'Solar power',\n",
              "  'Exoplanet',\n",
              "  'Photovoltaic system',\n",
              "  'List of Solar System objects',\n",
              "  'List of natural satellites',\n",
              "  'Solar water heating'],\n",
              " 'suggest_wikipedia': 'soler system',\n",
              " 'summarize_wikipedia': \"The Solar System is the gravitationally bound system of the Sun and the objects that orbit it. It formed about 4.6 billion years ago when a dense region of a molecular cloud collapsed, forming the Sun and a protoplanetary disc. The Sun is a typical star that maintains a balanced equilibrium by the fusion of hydrogen into helium at its core, releasing this energy from its outer photosphere. Astronomers classify it as a G-type main-sequence star.\\nThe largest objects that orbit the Sun are the eight planets. In order from the Sun, they are four terrestrial planets (Mercury, Venus, Earth and Mars); two gas giants (Jupiter and Saturn); and two ice giants (Uranus and Neptune). All terrestrial planets have solid surfaces. Inversely, all giant planets do not have a definite surface, as they are mainly composed of gases and liquids. Over 99.86% of the Solar System's mass is in the Sun and nearly 90% of the remaining mass is in Jupiter and Saturn.\\nThere is a strong consensus among astronomers that the Solar System has at least nine dwarf planets: Ceres, Orcus, Pluto, Haumea, Quaoar, Makemake, Gonggong, Eris, and Sedna. There are a vast number of small Solar System bodies, such as asteroids, comets, centaurs, meteoroids, and interplanetary dust clouds. Some of these bodies are in the asteroid belt (between Mars's and Jupiter's orbit) and the Kuiper belt (just outside Neptune's orbit). Six planets, seven dwarf planets, and other bodies have orbiting natural satellites, which are commonly called 'moons'.\\nThe Solar System is constantly flooded by the Sun's charged particles, the solar wind, forming the heliosphere. Around 75–90 astronomical units from the Sun, the solar wind is halted, resulting in the heliopause. This is the boundary of the Solar System to interstellar space. The outermost region of the Solar System is the theorized Oort cloud, the source for long-period comets, extending to a radius of 2,000–200,000 AU. The closest star to the Solar System, Proxima Centauri, is 4.25 light-years (269,000 AU) away. Both stars belong to the Milky Way galaxy.\"}"
            ]
          },
          "execution_count": 71,
          "metadata": {},
          "output_type": "execute_result"
        }
      ],
      "source": [
        "api_response"
      ]
    },
    {
      "cell_type": "markdown",
      "metadata": {
        "id": "pdji2r7CjvYz"
      },
      "source": [
        "### Get a natural language summary\n",
        "\n",
        "Now you can return all of the API responses to LLM so that it can generate a natural language summary:"
      ]
    },
    {
      "cell_type": "code",
      "execution_count": 72,
      "metadata": {
        "id": "NAD7jaTq7P0z"
      },
      "outputs": [],
      "source": [
        "\n",
        "### Generate a natural language summary\n",
        "messages=[\n",
        "        {\"role\": \"system\", \"content\": \"You are a helpful assistant.\"},\n",
        "        {\"role\": \"user\", \"content\": prompt},]\n",
        "\n",
        "messages.append(response.choices[0].message)\n",
        "for tool,res in zip(tool_calls,api_response):\n",
        "  function_name = list(tool.keys())[0]\n",
        "  messages.append({\"tool_call_id\": tool['id'],\n",
        "                   \"role\": \"tool\",\n",
        "                   \"name\": function_name,\n",
        "                   \"content\": res,})\n"
      ]
    },
    {
      "cell_type": "code",
      "execution_count": 73,
      "metadata": {
        "id": "BcQMJaIE7P00"
      },
      "outputs": [],
      "source": [
        "# Now we return all API responses back to GPT-4 to summarize\n",
        "\n",
        "new_response = client.chat.completions.create(\n",
        "    model=\"telcogpt\",\n",
        "    messages = messages)"
      ]
    },
    {
      "cell_type": "code",
      "execution_count": 74,
      "metadata": {
        "colab": {
          "base_uri": "https://localhost:8080/"
        },
        "id": "Qc-zHn-B7P00",
        "outputId": "69b7192d-e758-4027-8b62-c564419fa96b"
      },
      "outputs": [
        {
          "name": "stdout",
          "output_type": "stream",
          "text": [
            "Here are the Wikipedia-related results for the term \"solar system\":\n",
            "\n",
            "1. Search Results for \"solar system\":\n",
            "- Articles and entries directly related to the solar system including planets, sun, moons, and other celestial objects.\n",
            "\n",
            "2. Variations and Suggestions related to \"solar system\":\n",
            "- Possible related topics and alternative articles such as:\n",
            "  - Solar System formation\n",
            "  - Planets of the Solar System\n",
            "  - Solar System dynamics\n",
            "  - Extrasolar planets\n",
            "  - Solar System astronomy\n",
            "\n",
            "3. Summary of the Wikipedia article on \"Solar System\":\n",
            "The Solar System is a gravitationally bound system comprising the Sun and the objects that orbit it, either directly or indirectly. Of these objects, the largest are the eight planets, with their moons, dwarf planets, comets, asteroids, and meteoroids. The Sun, a G-type main-sequence star, contains 99.86% of the system's known mass. The planets are divided into terrestrial planets (Mercury, Venus, Earth, Mars) and gas giants (Jupiter, Saturn) along with ice giants (Uranus, Neptune). The formation began about 4.6 billion years ago from the gravitational collapse of a giant molecular cloud. The Solar System is located in one of the spiral arms of the Milky Way galaxy.\n",
            "\n",
            "If you would like, I can provide more detailed summaries on specific planets, objects, or phenomena within the Solar System.\n"
          ]
        }
      ],
      "source": [
        "# Display the final summary\n",
        "print(new_response.choices[0].message.content)"
      ]
    },
    {
      "cell_type": "code",
      "execution_count": 74,
      "metadata": {
        "id": "Bl2ZSmyC7oBG"
      },
      "outputs": [],
      "source": []
    },
    {
      "cell_type": "markdown",
      "metadata": {
        "id": "RG97M6G-4iQ7"
      },
      "source": [
        "# Sequential Multi function call"
      ]
    },
    {
      "cell_type": "code",
      "execution_count": 75,
      "metadata": {
        "id": "ltWmu-a04rH3"
      },
      "outputs": [],
      "source": [
        "import requests\n",
        "import json"
      ]
    },
    {
      "cell_type": "code",
      "execution_count": 76,
      "metadata": {
        "id": "IAMib7EX4lh5"
      },
      "outputs": [],
      "source": [
        "# Define the OpenWeatherMap API key\n",
        "OWM_API_KEY = \"29af1cea50a401d8e624eea4660b3f59\"\n",
        "\n",
        "def get_current_weather(location, unit=\"kelvin\"):\n",
        "    \"\"\"\n",
        "    Fetches the current weather information for a given location.\n",
        "\n",
        "    Parameters:\n",
        "    - location: str, the name of the location (e.g., \"Paris\").\n",
        "    - unit: str, the unit of temperature (default is \"kelvin\").\n",
        "\n",
        "    Returns:\n",
        "    - str: JSON formatted string containing weather information.\n",
        "    \"\"\"\n",
        "    # Construct the API request URL\n",
        "    url = f\"https://api.openweathermap.org/data/2.5/weather?q={location}&appid={OWM_API_KEY}\"\n",
        "\n",
        "    try:\n",
        "      # Send the API request\n",
        "      response = requests.get(url)\n",
        "    except:\n",
        "      return \"Error occurred because location does not exist\"\n",
        "\n",
        "    # Parse the temperature and weather forecast from the response\n",
        "    temp = response.json()['main']['temp']\n",
        "    forecast = [response.json()['weather'][0]['main'], response.json()['weather'][0]['description']]\n",
        "\n",
        "    # Create a dictionary with the weather information\n",
        "    weather_info = {\n",
        "        \"location\": location,\n",
        "        \"temperature\": temp,\n",
        "        \"unit\": 'Kelvin',\n",
        "        \"forecast\": forecast\n",
        "    }\n",
        "\n",
        "    # Return the weather information as a JSON string\n",
        "    return json.dumps(weather_info)"
      ]
    },
    {
      "cell_type": "code",
      "execution_count": 77,
      "metadata": {
        "id": "9vIHr6BE4imv"
      },
      "outputs": [],
      "source": [
        "tools = [\n",
        "    {\n",
        "        \"type\": \"function\",\n",
        "        \"function\": {\n",
        "            \"name\": \"search_wikipedia\",\n",
        "            \"description\": \"Search for articles or any other relevant information on Wikipedia'\",\n",
        "            \"parameters\": {\n",
        "                \"type\": \"object\",\n",
        "                \"properties\": {\n",
        "                    \"query\": {\n",
        "                        \"type\": \"string\",\n",
        "                        \"description\": \"Query to search for on Wikipedia\"\n",
        "                    }\n",
        "                },\n",
        "                \"required\": [\"query\"],\n",
        "                \"additionalProperties\": False\n",
        "            }\n",
        "        }\n",
        "    },\n",
        "    {\n",
        "            \"type\": \"function\",\n",
        "            \"function\": {\n",
        "                \"name\": \"get_current_weather\",\n",
        "                \"description\": \"Get the current weather in a given location\",\n",
        "                \"parameters\": {\n",
        "                    \"type\": \"object\",\n",
        "                    \"properties\": {\n",
        "                        \"location\": {\n",
        "                            \"type\": \"string\",\n",
        "                            \"description\": \"The city and state, e.g. San Francisco, CA\",\n",
        "                        },\n",
        "                        \"unit\": {\"type\": \"string\", \"enum\": [\"celsius\", \"fahrenheit\",\"kelvin\"]},\n",
        "                    },\n",
        "                    \"required\": [\"location\"],\n",
        "                },\n",
        "            },\n",
        "        },\n",
        "]"
      ]
    },
    {
      "cell_type": "code",
      "execution_count": 77,
      "metadata": {
        "id": "FREnFG9J4v5G"
      },
      "outputs": [],
      "source": []
    },
    {
      "cell_type": "code",
      "execution_count": 78,
      "metadata": {
        "id": "-PZA1vX5449_"
      },
      "outputs": [],
      "source": [
        "prompt = \"Get the name of capital city of Tripura using wikipedia and then tell me the weather information for the same using wikipedia results. \""
      ]
    },
    {
      "cell_type": "code",
      "execution_count": 79,
      "metadata": {
        "id": "-mzHw2Td44-A"
      },
      "outputs": [],
      "source": [
        "response = client.chat.completions.create(\n",
        "    model=\"telcogpt\",\n",
        "    messages=[\n",
        "        {\"role\": \"system\", \"content\": \"You are a helpful assistant.\"},\n",
        "        {\"role\": \"user\", \"content\": prompt}\n",
        "    ],\n",
        "    tools=tools,\n",
        "    tool_choice='auto'\n",
        ")\n"
      ]
    },
    {
      "cell_type": "code",
      "execution_count": 80,
      "metadata": {
        "colab": {
          "base_uri": "https://localhost:8080/"
        },
        "id": "qigARcRO44-A",
        "outputId": "b9049140-b927-40b5-c399-0fe09ce3d2a7"
      },
      "outputs": [
        {
          "data": {
            "text/plain": [
              "[ChatCompletionMessageToolCall(id='call_fSz7xw8fekloDV6PgQpXG6wE', function=Function(arguments='{\"query\":\"Tripura\"}', name='search_wikipedia'), type='function')]"
            ]
          },
          "execution_count": 80,
          "metadata": {},
          "output_type": "execute_result"
        }
      ],
      "source": [
        "response.choices[0].message.tool_calls"
      ]
    },
    {
      "cell_type": "markdown",
      "metadata": {
        "id": "6k-YLd6f44-B"
      },
      "source": [
        "### Extract function names and parameters\n",
        "\n",
        "Use the helper function that we created earlier to extract the function names and function parameters for each Function Call that LLM responded with:"
      ]
    },
    {
      "cell_type": "code",
      "execution_count": 81,
      "metadata": {
        "colab": {
          "base_uri": "https://localhost:8080/"
        },
        "id": "pnc5ou_B44-B",
        "outputId": "37981bff-da9f-46f1-98ec-1beddb0e83b8"
      },
      "outputs": [
        {
          "name": "stdout",
          "output_type": "stream",
          "text": [
            "[{'search_wikipedia': {'query': 'Tripura'}, 'id': 'call_fSz7xw8fekloDV6PgQpXG6wE'}]\n"
          ]
        }
      ],
      "source": [
        "# Extract function calls from the response\n",
        "tool_calls = extract_tool_calls(response)\n",
        "print(tool_calls)"
      ]
    },
    {
      "cell_type": "code",
      "execution_count": 81,
      "metadata": {
        "id": "NPQWz9595K1q"
      },
      "outputs": [],
      "source": []
    },
    {
      "cell_type": "code",
      "execution_count": 82,
      "metadata": {
        "colab": {
          "base_uri": "https://localhost:8080/"
        },
        "id": "eKZgjRaC6KUu",
        "outputId": "aac3a507-8288-4d31-a08e-5676c159d795"
      },
      "outputs": [
        {
          "name": "stdout",
          "output_type": "stream",
          "text": [
            "{'search_wikipedia': {'query': 'Tripura'}, 'id': 'call_fSz7xw8fekloDV6PgQpXG6wE'}\n"
          ]
        }
      ],
      "source": [
        "### Make external API calls\n",
        "import wikipedia\n",
        "api_response = []\n",
        "\n",
        "# Loop over multiple function calls\n",
        "for tool in tool_calls:\n",
        "    print(tool)\n",
        "\n",
        "    # Make external API call\n",
        "    result = wikipedia.summary(tool[\"search_wikipedia\"][\"query\"])\n",
        "\n",
        "    # Collect all API responses\n",
        "    api_response.append(result)"
      ]
    },
    {
      "cell_type": "code",
      "execution_count": 83,
      "metadata": {
        "colab": {
          "base_uri": "https://localhost:8080/"
        },
        "id": "dmIDzGEr6KUw",
        "outputId": "314f6212-a093-4f76-c915-385802b1cd40"
      },
      "outputs": [
        {
          "name": "stdout",
          "output_type": "stream",
          "text": [
            "Tripura () is a state in northeastern India. The third-smallest state in the country, it covers 10,491 km2 (4,051 sq mi); and the seventh-least populous state with a population of 3.67 million. It is bordered by Assam and Mizoram to the east and by Bangladesh to the north, south and west. Tripura is divided into 8 districts and 23 sub-divisions, where Agartala is the capital and the largest city in the state. Tripura has 19 different tribal communities with a majority Bengali population. Bengali, English and Kokborok are the state's official languages.\n",
            "The area of modern Tripura — ruled for several centuries by the Manikya Dynasty — was part of the Tripuri Kingdom (also known as Hill Tippera). It became a princely state under the British Raj during its tenure, and acceded to independent India in 1947. It merged with India in 1949 and was designated as a 'Part C State' (union territory). It became a full-fledged state of India in 1972.\n",
            "Tripura lies in a geographically isolated location in India, as only one major highway, National Highway 8, connects it with the rest of the country. Five mountain ranges — Baramura, Atharamura, Longtharai, Shakhan and Jampui Hills — run north to south, with intervening valleys; Agartala, the capital, is located on a plain to the west. The state has a tropical savanna climate, and receives seasonal heavy rains from the south west monsoon.\n",
            "Forests cover more than half of the area, in which bamboo and cane tracts are common. Tripura has the highest number of primate species found in any Indian state. Due to its geographical isolation, economic progress in the state is hindered. Poverty and unemployment continue to plague Tripura, which has a limited infrastructure. Most residents are involved in agriculture and allied activities, although the service sector is the largest contributor to the state's gross domestic product.\n",
            "According to the 2011 census, Tripura is one of the most literate states in India, with a literacy rate of 87.75%. Mainstream Indian cultural elements coexist with traditional practices of the ethnic groups, such as various dances to celebrate religious occasions, weddings and festivities; the use of locally crafted musical instruments and clothes; and the worship of regional deities. The sculptures at the archaeological sites Unakoti, Pilak and Devtamura provide historical evidence of artistic fusion between organised and indigenous religions.\n",
            "\n",
            "\n"
          ]
        }
      ],
      "source": [
        "for res in api_response:\n",
        "    print(res)"
      ]
    },
    {
      "cell_type": "code",
      "execution_count": 84,
      "metadata": {
        "id": "uLrV5mQI6KUw"
      },
      "outputs": [],
      "source": [
        "### Generate a natural language summary\n",
        "messages=[\n",
        "        {\"role\": \"system\", \"content\": \"You are a helpful assistant.\"},\n",
        "        {\"role\": \"user\", \"content\": prompt},]\n",
        "\n",
        "messages.append(response.choices[0].message)\n",
        "for tool,res in zip(tool_calls,api_response):\n",
        "  messages.append({\"tool_call_id\": tool['id'],\n",
        "                   \"role\": \"tool\",\n",
        "                   \"name\": 'search_wikipedia',\n",
        "                   \"content\": res,})\n"
      ]
    },
    {
      "cell_type": "code",
      "execution_count": 85,
      "metadata": {
        "id": "LhaN_IU86KUw"
      },
      "outputs": [],
      "source": [
        "# Now we return all API responses back to GPT-4 to summarize\n",
        "\n",
        "new_response = client.chat.completions.create(\n",
        "    model=\"telcogpt\",\n",
        "    messages = messages,\n",
        "    tools=tools,\n",
        "    tool_choice='auto')"
      ]
    },
    {
      "cell_type": "code",
      "execution_count": 86,
      "metadata": {
        "colab": {
          "base_uri": "https://localhost:8080/"
        },
        "id": "svqLMcEL6KUx",
        "outputId": "963e1dba-0b81-4444-cf72-ce7699ed5a39"
      },
      "outputs": [
        {
          "name": "stdout",
          "output_type": "stream",
          "text": [
            "{\n",
            "  \"id\": \"chatcmpl-BUo5z1lu0hT3MLrcoWkwWYcSPc8H5\",\n",
            "  \"choices\": [\n",
            "    {\n",
            "      \"finish_reason\": \"tool_calls\",\n",
            "      \"index\": 0,\n",
            "      \"logprobs\": null,\n",
            "      \"message\": {\n",
            "        \"content\": null,\n",
            "        \"refusal\": null,\n",
            "        \"role\": \"assistant\",\n",
            "        \"annotations\": [],\n",
            "        \"audio\": null,\n",
            "        \"function_call\": null,\n",
            "        \"tool_calls\": [\n",
            "          {\n",
            "            \"id\": \"call_md2i5nk6rExH6ExKxrWLuIdr\",\n",
            "            \"function\": {\n",
            "              \"arguments\": \"{\\\"location\\\":\\\"Agartala, Tripura\\\"}\",\n",
            "              \"name\": \"get_current_weather\"\n",
            "            },\n",
            "            \"type\": \"function\"\n",
            "          }\n",
            "        ]\n",
            "      },\n",
            "      \"content_filter_results\": {}\n",
            "    }\n",
            "  ],\n",
            "  \"created\": 1746682107,\n",
            "  \"model\": \"gpt-4.1-mini-2025-04-14\",\n",
            "  \"object\": \"chat.completion\",\n",
            "  \"service_tier\": null,\n",
            "  \"system_fingerprint\": \"fp_c8225066ea\",\n",
            "  \"usage\": {\n",
            "    \"completion_tokens\": 21,\n",
            "    \"prompt_tokens\": 690,\n",
            "    \"total_tokens\": 711,\n",
            "    \"completion_tokens_details\": {\n",
            "      \"accepted_prediction_tokens\": 0,\n",
            "      \"audio_tokens\": 0,\n",
            "      \"reasoning_tokens\": 0,\n",
            "      \"rejected_prediction_tokens\": 0\n",
            "    },\n",
            "    \"prompt_tokens_details\": {\n",
            "      \"audio_tokens\": 0,\n",
            "      \"cached_tokens\": 0\n",
            "    }\n",
            "  },\n",
            "  \"prompt_filter_results\": [\n",
            "    {\n",
            "      \"prompt_index\": 0,\n",
            "      \"content_filter_results\": {\n",
            "        \"hate\": {\n",
            "          \"filtered\": false,\n",
            "          \"severity\": \"safe\"\n",
            "        },\n",
            "        \"jailbreak\": {\n",
            "          \"filtered\": false,\n",
            "          \"detected\": false\n",
            "        },\n",
            "        \"self_harm\": {\n",
            "          \"filtered\": false,\n",
            "          \"severity\": \"safe\"\n",
            "        },\n",
            "        \"sexual\": {\n",
            "          \"filtered\": false,\n",
            "          \"severity\": \"safe\"\n",
            "        },\n",
            "        \"violence\": {\n",
            "          \"filtered\": false,\n",
            "          \"severity\": \"safe\"\n",
            "        }\n",
            "      }\n",
            "    }\n",
            "  ]\n",
            "}\n"
          ]
        }
      ],
      "source": [
        "# Display the final summary\n",
        "print(new_response.model_dump_json(indent=2))"
      ]
    },
    {
      "cell_type": "code",
      "execution_count": 86,
      "metadata": {
        "id": "2lX_Z9SS6UwX"
      },
      "outputs": [],
      "source": []
    },
    {
      "cell_type": "code",
      "execution_count": null,
      "metadata": {
        "id": "o9yIeHjNARY2"
      },
      "outputs": [],
      "source": []
    }
  ],
  "metadata": {
    "colab": {
      "include_colab_link": true,
      "provenance": []
    },
    "environment": {
      "kernel": "conda-root-py",
      "name": "workbench-notebooks.m115",
      "type": "gcloud",
      "uri": "gcr.io/deeplearning-platform-release/workbench-notebooks:m115"
    },
    "kernelspec": {
      "display_name": "Python 3",
      "language": "python",
      "name": "python3"
    },
    "language_info": {
      "codemirror_mode": {
        "name": "ipython",
        "version": 3
      },
      "file_extension": ".py",
      "mimetype": "text/x-python",
      "name": "python",
      "nbconvert_exporter": "python",
      "pygments_lexer": "ipython3",
      "version": "3.13.2"
    }
  },
  "nbformat": 4,
  "nbformat_minor": 0
}

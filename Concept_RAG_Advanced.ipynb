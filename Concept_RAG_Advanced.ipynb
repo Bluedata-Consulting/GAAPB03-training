{
  "cells": [
    {
      "cell_type": "markdown",
      "id": "1961db5f",
      "metadata": {
        "id": "1961db5f"
      },
      "source": [
        "# CRAG: Corrective RAG\n",
        "\n",
        "\n",
        "## OverView\n",
        "\n",
        "\n",
        "**The Corrective RAG (CRAG)** strategy focuses on improving RAG-based systems.\n",
        "**CRAG** is an approach that refines the search-generation pipeline by incorporating self-reflection and self-evaluation phases for the retrieved documents.\n",
        "\n",
        "![crag](https://github.com/LangChain-OpenTutorial/LangChain-OpenTutorial/blob/main/17-LangGraph/03-Use-Cases/assets/03-Langgraph-CRAG.png?raw=1)\n",
        "\n",
        "\n",
        "\n",
        "**What is CRAG ?**\n",
        "\n",
        "**Corrective-RAG (CRAG)** is a methodology in the RAG (Retrieval-Augmented Generation) strategy that **adds a step to evaluate the retrieved documents and refine the knowledge.** This approach involves reviewing the search results before generation, conducting supplementary searches if necessary, and ultimately includes a series of processes to produce high-quality responses.\n",
        "\n",
        "The core ideas of CRAG are as follows:\n",
        "\n",
        "[Link to the paper (Corrective Retrieval-Augmented Generation)](https://arxiv.org/pdf/2401.15884.pdf)\n",
        "\n",
        "1. If one or more of the retrieved documents exceed the predefined relevance threshold (retrieval validation score), the process proceeds to the generation stage.\n",
        "2. A knowledge refinement step is performed before generation.\n",
        "3. Documents are divided into \"knowledge strips\" (where ```k``` refers to the number of document retrieval results).\n",
        "4. Each knowledge strip is evaluated, and its relevance is scored (evaluations are conducted at the document chunk level).\n",
        "5. If all documents fall below the relevance threshold or the evaluation results have low confidence, additional data sources (e.g., web searches) are used for supplementation.\n",
        "6. When supplementing through web searches, query results are optimized using ```Query-Rewrite```.\n",
        "---\n",
        "\n",
        "**Key Points**\n",
        "\n",
        "\n",
        "This tutorial demonstrates implementing some of the ideas from the ```CRAG``` approach using LangGraph.\n",
        "\n",
        "Here, **the knowledge refinement step is omitted** but is designed to be added as a node if necessary.\n",
        "\n",
        "Additionally, **if no relevant documents are found**, ```web searches``` will be used to supplement the retrieval.\n",
        "\n",
        "For **web searches**,  [Tavily Search](https://python.langchain.com/docs/integrations/tools/tavily_search/) will be utilized, and Question Rewrite will be introduced to optimize the search process.\n",
        "\n",
        "---\n",
        "\n",
        "**Overview of Key Steps**\n",
        "\n",
        "- **Retrieval Grader**: Evaluate the relevance of the retrieved documents.\n",
        "- **Generate**: Generate answers using LLM.\n",
        "- **Question Re-writer**: Optimize search queries by rewriting the question.\n",
        "- **Web Search Tool**: Utilize Tavily Search for web searches.\n",
        "- **Create Graph**: Create a CRAG strategy graph using LangGraph.\n",
        "- **Use the graph**: Learn how to utilize the generated graph.\n",
        "\n",
        "\n",
        "\n",
        "\n",
        "\n",
        "### References\n",
        "https://langchain-opentutorial.gitbook.io/langchain-opentutorial/17-langgraph/03-use-cases/03-langgraph-crag\n",
        "- [LangGraph: Corrective RAG (CRAG) using local LLMs](https://langchain-ai.github.io/langgraph/tutorials/rag/langgraph_crag_local/)\n",
        "- [LangSmith: RAG Prompt](https://smith.langchain.com/hub/rlm/rag-prompt)\n",
        "- [Langchain: stream_mode](https://python.langchain.com/docs/how_to/qa_streaming/)"
      ]
    },
    {
      "cell_type": "code",
      "execution_count": 1,
      "id": "ef6261d6",
      "metadata": {
        "id": "ef6261d6"
      },
      "outputs": [],
      "source": [
        "!pip install pydantic langchain langchain-community pdfplumber langchain-core langchain-openai langgraph faiss-cpu --quiet"
      ]
    },
    {
      "cell_type": "code",
      "execution_count": 2,
      "id": "d3375ae6",
      "metadata": {
        "id": "d3375ae6",
        "outputId": "288040ae-78a6-4c96-da5c-7cd9879b0396"
      },
      "outputs": [
        {
          "data": {
            "text/plain": [
              "True"
            ]
          },
          "execution_count": 2,
          "metadata": {},
          "output_type": "execute_result"
        }
      ],
      "source": [
        "# Load API keys from .env file\n",
        "from dotenv import load_dotenv\n",
        "\n",
        "load_dotenv(override=True)"
      ]
    },
    {
      "cell_type": "markdown",
      "id": "d7f42d27",
      "metadata": {},
      "source": [
        "# RAG Retriver"
      ]
    },
    {
      "cell_type": "code",
      "execution_count": 3,
      "id": "78942b9f",
      "metadata": {},
      "outputs": [],
      "source": [
        "embedding_model_name = \"text-embedding-3-small\"\n",
        "model_name = \"myllm\"\n",
        "\n",
        "doc_paths = [\"https://www.morningstar.com/content/dam/marketing/shared/research/methodology/771945_Morningstar_Rating_for_Funds_Methodology.pdf\",\n",
        "             \"https://www.morningstar.in/docs/methodology/CategoryDefinitionsIndiaV3.pdf\",\n",
        "             \"https://s21.q4cdn.com/198919461/files/doc_downloads/press_kits/2016/Morningstar-Sustainable-Investing-Handbook.pdf\"]"
      ]
    },
    {
      "cell_type": "code",
      "execution_count": 5,
      "id": "f178b8c8",
      "metadata": {},
      "outputs": [],
      "source": [
        "from langchain_openai import AzureOpenAIEmbeddings\n",
        "embeddings = AzureOpenAIEmbeddings(model=embedding_model_name)\n",
        "\n",
        "from langchain_openai import AzureChatOpenAI\n",
        "llm = AzureChatOpenAI(model=model_name)\n"
      ]
    },
    {
      "cell_type": "code",
      "execution_count": 6,
      "id": "fd810d45",
      "metadata": {},
      "outputs": [],
      "source": [
        "from langchain_community.document_loaders import PyPDFLoader\n",
        "from langchain.text_splitter import RecursiveCharacterTextSplitter\n",
        "\n",
        "loaders = [PyPDFLoader(pdf, extract_images=False) for pdf in doc_paths]\n",
        "docs = []\n",
        "for loader in loaders: docs.extend(loader.load())\n",
        "\n",
        "# drop the docs having less than 100 characters\n",
        "docs = [doc for doc in docs if len(doc.page_content.strip())>100]\n",
        "\n",
        "\n",
        "\n",
        "text_splitter = RecursiveCharacterTextSplitter(chunk_size=3500, chunk_overlap=500,\n",
        "                                               add_start_index=True)\n",
        "splits = text_splitter.split_documents(docs)\n"
      ]
    },
    {
      "cell_type": "code",
      "execution_count": 9,
      "id": "d5611148",
      "metadata": {},
      "outputs": [],
      "source": [
        "# pip install langchain-pinecone\n",
        "!pip install langchain-pinecone pinecone --quiet"
      ]
    },
    {
      "cell_type": "code",
      "execution_count": 18,
      "id": "e02739e2",
      "metadata": {},
      "outputs": [],
      "source": [
        "#from langchain_chroma import Chroma\n",
        "#vectorstore = Chroma.from_documents(documents=splits, embedding=embeddings)\n",
        "# pcsk_7JK7mQ_E6KD5xmyDmHSBxeFWcyzLmQdvto69BMRZCvSR62xDEaaFGiMf6MYW5S1ZpUvZNo\n",
        "# using pinecone as a vector DB\n",
        "from pinecone import Pinecone\n",
        "import os\n",
        "os.environ['PINECONE_API_KEY'] = \"pcsk_7JK7mQ_E6KD5xmyDmHSBxeFWcyzLmQdvto69BMRZCvSR62xDEaaFGiMf6MYW5S1ZpUvZNo\"\n",
        "index_name = \"tredenceb3\"\n",
        "from langchain_pinecone import PineconeVectorStore\n",
        "vectorstore = PineconeVectorStore.from_documents(splits, embedding=embeddings, index_name=index_name)"
      ]
    },
    {
      "cell_type": "code",
      "execution_count": 12,
      "id": "5b4218fd",
      "metadata": {},
      "outputs": [],
      "source": [
        "\n",
        "# using vector db object to initialize a retriever object - to perform vector search/retrieval\n",
        "retriever = vectorstore.as_retriever(search_type=\"similarity\", search_kwargs={\"k\": 2})"
      ]
    },
    {
      "cell_type": "code",
      "execution_count": 19,
      "id": "e420a92f",
      "metadata": {},
      "outputs": [],
      "source": [
        "from typing import TypedDict, Literal, List\n",
        "from langchain_core.documents import Document\n",
        "from langchain_core.prompts import PromptTemplate\n",
        "from langgraph.graph import StateGraph,START,END\n",
        "message = \"\"\"\n",
        "Answer this question using the provided context only. If the context does not have the content to answer the question, say context is irrelevant.\n",
        "Do not make up the answer, do not provide answer from outside the doc.\n",
        "{question}\n",
        "\n",
        "Context:\n",
        "{context}\n",
        "\"\"\"\n",
        "\n",
        "ragprompt = PromptTemplate.from_template(message)"
      ]
    },
    {
      "cell_type": "code",
      "execution_count": 20,
      "id": "a996cb40",
      "metadata": {},
      "outputs": [],
      "source": [
        "class ragState(TypedDict):\n",
        "    question: str\n",
        "    context: List[Document]\n",
        "    answer: str\n"
      ]
    },
    {
      "cell_type": "code",
      "execution_count": 21,
      "id": "d0c23d6b",
      "metadata": {},
      "outputs": [
        {
          "data": {
            "image/png": "[encoded data removed]",
            "text/plain": [
              "<langgraph.graph.state.CompiledStateGraph object at 0x708eb2484380>"
            ]
          },
          "execution_count": 21,
          "metadata": {},
          "output_type": "execute_result"
        }
      ],
      "source": [
        "# add modes\n",
        "def retriever_node(state:ragState):\n",
        "    ret_docs = retriever.invoke(state[\"question\"])\n",
        "    return {\"context\":ret_docs}\n",
        "\n",
        "# generation node\n",
        "def generate(state:ragState):\n",
        "    doc_content = \"\\n\\n\".join(doc.page_content for doc in state[\"context\"])\n",
        "    message = ragprompt.invoke({\"question\":state[\"question\"],\"context\":doc_content})\n",
        "    response = llm.invoke(message)\n",
        "    return {\"answer\":response}\n",
        "\n",
        "builder = StateGraph(ragState).add_sequence([retriever_node,generate])\n",
        "builder.add_edge(START,\"retriever_node\")\n",
        "builder.add_edge(\"generate\",END)\n",
        "raggraph = builder.compile()\n",
        "raggraph"
      ]
    },
    {
      "cell_type": "code",
      "execution_count": 22,
      "id": "bd0e5bb5",
      "metadata": {},
      "outputs": [],
      "source": [
        "response = raggraph.invoke({\"question\":\"what is large cap equity fund?\"})"
      ]
    },
    {
      "cell_type": "code",
      "execution_count": 23,
      "id": "576a1a27",
      "metadata": {},
      "outputs": [
        {
          "data": {
            "text/plain": [
              "'A large-cap equity fund primarily consists of stocks which are the top 100 stocks by full market capitalization of the equity market. These funds invest at least 80% of total assets in Indian equities, with the balance potentially invested in other asset classes such as fixed income and overseas equities.'"
            ]
          },
          "execution_count": 23,
          "metadata": {},
          "output_type": "execute_result"
        }
      ],
      "source": [
        "response['answer'].content"
      ]
    },
    {
      "cell_type": "markdown",
      "id": "ae47f9ae",
      "metadata": {
        "id": "ae47f9ae"
      },
      "source": [
        "## Relevance Evaluation of Retrieved Documents (Question-Retrieval Evaluation)\n",
        "\n",
        "The relevance evaluation of retrieved documents is the step where the retrieved documents are assessed for their relevance to the question.\n",
        "\n",
        "First, create an evaluator (```retrieval-grader```) to assess the retrieved documents."
      ]
    },
    {
      "cell_type": "code",
      "execution_count": 24,
      "id": "59f3e68a",
      "metadata": {
        "id": "59f3e68a"
      },
      "outputs": [],
      "source": [
        "from langchain_core.prompts import ChatPromptTemplate\n",
        "from pydantic import BaseModel, Field\n",
        "\n",
        "\n",
        "# Data Model for Binary Scoring of Document Relevance\n",
        "class GradeDocuments(BaseModel):\n",
        "    \"\"\"A binary score to determine the relevance of the retrieved document.\"\"\"\n",
        "\n",
        "    # A field indicating whether the document is relevant to the question, represented as 'yes' or 'no'\n",
        "    binary_score: str = Field(\n",
        "        description=\"Documents are relevant to the question, 'yes' or 'no'\"\n",
        "    )\n",
        "\n",
        "\n",
        "# An LLM that generates structured outputs using the GradeDocuments data model.\n",
        "structured_llm_grader = llm.with_structured_output(GradeDocuments)\n",
        "\n",
        "# Define system prompt\n",
        "system = \"\"\"You are a grader assessing relevance of a retrieved document to a user question. \\n\n",
        "    If the document contains keyword(s) or semantic meaning related to the question, grade it as relevant. \\n\n",
        "    Give a binary score 'yes' or 'no' score to indicate whether the document is relevant to the question.\"\"\"\n",
        "\n",
        "# Create chat prompt template\n",
        "grade_prompt = ChatPromptTemplate.from_messages(\n",
        "    [\n",
        "        (\"system\", system),\n",
        "        (\"human\", \"Retrieved document: \\n\\n {document} \\n\\n User question: {question}\"),\n",
        "    ]\n",
        ")\n",
        "\n",
        "# Initialize retrieval evaluator\n",
        "retrieval_grader = grade_prompt | structured_llm_grader"
      ]
    },
    {
      "cell_type": "markdown",
      "id": "d03b7b76",
      "metadata": {
        "id": "d03b7b76"
      },
      "source": [
        "Using ```retrieval_grader```, documents are evaluated.\n",
        "\n",
        "Here, the evaluation is performed on a single document rather than a set of documents.\n",
        "\n",
        "The result returns the relevance of the single document as either **yes** or **no** ."
      ]
    },
    {
      "cell_type": "code",
      "execution_count": 25,
      "id": "44144d98",
      "metadata": {
        "id": "44144d98",
        "outputId": "7c3f77ad-fafc-45ee-9392-27b148930027"
      },
      "outputs": [
        {
          "name": "stdout",
          "output_type": "stream",
          "text": [
            "binary_score='no'\n"
          ]
        }
      ],
      "source": [
        "# Define question\n",
        "question = \"How do agents differ from standalone language models?\"\n",
        "\n",
        "# Document retrieval\n",
        "docs = retriever.invoke(question)\n",
        "\n",
        "# Extract Content of Page from Document at Index 1\n",
        "doc_txt = docs[0].page_content\n",
        "\n",
        "# Run Relevance Evaluation Using Retrieved Documents and Question\n",
        "print(retrieval_grader.invoke({\"question\": question, \"document\": doc_txt}))"
      ]
    },
    {
      "cell_type": "code",
      "execution_count": 26,
      "id": "66acc096",
      "metadata": {},
      "outputs": [
        {
          "name": "stdout",
          "output_type": "stream",
          "text": [
            "binary_score='yes'\n"
          ]
        }
      ],
      "source": [
        "# Define question\n",
        "question = \"What is Large cap equity fund?\"\n",
        "\n",
        "# Document retrieval\n",
        "docs = retriever.invoke(question)\n",
        "\n",
        "# Extract Content of Page from Document at Index 1\n",
        "doc_txt = docs[0].page_content\n",
        "\n",
        "# Run Relevance Evaluation Using Retrieved Documents and Question\n",
        "print(retrieval_grader.invoke({\"question\": question, \"document\": doc_txt}))"
      ]
    },
    {
      "cell_type": "markdown",
      "id": "c95ae75e",
      "metadata": {
        "id": "c95ae75e"
      },
      "source": [
        "## Answer Generation Chain\n",
        "\n",
        "The answer generation chain is a chain that generates answers based on the retrieved documents.\n",
        "\n",
        "It is a typical Naive RAG chain that we are familiar with.\n",
        "\n",
        "**Note**\n",
        "\n",
        "RAG Prompt from LangChain PromptHub: https://smith.langchain.com/hub/rlm/rag-prompt"
      ]
    },
    {
      "cell_type": "code",
      "execution_count": 27,
      "id": "f03e727f",
      "metadata": {
        "id": "f03e727f",
        "outputId": "65781a12-2a7d-44f4-91b7-6ab28185075d"
      },
      "outputs": [
        {
          "name": "stdout",
          "output_type": "stream",
          "text": [
            "content='A large cap equity fund primarily consists of stocks which are the Top 100 stocks by full market capitalization of the equity market. These funds invest at least 80% of total assets in Indian equities, with the balance able to be invested in other asset classes such as fixed income and overseas equities.' additional_kwargs={'refusal': None} response_metadata={'token_usage': {'completion_tokens': 60, 'prompt_tokens': 879, 'total_tokens': 939, 'completion_tokens_details': {'accepted_prediction_tokens': 0, 'audio_tokens': 0, 'reasoning_tokens': 0, 'rejected_prediction_tokens': 0}, 'prompt_tokens_details': {'audio_tokens': 0, 'cached_tokens': 0}}, 'model_name': 'gpt-4o-mini-2024-07-18', 'system_fingerprint': 'fp_7a53abb7a2', 'id': 'chatcmpl-Bj71Qh0BZ4f4xfTxQ9NK6azl2ZGI0', 'service_tier': None, 'prompt_filter_results': [{'prompt_index': 0, 'content_filter_results': {'hate': {'filtered': False, 'severity': 'safe'}, 'self_harm': {'filtered': False, 'severity': 'safe'}, 'sexual': {'filtered': False, 'severity': 'safe'}, 'violence': {'filtered': False, 'severity': 'safe'}}}], 'finish_reason': 'stop', 'logprobs': None, 'content_filter_results': {'hate': {'filtered': False, 'severity': 'safe'}, 'self_harm': {'filtered': False, 'severity': 'safe'}, 'sexual': {'filtered': False, 'severity': 'safe'}, 'violence': {'filtered': False, 'severity': 'safe'}}} id='run--813fe0d5-bfbd-43c9-8e92-e725dd3138fc-0' usage_metadata={'input_tokens': 879, 'output_tokens': 60, 'total_tokens': 939, 'input_token_details': {'audio': 0, 'cache_read': 0}, 'output_token_details': {'audio': 0, 'reasoning': 0}}\n"
          ]
        }
      ],
      "source": [
        "response = raggraph.invoke({\"question\":\"what is large cap quity fund?\"})\n",
        "print(response['answer'])"
      ]
    },
    {
      "cell_type": "markdown",
      "id": "963f59f7",
      "metadata": {
        "id": "963f59f7"
      },
      "source": [
        "## Question Re-write\n",
        "\n",
        "Query rewriting is a step where the question is rewritten to optimize web searches."
      ]
    },
    {
      "cell_type": "code",
      "execution_count": 30,
      "id": "81eabae7",
      "metadata": {
        "id": "81eabae7"
      },
      "outputs": [],
      "source": [
        "from langchain_core.prompts import ChatPromptTemplate\n",
        "from langchain_core.output_parsers import StrOutputParser\n",
        "\n",
        "\n",
        "# Query rewrite system prompt\n",
        "system = \"\"\"You a question re-writer that converts an input question to a better version that is optimized\n",
        "for web search. Look at the input and try to reason about the underlying semantic intent / meaning. Add more keywords related to business domain.\"\"\"\n",
        "\n",
        "# Define prompt\n",
        "re_write_prompt = ChatPromptTemplate.from_messages(\n",
        "    [\n",
        "        (\"system\", system),\n",
        "        (\n",
        "            \"human\",\n",
        "            \"Here is the initial question: \\n\\n {question} \\n Formulate an improved question.\",\n",
        "        ),\n",
        "    ]\n",
        ")\n",
        "\n",
        "# Define question rewriter chain\n",
        "question_rewriter = re_write_prompt | llm | StrOutputParser()"
      ]
    },
    {
      "cell_type": "markdown",
      "id": "b33f4246",
      "metadata": {
        "id": "b33f4246"
      },
      "source": [
        "Rewrite Question Using ```question_rewriter```."
      ]
    },
    {
      "cell_type": "code",
      "execution_count": 31,
      "id": "28eb2e53",
      "metadata": {
        "id": "28eb2e53",
        "outputId": "08f4a1a6-ce97-4dbd-c850-b7a8e2af9198"
      },
      "outputs": [
        {
          "name": "stdout",
          "output_type": "stream",
          "text": [
            "[Original question]: \"What is Large cap equity fund?\"\n",
            "[Query-rewrite]: What is a large-cap equity fund, and how does it fit into investment strategies for building wealth?\n"
          ]
        }
      ],
      "source": [
        "# Run chain and output results\n",
        "print(f'[Original question]: \"{question}\"')\n",
        "print(\"[Query-rewrite]:\", question_rewriter.invoke({\"question\": question}))"
      ]
    },
    {
      "cell_type": "markdown",
      "id": "7f4a72cc",
      "metadata": {
        "id": "7f4a72cc"
      },
      "source": [
        "## Web search tool\n",
        "\n",
        "**Web search tool** is used to supplement the context.\n",
        "\n",
        "- **Need for Web Search**: When all documents fail to meet the relevance threshold or the evaluator lacks confidence, additional data is retrieved through web searches.\n",
        "- **Using Tavily Search**: Perform web searches using Tavily Search, which optimizes search queries and provides more relevant results.\n",
        "- **Question Rewrite**: Improve search queries by rewriting the question to optimize web searches."
      ]
    },
    {
      "cell_type": "code",
      "execution_count": null,
      "id": "3d0a664e",
      "metadata": {},
      "outputs": [],
      "source": [
        "# add the key: TAVILY_API_KEY=\"\""
      ]
    },
    {
      "cell_type": "code",
      "execution_count": 32,
      "id": "620d859b",
      "metadata": {
        "id": "620d859b"
      },
      "outputs": [
        {
          "ename": "ValidationError",
          "evalue": "1 validation error for TavilySearchAPIWrapper\n  Value error, Did not find tavily_api_key, please add an environment variable `TAVILY_API_KEY` which contains it, or pass `tavily_api_key` as a named parameter. [type=value_error, input_value={}, input_type=dict]\n    For further information visit https://errors.pydantic.dev/2.11/v/value_error",
          "output_type": "error",
          "traceback": [
            "\u001b[31m---------------------------------------------------------------------------\u001b[39m",
            "\u001b[31mValidationError\u001b[39m                           Traceback (most recent call last)",
            "\u001b[36mCell\u001b[39m\u001b[36m \u001b[39m\u001b[32mIn[32]\u001b[39m\u001b[32m, line 5\u001b[39m\n\u001b[32m      2\u001b[39m \u001b[38;5;28;01mfrom\u001b[39;00m\u001b[38;5;250m \u001b[39m\u001b[34;01mlangchain\u001b[39;00m\u001b[34;01m.\u001b[39;00m\u001b[34;01mtools\u001b[39;00m\u001b[34;01m.\u001b[39;00m\u001b[34;01mtavily_search\u001b[39;00m\u001b[38;5;250m \u001b[39m\u001b[38;5;28;01mimport\u001b[39;00m TavilySearchResults\n\u001b[32m      4\u001b[39m \u001b[38;5;66;03m# Set maximum search results to 3\u001b[39;00m\n\u001b[32m----> \u001b[39m\u001b[32m5\u001b[39m web_search_tool = \u001b[43mTavilySearchResults\u001b[49m\u001b[43m(\u001b[49m\u001b[43mmax_results\u001b[49m\u001b[43m=\u001b[49m\u001b[32;43m3\u001b[39;49m\u001b[43m)\u001b[49m\n",
            "\u001b[36mFile \u001b[39m\u001b[32m~/GAAPB03-training/gen-ai/lib/python3.12/site-packages/langchain_community/tools/tavily_search/tool.py:159\u001b[39m, in \u001b[36mTavilySearchResults.__init__\u001b[39m\u001b[34m(self, **kwargs)\u001b[39m\n\u001b[32m    154\u001b[39m \u001b[38;5;28;01mif\u001b[39;00m \u001b[33m\"\u001b[39m\u001b[33mtavily_api_key\u001b[39m\u001b[33m\"\u001b[39m \u001b[38;5;129;01min\u001b[39;00m kwargs:\n\u001b[32m    155\u001b[39m     kwargs[\u001b[33m\"\u001b[39m\u001b[33mapi_wrapper\u001b[39m\u001b[33m\"\u001b[39m] = TavilySearchAPIWrapper(\n\u001b[32m    156\u001b[39m         tavily_api_key=kwargs[\u001b[33m\"\u001b[39m\u001b[33mtavily_api_key\u001b[39m\u001b[33m\"\u001b[39m]\n\u001b[32m    157\u001b[39m     )\n\u001b[32m--> \u001b[39m\u001b[32m159\u001b[39m \u001b[38;5;28;43msuper\u001b[39;49m\u001b[43m(\u001b[49m\u001b[43m)\u001b[49m\u001b[43m.\u001b[49m\u001b[34;43m__init__\u001b[39;49m\u001b[43m(\u001b[49m\u001b[43m*\u001b[49m\u001b[43m*\u001b[49m\u001b[43mkwargs\u001b[49m\u001b[43m)\u001b[49m\n",
            "\u001b[36mFile \u001b[39m\u001b[32m~/GAAPB03-training/gen-ai/lib/python3.12/site-packages/langchain_core/tools/base.py:442\u001b[39m, in \u001b[36m__init__\u001b[39m\u001b[34m(self, **kwargs)\u001b[39m\n\u001b[32m    438\u001b[39m         \u001b[38;5;28;01mraise\u001b[39;00m \u001b[38;5;167;01mTypeError\u001b[39;00m(msg)\n\u001b[32m    439\u001b[39m     \u001b[38;5;28msuper\u001b[39m().\u001b[34m__init__\u001b[39m(**kwargs)\n\u001b[32m    441\u001b[39m model_config = ConfigDict(\n\u001b[32m--> \u001b[39m\u001b[32m442\u001b[39m     arbitrary_types_allowed=\u001b[38;5;28;01mTrue\u001b[39;00m,\n\u001b[32m    443\u001b[39m )\n\u001b[32m    445\u001b[39m \u001b[38;5;129m@property\u001b[39m\n\u001b[32m    446\u001b[39m \u001b[38;5;28;01mdef\u001b[39;00m\u001b[38;5;250m \u001b[39m\u001b[34mis_single_input\u001b[39m(\u001b[38;5;28mself\u001b[39m) -> \u001b[38;5;28mbool\u001b[39m:\n\u001b[32m    447\u001b[39m \u001b[38;5;250m    \u001b[39m\u001b[33;03m\"\"\"Whether the tool only accepts a single input.\"\"\"\u001b[39;00m\n",
            "\u001b[36mFile \u001b[39m\u001b[32m~/GAAPB03-training/gen-ai/lib/python3.12/site-packages/langchain_core/load/serializable.py:130\u001b[39m, in \u001b[36mSerializable.__init__\u001b[39m\u001b[34m(self, *args, **kwargs)\u001b[39m\n\u001b[32m    128\u001b[39m \u001b[38;5;28;01mdef\u001b[39;00m\u001b[38;5;250m \u001b[39m\u001b[34m__init__\u001b[39m(\u001b[38;5;28mself\u001b[39m, *args: Any, **kwargs: Any) -> \u001b[38;5;28;01mNone\u001b[39;00m:\n\u001b[32m    129\u001b[39m \u001b[38;5;250m    \u001b[39m\u001b[33;03m\"\"\"\"\"\"\u001b[39;00m  \u001b[38;5;66;03m# noqa: D419\u001b[39;00m\n\u001b[32m--> \u001b[39m\u001b[32m130\u001b[39m     \u001b[38;5;28;43msuper\u001b[39;49m\u001b[43m(\u001b[49m\u001b[43m)\u001b[49m\u001b[43m.\u001b[49m\u001b[34;43m__init__\u001b[39;49m\u001b[43m(\u001b[49m\u001b[43m*\u001b[49m\u001b[43margs\u001b[49m\u001b[43m,\u001b[49m\u001b[43m \u001b[49m\u001b[43m*\u001b[49m\u001b[43m*\u001b[49m\u001b[43mkwargs\u001b[49m\u001b[43m)\u001b[49m\n",
            "    \u001b[31m[... skipping hidden 1 frame]\u001b[39m\n",
            "\u001b[36mFile \u001b[39m\u001b[32m~/GAAPB03-training/gen-ai/lib/python3.12/site-packages/pydantic/main.py:253\u001b[39m, in \u001b[36mBaseModel.__init__\u001b[39m\u001b[34m(self, **data)\u001b[39m\n\u001b[32m    251\u001b[39m \u001b[38;5;66;03m# `__tracebackhide__` tells pytest and some other tools to omit this function from tracebacks\u001b[39;00m\n\u001b[32m    252\u001b[39m __tracebackhide__ = \u001b[38;5;28;01mTrue\u001b[39;00m\n\u001b[32m--> \u001b[39m\u001b[32m253\u001b[39m validated_self = \u001b[38;5;28;43mself\u001b[39;49m\u001b[43m.\u001b[49m\u001b[43m__pydantic_validator__\u001b[49m\u001b[43m.\u001b[49m\u001b[43mvalidate_python\u001b[49m\u001b[43m(\u001b[49m\u001b[43mdata\u001b[49m\u001b[43m,\u001b[49m\u001b[43m \u001b[49m\u001b[43mself_instance\u001b[49m\u001b[43m=\u001b[49m\u001b[38;5;28;43mself\u001b[39;49m\u001b[43m)\u001b[49m\n\u001b[32m    254\u001b[39m \u001b[38;5;28;01mif\u001b[39;00m \u001b[38;5;28mself\u001b[39m \u001b[38;5;129;01mis\u001b[39;00m \u001b[38;5;129;01mnot\u001b[39;00m validated_self:\n\u001b[32m    255\u001b[39m     warnings.warn(\n\u001b[32m    256\u001b[39m         \u001b[33m'\u001b[39m\u001b[33mA custom validator is returning a value other than `self`.\u001b[39m\u001b[38;5;130;01m\\n\u001b[39;00m\u001b[33m'\u001b[39m\n\u001b[32m    257\u001b[39m         \u001b[33m\"\u001b[39m\u001b[33mReturning anything other than `self` from a top level model validator isn\u001b[39m\u001b[33m'\u001b[39m\u001b[33mt supported when validating via `__init__`.\u001b[39m\u001b[38;5;130;01m\\n\u001b[39;00m\u001b[33m\"\u001b[39m\n\u001b[32m    258\u001b[39m         \u001b[33m'\u001b[39m\u001b[33mSee the `model_validator` docs (https://docs.pydantic.dev/latest/concepts/validators/#model-validators) for more details.\u001b[39m\u001b[33m'\u001b[39m,\n\u001b[32m    259\u001b[39m         stacklevel=\u001b[32m2\u001b[39m,\n\u001b[32m    260\u001b[39m     )\n",
            "\u001b[31mValidationError\u001b[39m: 1 validation error for TavilySearchAPIWrapper\n  Value error, Did not find tavily_api_key, please add an environment variable `TAVILY_API_KEY` which contains it, or pass `tavily_api_key` as a named parameter. [type=value_error, input_value={}, input_type=dict]\n    For further information visit https://errors.pydantic.dev/2.11/v/value_error"
          ]
        }
      ],
      "source": [
        "# Initialize Web Search Tool\n",
        "from langchain.tools.tavily_search import TavilySearchResults\n",
        "\n",
        "# Set maximum search results to 3\n",
        "web_search_tool = TavilySearchResults(max_results=3)"
      ]
    },
    {
      "cell_type": "code",
      "execution_count": 106,
      "id": "694d7bae",
      "metadata": {
        "id": "694d7bae",
        "outputId": "ec39105a-9e28-48f8-e187-c7fce0ebd3af"
      },
      "outputs": [
        {
          "name": "stdout",
          "output_type": "stream",
          "text": [
            "[{'title': 'What are Large Cap Mutual Funds? - ET Money', 'url': 'https://www.etmoney.com/learn/mutual-funds/large-cap-mutual-funds/', 'content': 'Large Cap funds are a kind of equity funds that invest a major proportion of their assets under management (AUM) in equity shares of companies with a large market capitalization, such as Reliance, HUL, TCS, and more. These companies that fall under this bracket are known to have a high reputation in the market. With the best large-cap funds, you can be assured that you are investing in companies that have an excellent track record of performing well in the medium to long-term horizons. [...] Large Cap funds are relatively safer form of equity investments as they are known to withstand bear markets. With a good investment horizon, Large Cap funds can deliver sound and stable returns.\\n\\nLike all mutual fund schemes, Large Cap funds are also managed by professional fund managers. [...] When contrasted with small-cap and mid-cap funds, these funds tend to pose a lesser risk and might be perfect for risk-averse investors.\\n\\n2. Who Should Invest in Large Cap Funds?\\n\\nLarge Cap should be a choice for those individuals who need to make good use of equity investments but don’t need their returns to keep on fluctuating with time. Since large-cap funds are known to be financially stable, they are capable of withstanding bear markets.', 'score': 0.9277898}, {'title': 'Dana Large Cap Equity Fund - Dana Funds', 'url': 'https://www.danafunds.com/large-cap-equity-fund/large-cap-overview/', 'content': 'The Large Cap Equity Fund holds a diversified portfolio of approximately 50 to 55 U.S. large cap stocks. Risk controls are implemented throughout the portfolio construction process, and we look to add value with disciplined fundamental stock selection. The Fund includes a blend of characteristics designed to perform well in up, down, growth, or value markets. [...] Large capitalization stocks that trade at a discount and where the Adviser believes there is above average future growth potential for earnings. Using an approach of quantitative modeling and fundamental research employed by Dana Investment Advisors in institutional products since 1999, the advisor selects securities for the portfolio to generate alpha over the long-term.\\nSTRATEGIC FOCUS [...] Dana Investment Advisors was built on the belief that adhering to a defined investment process allows our professionals to focus on the fundamentals of consistent outperformance through security selection.\\nINVESTMENT OBJECTIVE\\nLong-term growth of capital, met through exposure to large-cap stocks while mitigating volatility through a disciplined, risk-controlled, relative value investment process.\\nUNIQUE OPPORTUNITY', 'score': 0.91490877}, {'title': '[PDF] LARGE CAP EQUITY FUND - Indiana', 'url': 'https://www.in.gov/inprs/files/INPRSLargeCapEquity.pdf', 'content': 'The Investment Objective of the Large Cap. Equity Fund is to seek investment growth/capital appreciation through passive investment in the stocks of large-sized', 'score': 0.8858788}]\n"
          ]
        }
      ],
      "source": [
        "# Execute web search tool\n",
        "results = web_search_tool.invoke({\"query\": question})\n",
        "print(results)"
      ]
    },
    {
      "cell_type": "markdown",
      "id": "8f30cb22",
      "metadata": {
        "id": "8f30cb22"
      },
      "source": [
        "## State\n",
        "\n",
        "Define the state for the CRAG graph.\n",
        "\n",
        "```Web_search``` represents the state indicating whether to use web search.\n",
        "It is expressed as yes or no (yes: web search required, no: not required)."
      ]
    },
    {
      "cell_type": "code",
      "execution_count": 107,
      "id": "b07cb207",
      "metadata": {
        "id": "b07cb207"
      },
      "outputs": [],
      "source": [
        "from typing import Annotated, List\n",
        "from typing_extensions import TypedDict\n",
        "\n",
        "# Define State\n",
        "class GraphState(TypedDict):\n",
        "    question: Annotated[str, \"The question to answer\"]\n",
        "    generation: Annotated[str, \"The generation from the LLM\"]\n",
        "    web_search: Annotated[str, \"Whether to add search\"]\n",
        "    documents: Annotated[List[str], \"The documents retrieved\"]\n",
        "    refined_for_re_retrieval:bool\n",
        "    relevant:bool\n",
        "    answer:str\n",
        "    "
      ]
    },
    {
      "cell_type": "markdown",
      "id": "423bdd4b",
      "metadata": {
        "id": "423bdd4b"
      },
      "source": [
        "## Node\n",
        "\n",
        "Define the nodes to be used in the CRAG graph."
      ]
    },
    {
      "cell_type": "code",
      "execution_count": null,
      "id": "4b89e9cb",
      "metadata": {
        "id": "4b89e9cb"
      },
      "outputs": [],
      "source": [
        "from langchain.schema import Document\n",
        "from langgraph.graph import StateGraph, END\n",
        "\n",
        "\n",
        "# Document Retrieval Node\n",
        "def retrieve(state: GraphState):\n",
        "    print(\"\\n==== RETRIEVE ====\\n\")\n",
        "    question = state[\"question\"]\n",
        "\n",
        "    # Perform document retrieval.\n",
        "    documents = retriever.invoke(question)\n",
        "    return {\"documents\": documents}\n",
        "\n",
        "\n",
        "# Answer Generation Node\n",
        "def generate(state: GraphState):\n",
        "    print(\"\\n==== GENERATE ====\\n\")\n",
        "    context = \"\\n\".join([doc.page_content for doc in state[\"documents\"]])\n",
        "    message = ragprompt.invoke({\"question\":state[\"question\"],\"context\":context})\n",
        "    response = llm.invoke(message)\n",
        "    return {\"answer\": response}\n",
        "\n",
        "\n",
        "# Document Evaluation Node\n",
        "def grade_documents(state: GraphState):\n",
        "    print(\"\\n==== [CHECK DOCUMENT RELEVANCE TO QUESTION] ====\\n\")\n",
        "    prompt = PromptTemplate.from_template(\"\"\"\n",
        "    Are the following documents relevant to the query?\n",
        "    Query: {query}\n",
        "    Documents: {docs}\n",
        "    Answer \"YES\" or \"NO\".\n",
        "    \"\"\")\n",
        "    formatted_docs = \"\\n\".join([doc.page_content for doc in state[\"documents\"]])\n",
        "    result = llm.invoke(prompt.format(query=state[\"question\"], docs=formatted_docs))\n",
        "    is_relevant = \"yes\" in result.content.lower()\n",
        "    return {\n",
        "        \"question\": state[\"question\"],\n",
        "        \"documents\": state[\"documents\"],\n",
        "        \"relevant\": is_relevant,\n",
        "        \"refined_for_re_retrieval\": state.get(\"refined_for_re_retrieval\")\n",
        "    }\n",
        "\n",
        "\n",
        "# Query Rewriting Node\n",
        "def query_rewrite(state: GraphState):\n",
        "    print(\"\\n==== [REWRITE QUERY] ====\\n\")\n",
        "    question = state[\"question\"]\n",
        "\n",
        "    if not state.get(\"refined_for_re_retrieval\"): # for first time query finetuning for Vector DB\n",
        "        prompt = f\"Generate 5 improved variants of the following query: {question}\"\n",
        "        response = llm.invoke(prompt)\n",
        "        improved_query = question + \" \" + \" \".join(response.content.split(\"\\n\"))\n",
        "        print(improved_query)\n",
        "        return {\"question\": improved_query, \"refined_for_re_retrieval\": True}\n",
        "    else:\n",
        "        # Rewrite the question.\n",
        "        better_question = question_rewriter.invoke({\"question\": question})\n",
        "        return {\"question\": better_question, \"web_search\": True}\n",
        "\n",
        "# Web Search Node\n",
        "def web_search(state: GraphState):\n",
        "    print(\"\\n==== [WEB SEARCH] ====\\n\")\n",
        "    question = state[\"question\"]\n",
        "    documents = state['documents']\n",
        "\n",
        "    # Perform web search.\n",
        "    docs = web_search_tool.invoke({\"query\": question})\n",
        "    # Convert search results into document format.\n",
        "    web_results = \"\\n\".join([d[\"content\"] for d in docs])\n",
        "    web_results = Document(page_content=web_results)\n",
        "    documents.append(web_results)\n",
        "\n",
        "    return {\"documents\": documents}\n",
        "\n"
      ]
    },
    {
      "cell_type": "markdown",
      "id": "52091fa6",
      "metadata": {
        "id": "52091fa6"
      },
      "source": [
        "## Function for Conditional Edges\n",
        "\n",
        "The ```decide_to_generate``` function routes to the next node based on whether web search is required after relevance evaluation.\n",
        "\n",
        "If ```web_search``` is ```Yes```, it rewrites the query at the ```query_rewrite``` node and performs a web search.\n",
        "\n",
        "If ```web_search``` is ```No```, it proceeds to ```generate``` to create the final answer.\n"
      ]
    },
    {
      "cell_type": "markdown",
      "id": "aaadaa1e",
      "metadata": {
        "id": "aaadaa1e"
      },
      "source": [
        "## Graph Creation\n",
        "\n",
        "Now, define the nodes and connect the edges to complete the graph."
      ]
    },
    {
      "cell_type": "code",
      "execution_count": 109,
      "id": "99977214",
      "metadata": {
        "id": "99977214",
        "outputId": "26132a5d-cefb-4ba1-cc38-5d4e34efbc4e"
      },
      "outputs": [],
      "source": [
        "# from langgraph.graph import END, StateGraph, START\n",
        "\n",
        "# # Initialize graph state\n",
        "# workflow = StateGraph(GraphState)\n",
        "\n",
        "# # Define nodes\n",
        "# workflow.add_node(\"retrieve\", retrieve)\n",
        "# workflow.add_node(\"grade_documents\", grade_documents)\n",
        "# workflow.add_node(\"generate\", generate)\n",
        "# workflow.add_node(\"query_rewrite\", query_rewrite)\n",
        "# workflow.add_node(\"web_search_node\", web_search)\n",
        "\n",
        "# # Connect edges\n",
        "# workflow.add_edge(START, \"retrieve\")\n",
        "# workflow.add_edge(\"retrieve\", \"grade_documents\")\n",
        "\n",
        "# # Add conditional edges at the document evaluation node\n",
        "# workflow.add_conditional_edges(\n",
        "#     \"grade_documents\",\n",
        "#     decide_to_generate,\n",
        "#     {\n",
        "#         \"query_rewrite\": \"query_rewrite\",\n",
        "#         \"generate\": \"generate\",\n",
        "#     },\n",
        "# )\n",
        "\n",
        "# # Connect edges\n",
        "# workflow.add_edge(\"query_rewrite\", \"web_search_node\")\n",
        "# workflow.add_edge(\"web_search_node\", \"generate\")\n",
        "# workflow.add_edge(\"generate\", END)\n",
        "\n",
        "# # Compile the graph\n",
        "# app = workflow.compile()"
      ]
    },
    {
      "cell_type": "markdown",
      "id": "8c98c318",
      "metadata": {
        "id": "8c98c318"
      },
      "source": [
        "Visualize the graph."
      ]
    },
    {
      "cell_type": "code",
      "execution_count": 110,
      "id": "71047d74",
      "metadata": {
        "id": "71047d74",
        "outputId": "99ffab2f-7da4-416f-a375-a3754ecb95fd"
      },
      "outputs": [],
      "source": [
        "# from IPython.display import Image, display\n",
        "# display(Image(app.get_graph(xray=True).draw_mermaid_png()))"
      ]
    },
    {
      "cell_type": "code",
      "execution_count": 111,
      "id": "65bd6ae0",
      "metadata": {},
      "outputs": [
        {
          "data": {
            "image/png": "[encoded data removed]",
            "text/plain": [
              "<langgraph.graph.state.CompiledStateGraph object at 0x7424f7488bc0>"
            ]
          },
          "execution_count": 111,
          "metadata": {},
          "output_type": "execute_result"
        }
      ],
      "source": [
        "# ---- Subgraph: Retrieval + Grading ----\n",
        "def build_retrieval_grader_subgraph():\n",
        "    sub_builder = StateGraph(GraphState)\n",
        "    sub_builder.add_node(\"Retrieve\", retrieve)\n",
        "    sub_builder.add_node(\"Grade\", grade_documents)\n",
        "    sub_builder.set_entry_point(\"Retrieve\")\n",
        "    sub_builder.add_edge(\"Retrieve\", \"Grade\")\n",
        "    sub_builder.add_edge(\"Grade\", END)\n",
        "    return sub_builder.compile()\n",
        "\n",
        "retrieval_grader = build_retrieval_grader_subgraph()\n",
        "\n",
        "\n",
        "# ---- Main Graph ----\n",
        "builder = StateGraph(GraphState)\n",
        "\n",
        "builder.add_node(\"RetrievalGrader\", retrieval_grader)\n",
        "builder.add_node(\"Generator\", generate)\n",
        "builder.add_node(\"QueryRewrite\", query_rewrite)\n",
        "builder.add_node(\"WebSearch\", web_search)\n",
        "\n",
        "builder.set_entry_point(\"RetrievalGrader\")\n",
        "\n",
        "# ---- Routing Logic ----\n",
        "def route_after_grading(state: GraphState) -> str:\n",
        "    if state[\"relevant\"]:\n",
        "        return \"Generator\"\n",
        "    elif not state[\"refined_for_re_retrieval\"]:\n",
        "        return \"QueryRewrite\"\n",
        "    elif state.get(\"web_search\"):\n",
        "        return \"WebSearch\"\n",
        "    else:\n",
        "        return \"QueryRewrite\"\n",
        "\n",
        "def route_after_rewrite(state: GraphState) -> str:\n",
        "    if state.get(\"web_search\"):\n",
        "        return \"WebSearch\"\n",
        "    return \"RetrievalGrader\"\n",
        "\n",
        "builder.add_conditional_edges(\"RetrievalGrader\", route_after_grading,{\"Generator\":\"Generator\",\n",
        "                                                                      \"QueryRewrite\":\"QueryRewrite\",\n",
        "                                                                      \"WebSearch\":\"WebSearch\",\n",
        "                                                                      })\n",
        "builder.add_edge(\"Generator\", END)\n",
        "builder.add_conditional_edges(\"QueryRewrite\", route_after_rewrite,{\"WebSearch\":\"WebSearch\",\"RetrievalGrader\":\"RetrievalGrader\"})\n",
        "builder.add_edge(\"WebSearch\", \"Generator\")\n",
        "\n",
        "graph = builder.compile()\n",
        "\n",
        "graph"
      ]
    },
    {
      "cell_type": "code",
      "execution_count": 112,
      "id": "7537d59a",
      "metadata": {},
      "outputs": [
        {
          "data": {
            "image/png": "[encoded data removed]",
            "text/plain": [
              "<IPython.core.display.Image object>"
            ]
          },
          "metadata": {},
          "output_type": "display_data"
        }
      ],
      "source": [
        "from IPython.display import Image, display\n",
        "display(Image(graph.get_graph(xray=True).draw_mermaid_png()))"
      ]
    },
    {
      "cell_type": "code",
      "execution_count": 113,
      "id": "caa3818f",
      "metadata": {},
      "outputs": [
        {
          "data": {
            "image/png": "[encoded data removed]",
            "text/plain": [
              "<langgraph.graph.state.CompiledStateGraph object at 0x7424f74d87d0>"
            ]
          },
          "execution_count": 113,
          "metadata": {},
          "output_type": "execute_result"
        }
      ],
      "source": [
        "retrieval_grader"
      ]
    },
    {
      "cell_type": "code",
      "execution_count": 117,
      "id": "92203ff9",
      "metadata": {},
      "outputs": [
        {
          "name": "stdout",
          "output_type": "stream",
          "text": [
            "\n",
            "==== RETRIEVE ====\n",
            "\n",
            "\n",
            "==== [CHECK DOCUMENT RELEVANCE TO QUESTION] ====\n",
            "\n",
            "\n",
            "==== [REWRITE QUERY] ====\n",
            "\n",
            "\n",
            "==== RETRIEVE ====\n",
            "\n",
            "\n",
            "==== [CHECK DOCUMENT RELEVANCE TO QUESTION] ====\n",
            "\n",
            "\n",
            "==== [REWRITE QUERY] ====\n",
            "\n",
            "\n",
            "==== [WEB SEARCH] ====\n",
            "\n",
            "\n",
            "==== GENERATE ====\n",
            "\n",
            "Final Answer: content='LangGraph is a framework built on top of LangChain designed for creating complex workflows using graph-based models, specifically Directed Cyclic Graphs (DCGs). It is intended for building stateful, multi-agent applications leveraging large language models (LLMs).\\n\\n**Main Features:**\\n- Utilizes nodes (functions or tools) and edges (connections) to model workflows.\\n- Supports stateful orchestration, allowing added control over agent workflows.\\n- Includes advanced features such as conditional edges, visualization, and state management.\\n- Provides scalable infrastructure for deploying applications.\\n- Comes with Software Development Kits (SDKs) for Python and JavaScript.\\n- LangGraph Platform offers a service for deploying and scaling applications, with an opinionated API for building agent user experiences and an integrated developer studio.\\n\\n**Applications and Use Cases:**\\n- Ideal for multi-agent systems.\\n- Suitable for developing complex AI-driven workflows beyond simple applications.\\n- Enables developers to build, deploy, and scale stateful, agentic AI applications efficiently.\\n\\nAll information above is from the provided context.' additional_kwargs={'refusal': None} response_metadata={'token_usage': {'completion_tokens': 210, 'prompt_tokens': 1099, 'total_tokens': 1309, 'completion_tokens_details': {'accepted_prediction_tokens': 0, 'audio_tokens': 0, 'reasoning_tokens': 0, 'rejected_prediction_tokens': 0}, 'prompt_tokens_details': {'audio_tokens': 0, 'cached_tokens': 0}}, 'model_name': 'gpt-4.1-mini-2025-04-14', 'system_fingerprint': 'fp_178c8d546f', 'id': 'chatcmpl-Bc5MorOUzNNzrRPjflM28tMXO1Ev7', 'service_tier': None, 'prompt_filter_results': [{'prompt_index': 0, 'content_filter_results': {'hate': {'filtered': False, 'severity': 'safe'}, 'jailbreak': {'filtered': False, 'detected': False}, 'self_harm': {'filtered': False, 'severity': 'safe'}, 'sexual': {'filtered': False, 'severity': 'safe'}, 'violence': {'filtered': False, 'severity': 'safe'}}}], 'finish_reason': 'stop', 'logprobs': None, 'content_filter_results': {'hate': {'filtered': False, 'severity': 'safe'}, 'protected_material_code': {'filtered': False, 'detected': False}, 'protected_material_text': {'filtered': False, 'detected': False}, 'self_harm': {'filtered': False, 'severity': 'safe'}, 'sexual': {'filtered': False, 'severity': 'safe'}, 'violence': {'filtered': False, 'severity': 'safe'}}} id='run--2cc54999-2851-4615-902f-217decab046f-0' usage_metadata={'input_tokens': 1099, 'output_tokens': 210, 'total_tokens': 1309, 'input_token_details': {'audio': 0, 'cache_read': 0}, 'output_token_details': {'audio': 0, 'reasoning': 0}}\n"
          ]
        }
      ],
      "source": [
        "# ---- Execute Graph ----\n",
        "response = graph.invoke({\"question\": \"What is LangGraph and how is it used?\"})\n",
        "print(\"Final Answer:\", response.get(\"answer\"))\n"
      ]
    },
    {
      "cell_type": "code",
      "execution_count": 118,
      "id": "422784a1",
      "metadata": {},
      "outputs": [
        {
          "data": {
            "text/plain": [
              "{'question': 'What is LangGraph, and what are its main features, applications, and use cases?',\n",
              " 'web_search': True,\n",
              " 'documents': [Document(id='6211bf99-9b5e-4e17-a774-cbcf8d3f813c', metadata={'moddate': '2016-02-22T16:28:28-06:00', 'source': 'https://s21.q4cdn.com/198919461/files/doc_downloads/press_kits/2016/Morningstar-Sustainable-Investing-Handbook.pdf', 'page_label': '6', 'producer': 'Adobe PDF Library 10.0.1', 'page': 6, 'start_index': 0, 'creator': 'Adobe InDesign CS6 (Macintosh)', 'creationdate': '2016-02-22T16:28:27-06:00', 'total_pages': 13, 'trapped': '/False'}, page_content='The Morningstar Sustainable Investing Handbook\\n6\\nFrequently Asked Questions\\n \\nWhat is sustainable investing?\\nSustainable investing is a long-term approach to investing that incorporates ESG considerations \\ninto the investment process. \\nWhat is ESG? \\nESG refers to environmental, social, and governance issues that sustainable investors,  \\nand increasingly, traditional investors, consider when making investment decisions. \\nExamples of ESG Issues  \\nEnvironmental  Social Governance\\nClimate change and carbon emissions Gender and diversity policies Board composition\\nAir and water pollution Human rights Executive compensation\\nEnergy efficiency Labor standards Audit committee structure\\nWaste management Employee engagement Bribery and corruption policies\\nWater scarcity  Customer satisfaction Lobbying activities\\nBiodiversity and deforestation Community relations Political contributions\\nSource: Environmental, Social, and Governance Issues in Investing: A Guide for Investment Professionals, CFA Institute \\nWhat about other terms like “socially responsible investing”  \\nand “impact investing”? \\nThese terms are often used interchangeably with sustainable investing and ESG, but can  \\nalso have slightly different meanings. Socially responsible investing (SRI) traditionally focused on \\nexclusionary screening to ensure a portfolio reflected the values of an investor. As investors \\nconcerned about SRI became more interested in complex environmental and workplace issues, \\ntheir portfolios increasingly came to include more holistic ESG evaluations of companies,  \\noften in addition to exclusionary screening. Impact investing refers to investments that attempt  \\nto deliver measurable social or environmental impacts alongside their financial returns. \\nWhy is Morningstar using the terms “sustainable investing” and “ESG”?  \\nESG has become the standard way to describe the general approach that sustainable/responsible/\\nimpact investors take with their portfolios. Sustainable investing is commonly used as an \\noverarching term to describe the objective of ESG analysis, which is to evaluate how effectively \\ncompanies are addressing sustainability issues.'),\n",
              "  Document(id='984c0f5e-057f-46ca-9110-7c81cb180268', metadata={'creationdate': '2016-02-22T16:28:27-06:00', 'producer': 'Adobe PDF Library 10.0.1', 'total_pages': 13, 'source': 'https://s21.q4cdn.com/198919461/files/doc_downloads/press_kits/2016/Morningstar-Sustainable-Investing-Handbook.pdf', 'start_index': 0, 'trapped': '/False', 'page': 6, 'creator': 'Adobe InDesign CS6 (Macintosh)', 'moddate': '2016-02-22T16:28:28-06:00', 'page_label': '6'}, page_content='The Morningstar Sustainable Investing Handbook\\n6\\nFrequently Asked Questions\\n \\nWhat is sustainable investing?\\nSustainable investing is a long-term approach to investing that incorporates ESG considerations \\ninto the investment process. \\nWhat is ESG? \\nESG refers to environmental, social, and governance issues that sustainable investors,  \\nand increasingly, traditional investors, consider when making investment decisions. \\nExamples of ESG Issues  \\nEnvironmental  Social Governance\\nClimate change and carbon emissions Gender and diversity policies Board composition\\nAir and water pollution Human rights Executive compensation\\nEnergy efficiency Labor standards Audit committee structure\\nWaste management Employee engagement Bribery and corruption policies\\nWater scarcity  Customer satisfaction Lobbying activities\\nBiodiversity and deforestation Community relations Political contributions\\nSource: Environmental, Social, and Governance Issues in Investing: A Guide for Investment Professionals, CFA Institute \\nWhat about other terms like “socially responsible investing”  \\nand “impact investing”? \\nThese terms are often used interchangeably with sustainable investing and ESG, but can  \\nalso have slightly different meanings. Socially responsible investing (SRI) traditionally focused on \\nexclusionary screening to ensure a portfolio reflected the values of an investor. As investors \\nconcerned about SRI became more interested in complex environmental and workplace issues, \\ntheir portfolios increasingly came to include more holistic ESG evaluations of companies,  \\noften in addition to exclusionary screening. Impact investing refers to investments that attempt  \\nto deliver measurable social or environmental impacts alongside their financial returns. \\nWhy is Morningstar using the terms “sustainable investing” and “ESG”?  \\nESG has become the standard way to describe the general approach that sustainable/responsible/\\nimpact investors take with their portfolios. Sustainable investing is commonly used as an \\noverarching term to describe the objective of ESG analysis, which is to evaluate how effectively \\ncompanies are addressing sustainability issues.'),\n",
              "  Document(metadata={}, page_content='1. What is LangGraph?\\nLangGraph is a framework built on top of LangChain that allows developers to create complex workflows using graph-based models. A graph in this context consists of nodes (representing functions or tools) and edges (representing connections between those nodes). This structure enables LangGraph to handle complex AI-driven applications with ease.\\nKey Definition:\\n\\nLangGraph: A framework within LangChain for creating workflows using Directed Cyclic Graphs (DCGs). [...] 3. Key Features of LangGraph\\nLangGraph is packed with features designed to streamline your AI development process: [...] LangGraph is ideal for multi-agent systems and complex AI workflows.\\nIt offers advanced features like conditional edges, visualization, and state management.\\nPerfect for developers looking to scale beyond simple applications.\\n\\nResources\\n\\nLangChain Documentation\\nLangGraph GitHub Repository\\nWhat is LangGraph¶. LangGraph is a library designed for building stateful, multi-agent applications using large language models (LLMs).\\nLangGraph is a stateful, orchestration framework that brings added control to agent workflows. LangGraph Platform is a service for deploying and scaling LangGraph applications, with an opinionated API for building agent UXs, plus an integrated developer studio.\\nLangGraph (open source)\\nLangGraph Platform\\nFeatures\\nDescription\\nStateful orchestration framework for agentic applications\\nScalable infrastructure for deploying LangGraph applications\\nSDKs\\nPython and JavaScript\\nPython and JavaScript')],\n",
              " 'refined_for_re_retrieval': True,\n",
              " 'relevant': False,\n",
              " 'answer': AIMessage(content='LangGraph is a framework built on top of LangChain designed for creating complex workflows using graph-based models, specifically Directed Cyclic Graphs (DCGs). It is intended for building stateful, multi-agent applications leveraging large language models (LLMs).\\n\\n**Main Features:**\\n- Utilizes nodes (functions or tools) and edges (connections) to model workflows.\\n- Supports stateful orchestration, allowing added control over agent workflows.\\n- Includes advanced features such as conditional edges, visualization, and state management.\\n- Provides scalable infrastructure for deploying applications.\\n- Comes with Software Development Kits (SDKs) for Python and JavaScript.\\n- LangGraph Platform offers a service for deploying and scaling applications, with an opinionated API for building agent user experiences and an integrated developer studio.\\n\\n**Applications and Use Cases:**\\n- Ideal for multi-agent systems.\\n- Suitable for developing complex AI-driven workflows beyond simple applications.\\n- Enables developers to build, deploy, and scale stateful, agentic AI applications efficiently.\\n\\nAll information above is from the provided context.', additional_kwargs={'refusal': None}, response_metadata={'token_usage': {'completion_tokens': 210, 'prompt_tokens': 1099, 'total_tokens': 1309, 'completion_tokens_details': {'accepted_prediction_tokens': 0, 'audio_tokens': 0, 'reasoning_tokens': 0, 'rejected_prediction_tokens': 0}, 'prompt_tokens_details': {'audio_tokens': 0, 'cached_tokens': 0}}, 'model_name': 'gpt-4.1-mini-2025-04-14', 'system_fingerprint': 'fp_178c8d546f', 'id': 'chatcmpl-Bc5MorOUzNNzrRPjflM28tMXO1Ev7', 'service_tier': None, 'prompt_filter_results': [{'prompt_index': 0, 'content_filter_results': {'hate': {'filtered': False, 'severity': 'safe'}, 'jailbreak': {'filtered': False, 'detected': False}, 'self_harm': {'filtered': False, 'severity': 'safe'}, 'sexual': {'filtered': False, 'severity': 'safe'}, 'violence': {'filtered': False, 'severity': 'safe'}}}], 'finish_reason': 'stop', 'logprobs': None, 'content_filter_results': {'hate': {'filtered': False, 'severity': 'safe'}, 'protected_material_code': {'filtered': False, 'detected': False}, 'protected_material_text': {'filtered': False, 'detected': False}, 'self_harm': {'filtered': False, 'severity': 'safe'}, 'sexual': {'filtered': False, 'severity': 'safe'}, 'violence': {'filtered': False, 'severity': 'safe'}}}, id='run--2cc54999-2851-4615-902f-217decab046f-0', usage_metadata={'input_tokens': 1099, 'output_tokens': 210, 'total_tokens': 1309, 'input_token_details': {'audio': 0, 'cache_read': 0}, 'output_token_details': {'audio': 0, 'reasoning': 0}})}"
            ]
          },
          "execution_count": 118,
          "metadata": {},
          "output_type": "execute_result"
        }
      ],
      "source": [
        "response"
      ]
    },
    {
      "cell_type": "code",
      "execution_count": 115,
      "id": "ff776b35",
      "metadata": {},
      "outputs": [
        {
          "name": "stdout",
          "output_type": "stream",
          "text": [
            "\n",
            "==== RETRIEVE ====\n",
            "\n",
            "\n",
            "==== [CHECK DOCUMENT RELEVANCE TO QUESTION] ====\n",
            "\n",
            "\n",
            "==== GENERATE ====\n",
            "\n",
            "Final Answer: content='Large cap refers to stocks that are among the Top 100 stocks by full market capitalization of the equity market. Large-Cap funds primarily consist of these stocks and invest at least 80% of their total assets in Indian equities, with the remaining balance possibly invested in other asset classes such as fixed income and overseas equities. Funds in this category invest at least 80% of their total assets in large-cap stocks.' additional_kwargs={'refusal': None} response_metadata={'token_usage': {'completion_tokens': 84, 'prompt_tokens': 876, 'total_tokens': 960, 'completion_tokens_details': {'accepted_prediction_tokens': 0, 'audio_tokens': 0, 'reasoning_tokens': 0, 'rejected_prediction_tokens': 0}, 'prompt_tokens_details': {'audio_tokens': 0, 'cached_tokens': 0}}, 'model_name': 'gpt-4.1-mini-2025-04-14', 'system_fingerprint': 'fp_178c8d546f', 'id': 'chatcmpl-Bc5KHXdLcClNsMyOiGjCAmp2NOyjd', 'service_tier': None, 'prompt_filter_results': [{'prompt_index': 0, 'content_filter_results': {'hate': {'filtered': False, 'severity': 'safe'}, 'jailbreak': {'filtered': False, 'detected': False}, 'self_harm': {'filtered': False, 'severity': 'safe'}, 'sexual': {'filtered': False, 'severity': 'safe'}, 'violence': {'filtered': False, 'severity': 'safe'}}}], 'finish_reason': 'stop', 'logprobs': None, 'content_filter_results': {'hate': {'filtered': False, 'severity': 'safe'}, 'protected_material_code': {'filtered': False, 'detected': False}, 'protected_material_text': {'filtered': False, 'detected': False}, 'self_harm': {'filtered': False, 'severity': 'safe'}, 'sexual': {'filtered': False, 'severity': 'safe'}, 'violence': {'filtered': False, 'severity': 'safe'}}} id='run--32548eb5-007f-43aa-b06f-7c17c75d6bba-0' usage_metadata={'input_tokens': 876, 'output_tokens': 84, 'total_tokens': 960, 'input_token_details': {'audio': 0, 'cache_read': 0}, 'output_token_details': {'audio': 0, 'reasoning': 0}}\n"
          ]
        }
      ],
      "source": [
        "# ---- Execute Graph ----\n",
        "response = graph.invoke({\"question\": \"What is large cap?\"})\n",
        "print(\"Final Answer:\", response.get(\"answer\"))"
      ]
    },
    {
      "cell_type": "code",
      "execution_count": 116,
      "id": "172f997e",
      "metadata": {},
      "outputs": [
        {
          "name": "stdout",
          "output_type": "stream",
          "text": [
            "\n",
            "==== RETRIEVE ====\n",
            "\n",
            "\n",
            "==== [CHECK DOCUMENT RELEVANCE TO QUESTION] ====\n",
            "\n",
            "\n",
            "==== GENERATE ====\n",
            "\n",
            "Final Answer: content='The context defines \"Large-Cap\" funds as funds that primarily consist of stocks which are the Top 100 stocks by full market capitalization of the equity market. These funds invest at least 80% of total assets in Indian equities, with at least 80% of their total assets in large-cap stocks.' additional_kwargs={'refusal': None} response_metadata={'token_usage': {'completion_tokens': 63, 'prompt_tokens': 879, 'total_tokens': 942, 'completion_tokens_details': {'accepted_prediction_tokens': 0, 'audio_tokens': 0, 'reasoning_tokens': 0, 'rejected_prediction_tokens': 0}, 'prompt_tokens_details': {'audio_tokens': 0, 'cached_tokens': 0}}, 'model_name': 'gpt-4.1-mini-2025-04-14', 'system_fingerprint': 'fp_178c8d546f', 'id': 'chatcmpl-Bc5KmhR2k7kTDb9Oaer7ea6pY7XoF', 'service_tier': None, 'prompt_filter_results': [{'prompt_index': 0, 'content_filter_results': {'hate': {'filtered': False, 'severity': 'safe'}, 'jailbreak': {'filtered': False, 'detected': False}, 'self_harm': {'filtered': False, 'severity': 'safe'}, 'sexual': {'filtered': False, 'severity': 'safe'}, 'violence': {'filtered': False, 'severity': 'safe'}}}], 'finish_reason': 'stop', 'logprobs': None, 'content_filter_results': {'hate': {'filtered': False, 'severity': 'safe'}, 'self_harm': {'filtered': False, 'severity': 'safe'}, 'sexual': {'filtered': False, 'severity': 'safe'}, 'violence': {'filtered': False, 'severity': 'safe'}}} id='run--da693d8a-9e6c-4211-ac7f-86063b5971a2-0' usage_metadata={'input_tokens': 879, 'output_tokens': 63, 'total_tokens': 942, 'input_token_details': {'audio': 0, 'cache_read': 0}, 'output_token_details': {'audio': 0, 'reasoning': 0}}\n"
          ]
        }
      ],
      "source": [
        "# ---- Execute Graph ----\n",
        "response = graph.invoke({\"question\": \"largggge capp fasnddd?\"})\n",
        "print(\"Final Answer:\", response.get(\"answer\"))"
      ]
    },
    {
      "cell_type": "markdown",
      "id": "4357c3d7",
      "metadata": {
        "id": "4357c3d7"
      },
      "source": [
        "## Graph Execution\n",
        "\n",
        "Now, execute the graph and check the results. This explains how to stream results in a RAG application.\n",
        "\n",
        "There are two streaming output modes for the graph: ```messages``` and ```updates```. These can be controlled by specifying the ```stream_mode``` parameter.\n",
        "\n",
        "- ```stream_mode=\"updates\"```: Typically streams during the call steps,  meaning updates to the state of individual nodes. In this case, each node simply adds a new key to the state.\n",
        "\n",
        "- ```stream_mode=\"messages\"```: Streams tokens from a chat model call.\n",
        "\n",
        "- [Langchain: stream_mode](https://python.langchain.com/docs/how_to/qa_streaming/)\n"
      ]
    },
    {
      "cell_type": "markdown",
      "id": "a8427a0c",
      "metadata": {
        "id": "a8427a0c"
      },
      "source": [
        "The following explains the output method for stream_mode=\"updates\""
      ]
    },
    {
      "cell_type": "code",
      "execution_count": null,
      "id": "b8a06ddb",
      "metadata": {
        "id": "b8a06ddb",
        "outputId": "7735fd10-f211-40f8-ca8c-e8ecbd77f7dd"
      },
      "outputs": [
        {
          "name": "stdout",
          "output_type": "stream",
          "text": [
            "\n",
            "==== RETRIEVE ====\n",
            "\n",
            "Output from node 'retrieve':\n",
            "---\n",
            "\n",
            "---\n",
            "\n",
            "\n",
            "==== [CHECK DOCUMENT RELEVANCE TO QUESTION] ====\n",
            "\n",
            "==== [GRADE: DOCUMENT NOT RELEVANT] ====\n",
            "==== [GRADE: DOCUMENT NOT RELEVANT] ====\n",
            "==== [ASSESS GRADED DOCUMENTS] ====\n",
            "==== [DECISION: ALL DOCUMENTS ARE NOT RELEVANT TO QUESTION, QUERY REWRITE] ====\n",
            "Output from node 'grade_documents':\n",
            "---\n",
            "\n",
            "---\n",
            "\n",
            "\n",
            "==== [REWRITE QUERY] ====\n",
            "\n",
            "Output from node 'query_rewrite':\n",
            "---\n",
            "\n",
            "---\n",
            "\n",
            "\n",
            "==== [WEB SEARCH] ====\n",
            "\n",
            "Output from node 'web_search_node':\n",
            "---\n",
            "\n",
            "---\n",
            "\n",
            "\n",
            "==== GENERATE ====\n",
            "\n",
            "Output from node 'generate':\n",
            "---\n",
            "\n",
            "---\n",
            "\n",
            "content='Context is irrelevant.' additional_kwargs={'refusal': None} response_metadata={'token_usage': {'completion_tokens': 5, 'prompt_tokens': 909, 'total_tokens': 914, 'completion_tokens_details': {'accepted_prediction_tokens': 0, 'audio_tokens': 0, 'reasoning_tokens': 0, 'rejected_prediction_tokens': 0}, 'prompt_tokens_details': {'audio_tokens': 0, 'cached_tokens': 0}}, 'model_name': 'gpt-4.1-mini-2025-04-14', 'system_fingerprint': 'fp_178c8d546f', 'id': 'chatcmpl-BbhAbjY3YE5IjtqlcvBr2uD22GOdh', 'prompt_filter_results': [{'prompt_index': 0, 'content_filter_results': {'hate': {'filtered': False, 'severity': 'safe'}, 'jailbreak': {'filtered': False, 'detected': False}, 'self_harm': {'filtered': False, 'severity': 'safe'}, 'sexual': {'filtered': False, 'severity': 'safe'}, 'violence': {'filtered': False, 'severity': 'safe'}}}], 'finish_reason': 'stop', 'logprobs': None, 'content_filter_results': {'hate': {'filtered': False, 'severity': 'safe'}, 'protected_material_code': {'filtered': False, 'detected': False}, 'protected_material_text': {'filtered': False, 'detected': False}, 'self_harm': {'filtered': False, 'severity': 'safe'}, 'sexual': {'filtered': False, 'severity': 'safe'}, 'violence': {'filtered': False, 'severity': 'safe'}}} id='run--ca770703-ed1d-454b-83df-d871645c76e4-0' usage_metadata={'input_tokens': 909, 'output_tokens': 5, 'total_tokens': 914, 'input_token_details': {'audio': 0, 'cache_read': 0}, 'output_token_details': {'audio': 0, 'reasoning': 0}}\n"
          ]
        }
      ],
      "source": [
        "# from langchain_core.runnables import RunnableConfig\n",
        "# from uuid import uuid4\n",
        "\n",
        "# # Configure settings (maximum recursion limit, thread_id)\n",
        "# config = RunnableConfig(recursion_limit=20, configurable={\"thread_id\": uuid4()})\n",
        "\n",
        "# # Input question\n",
        "# inputs = {\n",
        "#     \"question\": \"How do agents differ from standalone language models?\",\n",
        "# }\n",
        "# # Execute the graph in update format.\n",
        "# for output in app.stream(inputs, config, stream_mode=\"updates\"):\n",
        "#     for key, value in output.items():\n",
        "#         print(f\"Output from node '{key}':\")\n",
        "#         print(\"---\")\n",
        "#         #print(value)\n",
        "#     print(\"\\n---\\n\")\n",
        "\n",
        "# print(value[\"generation\"])"
      ]
    },
    {
      "cell_type": "markdown",
      "id": "14a7d241",
      "metadata": {
        "id": "14a7d241"
      },
      "source": [
        "The following explains the output method for stream_mode=\"messages\""
      ]
    },
    {
      "cell_type": "code",
      "execution_count": null,
      "id": "be19ed3f",
      "metadata": {
        "id": "be19ed3f",
        "outputId": "768ccd8c-ac7c-4e51-962e-7c9249bbc19f"
      },
      "outputs": [
        {
          "name": "stdout",
          "output_type": "stream",
          "text": [
            "\n",
            "==== RETRIEVE ====\n",
            "\n",
            "\n",
            "==== [CHECK DOCUMENT RELEVANCE TO QUESTION] ====\n",
            "\n",
            "==== [GRADE: DOCUMENT RELEVANT] ====\n",
            "==== [GRADE: DOCUMENT RELEVANT] ====\n",
            "==== [ASSESS GRADED DOCUMENTS] ====\n",
            "==== [DECISION: GENERATE] ====\n",
            "\n",
            "==== GENERATE ====\n",
            "\n",
            "A large-cap equity fund primarily consists of stocks which are the Top 100 stocks by full market capitalization of the equity market. These funds invest at least 80% of total assets in Indian equities, with the balance possibly invested in other asset classes such as fixed income and overseas equities. Funds in this category invest at least 80% of their total assets in large-cap stocks."
          ]
        }
      ],
      "source": [
        "# from langchain_core.runnables import RunnableConfig\n",
        "# from uuid import uuid4\n",
        "\n",
        "# # Configure settings (maximum recursion limit, thread_id)\n",
        "# config = RunnableConfig(recursion_limit=20, configurable={\"thread_id\": uuid4()})\n",
        "\n",
        "# # Input question\n",
        "# inputs = {\n",
        "#     \"question\": \"what is large cap equity fund?\",\n",
        "# }\n",
        "\n",
        "# for message, metadata in app.stream(\n",
        "#     inputs, config,\n",
        "#     stream_mode=\"messages\",\n",
        "# ):\n",
        "#     if metadata[\"langgraph_node\"] == \"generate\":\n",
        "#         print(message.content, end=\"\", flush=True)"
      ]
    },
    {
      "cell_type": "markdown",
      "id": "2b6e6be9",
      "metadata": {
        "id": "2b6e6be9"
      },
      "source": [
        "In the output above, since the question was relevant to the document, it directly connects to the ```generation``` node.\n",
        "\n",
        "This time, the question is not relevant to the document. Therefore, it connects to the ```query_rewrite``` node and then to the ```web_search``` node.\n",
        "\n",
        "In other words, if the grade_documents node determines that no document is relevant, it connects to the ```web_search``` node.\n",
        "\n",
        "Here is the output for ```stream_mode=\"messages\"```."
      ]
    },
    {
      "cell_type": "code",
      "execution_count": null,
      "id": "d6cb2f95",
      "metadata": {
        "id": "d6cb2f95",
        "outputId": "714aff25-46d4-4598-e340-13e776d15591"
      },
      "outputs": [
        {
          "name": "stdout",
          "output_type": "stream",
          "text": [
            "\n",
            "==== RETRIEVE ====\n",
            "\n",
            "\n",
            "==== [CHECK DOCUMENT RELEVANCE TO QUESTION] ====\n",
            "\n",
            "==== [GRADE: DOCUMENT NOT RELEVANT] ====\n",
            "==== [GRADE: DOCUMENT NOT RELEVANT] ====\n",
            "==== [GRADE: DOCUMENT NOT RELEVANT] ====\n",
            "==== [GRADE: DOCUMENT NOT RELEVANT] ====\n",
            "==== [GRADE: DOCUMENT NOT RELEVANT] ====\n",
            "==== [GRADE: DOCUMENT NOT RELEVANT] ====\n",
            "==== [GRADE: DOCUMENT NOT RELEVANT] ====\n",
            "==== [GRADE: DOCUMENT NOT RELEVANT] ====\n",
            "==== [GRADE: DOCUMENT NOT RELEVANT] ====\n",
            "==== [GRADE: DOCUMENT NOT RELEVANT] ====\n",
            "==== [ASSESS GRADED DOCUMENTS] ====\n",
            "==== [DECISION: ALL DOCUMENTS ARE NOT RELEVANT TO QUESTION, QUERY REWRITE] ====\n",
            "\n",
            "==== [REWRITE QUERY] ====\n",
            "\n",
            "\n",
            "==== [WEB SEARCH] ====\n",
            "\n",
            "\n",
            "==== GENERATE ====\n",
            "\n"
          ]
        }
      ],
      "source": [
        "# from langchain_core.runnables import RunnableConfig\n",
        "# from uuid import uuid4\n",
        "\n",
        "# # Configure settings (maximum recursion limit, thread_id)\n",
        "# config = RunnableConfig(recursion_limit=20, configurable={\"thread_id\": uuid4()})\n",
        "\n",
        "# # Input question\n",
        "# inputs = {\n",
        "#     \"question\": \"What is CRAG?\",\n",
        "# }\n",
        "\n",
        "# for message, metadata in app.stream(\n",
        "#     inputs, config,\n",
        "#     stream_mode=\"messages\",\n",
        "# ):\n",
        "#     if metadata[\"langgraph_node\"] == \"generate\":\n",
        "#         print(message.content, end=\"\", flush=True)"
      ]
    }
  ],
  "metadata": {
    "colab": {
      "provenance": []
    },
    "kernelspec": {
      "display_name": "gen-ai",
      "language": "python",
      "name": "python3"
    },
    "language_info": {
      "codemirror_mode": {
        "name": "ipython",
        "version": 3
      },
      "file_extension": ".py",
      "mimetype": "text/x-python",
      "name": "python",
      "nbconvert_exporter": "python",
      "pygments_lexer": "ipython3",
      "version": "3.12.3"
    }
  },
  "nbformat": 4,
  "nbformat_minor": 5
}

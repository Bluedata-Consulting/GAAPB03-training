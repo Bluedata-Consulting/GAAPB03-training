{
 "cells": [
  {
   "cell_type": "markdown",
   "id": "8ef6718b",
   "metadata": {},
   "source": [
    "## Function Calling"
   ]
  },
  {
   "cell_type": "code",
   "execution_count": 1,
   "id": "370a32ac",
   "metadata": {},
   "outputs": [],
   "source": [
    "from openai import AzureOpenAI\n",
    "client = AzureOpenAI()"
   ]
  },
  {
   "cell_type": "code",
   "execution_count": 2,
   "id": "83ad87fe",
   "metadata": {},
   "outputs": [
    {
     "name": "stdout",
     "output_type": "stream",
     "text": [
      "{\n",
      "  \"finish_reason\": \"stop\",\n",
      "  \"index\": 0,\n",
      "  \"logprobs\": null,\n",
      "  \"message\": {\n",
      "    \"content\": \"Hello! How can I assist you today?\",\n",
      "    \"refusal\": null,\n",
      "    \"role\": \"assistant\",\n",
      "    \"annotations\": []\n",
      "  },\n",
      "  \"content_filter_results\": {\n",
      "    \"hate\": {\n",
      "      \"filtered\": false,\n",
      "      \"severity\": \"safe\"\n",
      "    },\n",
      "    \"self_harm\": {\n",
      "      \"filtered\": false,\n",
      "      \"severity\": \"safe\"\n",
      "    },\n",
      "    \"sexual\": {\n",
      "      \"filtered\": false,\n",
      "      \"severity\": \"safe\"\n",
      "    },\n",
      "    \"violence\": {\n",
      "      \"filtered\": false,\n",
      "      \"severity\": \"safe\"\n",
      "    }\n",
      "  }\n",
      "}\n"
     ]
    }
   ],
   "source": [
    "response = client.chat.completions.create(model='myllm',\n",
    "                                          messages=[{\"role\":\"user\",\"content\":\"hi\"}])\n",
    "print(response.choices[0].to_json(indent=2))"
   ]
  },
  {
   "cell_type": "code",
   "execution_count": 3,
   "id": "dfebf207",
   "metadata": {},
   "outputs": [],
   "source": [
    "import os\n",
    "import json\n",
    "import requests"
   ]
  },
  {
   "cell_type": "code",
   "execution_count": 10,
   "id": "bd4a7414",
   "metadata": {},
   "outputs": [],
   "source": [
    "def get_current_weather(city:str)->dict:\n",
    "    \"\"\" this function can be used to fetch weather information for a given city\"\"\"\n",
    "    api_key=os.environ['OPENWEATHERMAP_API_KEY']\n",
    "\n",
    "    url = f\"https://api.openweathermap.org/data/2.5/weather?q={city}&appid={api_key}\"\n",
    "    response = requests.get(url)\n",
    "    response = response.content.decode() # bytes to string\n",
    "    response = json.loads(response) # string to dict\n",
    "    output = {\"city\":city,\n",
    "              \"weather\":response['weather'][0]['description'],\n",
    "              \"temperature\":response['main']['temp'],\n",
    "              \"unit\":\"kelvin\"}\n",
    "    return output\n"
   ]
  },
  {
   "cell_type": "code",
   "execution_count": 11,
   "id": "f930d4ab",
   "metadata": {},
   "outputs": [
    {
     "data": {
      "text/plain": [
       "{'city': 'mumbai', 'weather': 'haze', 'temperature': 302.14, 'unit': 'kelvin'}"
      ]
     },
     "execution_count": 11,
     "metadata": {},
     "output_type": "execute_result"
    }
   ],
   "source": [
    "get_current_weather(\"mumbai\")"
   ]
  },
  {
   "cell_type": "markdown",
   "id": "8b523183",
   "metadata": {},
   "source": [
    "#### There 3 important components to be provided to LLM as metadata about functions\n",
    "1. function name: should be descriptive, it should define what function does, this does not have to be same as the actual name of function\n",
    "2. function description: should be descriptive, if possible include example of calling, - core basis on which LLM relies on selecting the right function\n",
    "3. Arguments: list of params the function supports with example,description of each parameter"
   ]
  },
  {
   "cell_type": "code",
   "execution_count": 12,
   "id": "9c0e1652",
   "metadata": {},
   "outputs": [],
   "source": [
    "tools = [{\"type\":\"function\",\n",
    "          \"function\":{\n",
    "              \"name\":\"get_current_weather\",\n",
    "              \"description\":\"this function can be used to current weather information for a given city.\",\n",
    "              \"parameters\":{\n",
    "                  \"type\":\"object\",\n",
    "                  \"properties\":{\"city\":{\"type\":\"string\",\"description\":\"name of city/location. e.g. mumbai, new york\"},\n",
    "                                },\n",
    "                                \"required\":['city'],\n",
    "              }\n",
    "          }}]"
   ]
  },
  {
   "cell_type": "code",
   "execution_count": 21,
   "id": "257c78c7",
   "metadata": {},
   "outputs": [],
   "source": [
    "tool_names = {\"get_current_weather\":get_current_weather} # name of function in metadata : name of object\n",
    "\n",
    "def generate_response(prompt):\n",
    "    messages = [{\"role\":\"system\",\"content\":\"you are a helpful assistant, who answers questions in concise way\"},\n",
    "                {\"role\":\"user\",\"content\":prompt},]\n",
    "    \n",
    "    first_response = client.chat.completions.create(model=\"myllm\",messages=messages,\n",
    "                                                    temperature=0.1,tools=tools,\n",
    "                                                    tool_choice='auto')\n",
    "    \n",
    "    first_response = first_response.choices[0].message\n",
    "    if first_response.tool_calls:\n",
    "        # do something\n",
    "        print(first_response)\n",
    "        messages.append(first_response)\n",
    "\n",
    "        # iterate through all the functions, execute and log responses in messages\n",
    "        for tool in first_response.tool_calls:\n",
    "            tool_name = tool.function.name\n",
    "            tool_args = json.loads(tool.function.arguments) # json.loads converts str to dict\n",
    "            fun_toexecute = tool_names[tool_name]\n",
    "            tool_output = fun_toexecute(**tool_args)\n",
    "            messages.append({\"tool_call_id\":tool.id,\n",
    "                             \"role\":\"tool\",\"name\":tool_name,\"content\":json.dumps(tool_output)})\n",
    "        second_response = client.chat.completions.create(model=\"myllm\",messages=messages,temperature=0.1)\n",
    "        return second_response.choices[0].message.content\n",
    "        \n",
    "    else:\n",
    "        return first_response.content"
   ]
  },
  {
   "cell_type": "code",
   "execution_count": 22,
   "id": "78d09fb3",
   "metadata": {},
   "outputs": [
    {
     "name": "stdout",
     "output_type": "stream",
     "text": [
      "Quantum computing is a type of computation that utilizes the principles of quantum mechanics to process information. Unlike classical computers, which use bits as the smallest unit of data (0s and 1s), quantum computers use quantum bits, or qubits. Qubits can exist in multiple states simultaneously due to superposition, allowing quantum computers to perform complex calculations at much higher speeds than classical computers for certain tasks.\n",
      "\n",
      "Key concepts in quantum computing include:\n",
      "\n",
      "1. **Superposition**: Qubits can represent both 0 and 1 at the same time, enabling parallel processing.\n",
      "2. **Entanglement**: Qubits can be interconnected in such a way that the state of one qubit can depend on the state of another, no matter the distance between them.\n",
      "3. **Quantum gates**: Operations that manipulate qubits, similar to logic gates in classical computing.\n",
      "\n",
      "Quantum computing has the potential to revolutionize fields such as cryptography, optimization, and drug discovery by solving problems that are currently intractable for classical computers.\n"
     ]
    }
   ],
   "source": [
    "op = generate_response(\"what is quantum computing\")\n",
    "print(op)"
   ]
  },
  {
   "cell_type": "code",
   "execution_count": 23,
   "id": "95b09ca3",
   "metadata": {},
   "outputs": [
    {
     "name": "stdout",
     "output_type": "stream",
     "text": [
      "ChatCompletionMessage(content=None, refusal=None, role='assistant', annotations=[], audio=None, function_call=None, tool_calls=[ChatCompletionMessageToolCall(id='call_rbCUqjD3X8IJDFU0FsYfyYXZ', function=Function(arguments='{\"city\":\"new york\"}', name='get_current_weather'), type='function')])\n",
      "The current weather in New York today is hazy, with a temperature of approximately 29.1°C (84.4°F).\n"
     ]
    }
   ],
   "source": [
    "op = generate_response(\"what is the current weather in new york today.\")\n",
    "print(op)"
   ]
  },
  {
   "cell_type": "code",
   "execution_count": null,
   "id": "1e05974f",
   "metadata": {},
   "outputs": [],
   "source": [
    "###"
   ]
  },
  {
   "cell_type": "code",
   "execution_count": null,
   "id": "c688efab",
   "metadata": {},
   "outputs": [],
   "source": []
  },
  {
   "cell_type": "code",
   "execution_count": null,
   "id": "1eaa8787",
   "metadata": {},
   "outputs": [],
   "source": []
  }
 ],
 "metadata": {
  "kernelspec": {
   "display_name": "gen-ai",
   "language": "python",
   "name": "python3"
  },
  "language_info": {
   "codemirror_mode": {
    "name": "ipython",
    "version": 3
   },
   "file_extension": ".py",
   "mimetype": "text/x-python",
   "name": "python",
   "nbconvert_exporter": "python",
   "pygments_lexer": "ipython3",
   "version": "3.12.3"
  }
 },
 "nbformat": 4,
 "nbformat_minor": 5
}

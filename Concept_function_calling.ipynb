{
 "cells": [
  {
   "cell_type": "markdown",
   "id": "8ef6718b",
   "metadata": {},
   "source": [
    "## Function Calling"
   ]
  },
  {
   "cell_type": "code",
   "execution_count": 1,
   "id": "370a32ac",
   "metadata": {},
   "outputs": [],
   "source": [
    "from openai import AzureOpenAI\n",
    "client = AzureOpenAI()"
   ]
  },
  {
   "cell_type": "code",
   "execution_count": 2,
   "id": "83ad87fe",
   "metadata": {},
   "outputs": [
    {
     "name": "stdout",
     "output_type": "stream",
     "text": [
      "{\n",
      "  \"finish_reason\": \"stop\",\n",
      "  \"index\": 0,\n",
      "  \"logprobs\": null,\n",
      "  \"message\": {\n",
      "    \"content\": \"Hello! How can I assist you today?\",\n",
      "    \"refusal\": null,\n",
      "    \"role\": \"assistant\",\n",
      "    \"annotations\": []\n",
      "  },\n",
      "  \"content_filter_results\": {\n",
      "    \"hate\": {\n",
      "      \"filtered\": false,\n",
      "      \"severity\": \"safe\"\n",
      "    },\n",
      "    \"self_harm\": {\n",
      "      \"filtered\": false,\n",
      "      \"severity\": \"safe\"\n",
      "    },\n",
      "    \"sexual\": {\n",
      "      \"filtered\": false,\n",
      "      \"severity\": \"safe\"\n",
      "    },\n",
      "    \"violence\": {\n",
      "      \"filtered\": false,\n",
      "      \"severity\": \"safe\"\n",
      "    }\n",
      "  }\n",
      "}\n"
     ]
    }
   ],
   "source": [
    "response = client.chat.completions.create(model='myllm',\n",
    "                                          messages=[{\"role\":\"user\",\"content\":\"hi\"}])\n",
    "print(response.choices[0].to_json(indent=2))"
   ]
  },
  {
   "cell_type": "code",
   "execution_count": 3,
   "id": "dfebf207",
   "metadata": {},
   "outputs": [],
   "source": [
    "import os\n",
    "import json\n",
    "import requests"
   ]
  },
  {
   "cell_type": "code",
   "execution_count": 10,
   "id": "bd4a7414",
   "metadata": {},
   "outputs": [],
   "source": [
    "def get_current_weather(city:str)->dict:\n",
    "    \"\"\" this function can be used to fetch weather information for a given city\"\"\"\n",
    "    api_key=os.environ['OPENWEATHERMAP_API_KEY']\n",
    "\n",
    "    url = f\"https://api.openweathermap.org/data/2.5/weather?q={city}&appid={api_key}\"\n",
    "    response = requests.get(url)\n",
    "    response = response.content.decode() # bytes to string\n",
    "    response = json.loads(response) # string to dict\n",
    "    output = {\"city\":city,\n",
    "              \"weather\":response['weather'][0]['description'],\n",
    "              \"temperature\":response['main']['temp'],\n",
    "              \"unit\":\"kelvin\"}\n",
    "    return output\n"
   ]
  },
  {
   "cell_type": "code",
   "execution_count": 11,
   "id": "f930d4ab",
   "metadata": {},
   "outputs": [
    {
     "data": {
      "text/plain": [
       "{'city': 'mumbai', 'weather': 'haze', 'temperature': 302.14, 'unit': 'kelvin'}"
      ]
     },
     "execution_count": 11,
     "metadata": {},
     "output_type": "execute_result"
    }
   ],
   "source": [
    "get_current_weather(\"mumbai\")"
   ]
  },
  {
   "cell_type": "code",
   "execution_count": null,
   "id": "9c0e1652",
   "metadata": {},
   "outputs": [],
   "source": []
  },
  {
   "cell_type": "code",
   "execution_count": null,
   "id": "257c78c7",
   "metadata": {},
   "outputs": [],
   "source": []
  }
 ],
 "metadata": {
  "kernelspec": {
   "display_name": "gen-ai",
   "language": "python",
   "name": "python3"
  },
  "language_info": {
   "codemirror_mode": {
    "name": "ipython",
    "version": 3
   },
   "file_extension": ".py",
   "mimetype": "text/x-python",
   "name": "python",
   "nbconvert_exporter": "python",
   "pygments_lexer": "ipython3",
   "version": "3.12.3"
  }
 },
 "nbformat": 4,
 "nbformat_minor": 5
}

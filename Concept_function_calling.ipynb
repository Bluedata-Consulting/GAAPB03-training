{
 "cells": [
  {
   "cell_type": "markdown",
   "id": "8ef6718b",
   "metadata": {},
   "source": [
    "## Function Calling"
   ]
  },
  {
   "cell_type": "code",
   "execution_count": 1,
   "id": "370a32ac",
   "metadata": {},
   "outputs": [],
   "source": [
    "from openai import AzureOpenAI\n",
    "client = AzureOpenAI()"
   ]
  },
  {
   "cell_type": "code",
   "execution_count": 2,
   "id": "83ad87fe",
   "metadata": {},
   "outputs": [
    {
     "name": "stdout",
     "output_type": "stream",
     "text": [
      "{\n",
      "  \"finish_reason\": \"stop\",\n",
      "  \"index\": 0,\n",
      "  \"logprobs\": null,\n",
      "  \"message\": {\n",
      "    \"content\": \"Hello! How can I assist you today?\",\n",
      "    \"refusal\": null,\n",
      "    \"role\": \"assistant\",\n",
      "    \"annotations\": []\n",
      "  },\n",
      "  \"content_filter_results\": {\n",
      "    \"hate\": {\n",
      "      \"filtered\": false,\n",
      "      \"severity\": \"safe\"\n",
      "    },\n",
      "    \"self_harm\": {\n",
      "      \"filtered\": false,\n",
      "      \"severity\": \"safe\"\n",
      "    },\n",
      "    \"sexual\": {\n",
      "      \"filtered\": false,\n",
      "      \"severity\": \"safe\"\n",
      "    },\n",
      "    \"violence\": {\n",
      "      \"filtered\": false,\n",
      "      \"severity\": \"safe\"\n",
      "    }\n",
      "  }\n",
      "}\n"
     ]
    }
   ],
   "source": [
    "response = client.chat.completions.create(model='myllm',\n",
    "                                          messages=[{\"role\":\"user\",\"content\":\"hi\"}])\n",
    "print(response.choices[0].to_json(indent=2))"
   ]
  },
  {
   "cell_type": "code",
   "execution_count": 3,
   "id": "dfebf207",
   "metadata": {},
   "outputs": [],
   "source": [
    "import os\n",
    "import json\n",
    "import requests"
   ]
  },
  {
   "cell_type": "code",
   "execution_count": 10,
   "id": "bd4a7414",
   "metadata": {},
   "outputs": [],
   "source": [
    "def get_current_weather(city:str)->dict:\n",
    "    \"\"\" this function can be used to fetch weather information for a given city\"\"\"\n",
    "    api_key=os.environ['OPENWEATHERMAP_API_KEY']\n",
    "\n",
    "    url = f\"https://api.openweathermap.org/data/2.5/weather?q={city}&appid={api_key}\"\n",
    "    response = requests.get(url)\n",
    "    response = response.content.decode() # bytes to string\n",
    "    response = json.loads(response) # string to dict\n",
    "    output = {\"city\":city,\n",
    "              \"weather\":response['weather'][0]['description'],\n",
    "              \"temperature\":response['main']['temp'],\n",
    "              \"unit\":\"kelvin\"}\n",
    "    return output\n"
   ]
  },
  {
   "cell_type": "code",
   "execution_count": 11,
   "id": "f930d4ab",
   "metadata": {},
   "outputs": [
    {
     "data": {
      "text/plain": [
       "{'city': 'mumbai', 'weather': 'haze', 'temperature': 302.14, 'unit': 'kelvin'}"
      ]
     },
     "execution_count": 11,
     "metadata": {},
     "output_type": "execute_result"
    }
   ],
   "source": [
    "get_current_weather(\"mumbai\")"
   ]
  },
  {
   "cell_type": "markdown",
   "id": "8b523183",
   "metadata": {},
   "source": [
    "#### There 3 important components to be provided to LLM as metadata about functions\n",
    "1. function name: should be descriptive, it should define what function does, this does not have to be same as the actual name of function\n",
    "2. function description: should be descriptive, if possible include example of calling, - core basis on which LLM relies on selecting the right function\n",
    "3. Arguments: list of params the function supports with example,description of each parameter"
   ]
  },
  {
   "cell_type": "code",
   "execution_count": 12,
   "id": "9c0e1652",
   "metadata": {},
   "outputs": [],
   "source": [
    "tools = [{\"type\":\"function\",\n",
    "          \"function\":{\n",
    "              \"name\":\"get_current_weather\",\n",
    "              \"description\":\"this function can be used to current weather information for a given city.\",\n",
    "              \"parameters\":{\n",
    "                  \"type\":\"object\",\n",
    "                  \"properties\":{\"city\":{\"type\":\"string\",\"description\":\"name of city/location. e.g. mumbai, new york\"},\n",
    "                                },\n",
    "                                \"required\":['city'],\n",
    "              }\n",
    "          }}]"
   ]
  },
  {
   "cell_type": "code",
   "execution_count": 21,
   "id": "257c78c7",
   "metadata": {},
   "outputs": [],
   "source": [
    "tool_names = {\"get_current_weather\":get_current_weather} # name of function in metadata : name of object\n",
    "\n",
    "def generate_response(prompt):\n",
    "    messages = [{\"role\":\"system\",\"content\":\"you are a helpful assistant, who answers questions in concise way\"},\n",
    "                {\"role\":\"user\",\"content\":prompt},]\n",
    "    \n",
    "    first_response = client.chat.completions.create(model=\"myllm\",messages=messages,\n",
    "                                                    temperature=0.1,tools=tools,\n",
    "                                                    tool_choice='auto')\n",
    "    \n",
    "    first_response = first_response.choices[0].message\n",
    "    if first_response.tool_calls:\n",
    "        # do something\n",
    "        print(first_response)\n",
    "        messages.append(first_response)\n",
    "\n",
    "        # iterate through all the functions, execute and log responses in messages\n",
    "        for tool in first_response.tool_calls:\n",
    "            tool_name = tool.function.name\n",
    "            tool_args = json.loads(tool.function.arguments) # json.loads converts str to dict\n",
    "            fun_toexecute = tool_names[tool_name]\n",
    "            tool_output = fun_toexecute(**tool_args)\n",
    "            messages.append({\"tool_call_id\":tool.id,\n",
    "                             \"role\":\"tool\",\"name\":tool_name,\"content\":json.dumps(tool_output)})\n",
    "        second_response = client.chat.completions.create(model=\"myllm\",messages=messages,temperature=0.1)\n",
    "        return second_response.choices[0].message.content\n",
    "        \n",
    "    else:\n",
    "        return first_response.content"
   ]
  },
  {
   "cell_type": "code",
   "execution_count": 22,
   "id": "78d09fb3",
   "metadata": {},
   "outputs": [
    {
     "name": "stdout",
     "output_type": "stream",
     "text": [
      "Quantum computing is a type of computation that utilizes the principles of quantum mechanics to process information. Unlike classical computers, which use bits as the smallest unit of data (0s and 1s), quantum computers use quantum bits, or qubits. Qubits can exist in multiple states simultaneously due to superposition, allowing quantum computers to perform complex calculations at much higher speeds than classical computers for certain tasks.\n",
      "\n",
      "Key concepts in quantum computing include:\n",
      "\n",
      "1. **Superposition**: Qubits can represent both 0 and 1 at the same time, enabling parallel processing.\n",
      "2. **Entanglement**: Qubits can be interconnected in such a way that the state of one qubit can depend on the state of another, no matter the distance between them.\n",
      "3. **Quantum gates**: Operations that manipulate qubits, similar to logic gates in classical computing.\n",
      "\n",
      "Quantum computing has the potential to revolutionize fields such as cryptography, optimization, and drug discovery by solving problems that are currently intractable for classical computers.\n"
     ]
    }
   ],
   "source": [
    "op = generate_response(\"what is quantum computing\")\n",
    "print(op)"
   ]
  },
  {
   "cell_type": "code",
   "execution_count": 23,
   "id": "95b09ca3",
   "metadata": {},
   "outputs": [
    {
     "name": "stdout",
     "output_type": "stream",
     "text": [
      "ChatCompletionMessage(content=None, refusal=None, role='assistant', annotations=[], audio=None, function_call=None, tool_calls=[ChatCompletionMessageToolCall(id='call_rbCUqjD3X8IJDFU0FsYfyYXZ', function=Function(arguments='{\"city\":\"new york\"}', name='get_current_weather'), type='function')])\n",
      "The current weather in New York today is hazy, with a temperature of approximately 29.1°C (84.4°F).\n"
     ]
    }
   ],
   "source": [
    "op = generate_response(\"what is the current weather in new york today.\")\n",
    "print(op)"
   ]
  },
  {
   "cell_type": "code",
   "execution_count": 24,
   "id": "1e05974f",
   "metadata": {},
   "outputs": [
    {
     "name": "stdout",
     "output_type": "stream",
     "text": [
      "ChatCompletionMessage(content=None, refusal=None, role='assistant', annotations=[], audio=None, function_call=None, tool_calls=[ChatCompletionMessageToolCall(id='call_030lYemn09PQybdPz05l0LfX', function=Function(arguments='{\"city\":\"ahmedabad\"}', name='get_current_weather'), type='function')])\n",
      "The current weather in Ahmedabad is smoky, with a temperature of approximately 33°C (306.17 K).\n"
     ]
    }
   ],
   "source": [
    "op = generate_response(\"what is the current weather in ahmedabad today.\")\n",
    "print(op)###"
   ]
  },
  {
   "cell_type": "code",
   "execution_count": 25,
   "id": "c688efab",
   "metadata": {},
   "outputs": [
    {
     "name": "stdout",
     "output_type": "stream",
     "text": [
      "ChatCompletionMessage(content=None, refusal=None, role='assistant', annotations=[], audio=None, function_call=None, tool_calls=[ChatCompletionMessageToolCall(id='call_eL5vIuYMbRWzmYtPjzcCYfgz', function=Function(arguments='{\"city\": \"Ahmedabad\"}', name='get_current_weather'), type='function'), ChatCompletionMessageToolCall(id='call_EhgNfQ023deH6m1fAq9RmmLw', function=Function(arguments='{\"city\": \"Jaipur\"}', name='get_current_weather'), type='function')])\n",
      "The current weather is as follows:\n",
      "\n",
      "- **Ahmedabad**: Smoke, Temperature: 304.17 K (approximately 31°C)\n",
      "- **Jaipur**: Haze, Temperature: 307.77 K (approximately 35.6°C)\n"
     ]
    }
   ],
   "source": [
    "op = generate_response(\"what is the current weather in ahmedabad  and Jaiput today.\")\n",
    "print(op)"
   ]
  },
  {
   "cell_type": "markdown",
   "id": "ba771120",
   "metadata": {},
   "source": [
    "## Function calling: ADVANCE"
   ]
  },
  {
   "cell_type": "code",
   "execution_count": 26,
   "id": "4ac10867",
   "metadata": {},
   "outputs": [],
   "source": [
    "import wikipedia"
   ]
  },
  {
   "cell_type": "code",
   "execution_count": 27,
   "id": "3f0caa83",
   "metadata": {},
   "outputs": [],
   "source": [
    "def wiki(query:str)->str:\n",
    "    response = wikipedia.summary(query)\n",
    "    return response"
   ]
  },
  {
   "cell_type": "code",
   "execution_count": null,
   "id": "b1bc64e2",
   "metadata": {},
   "outputs": [],
   "source": [
    "tool_names = {\"get_current_weather\":get_current_weather,\n",
    "              \"get_wikipedia_summary\":wiki} # name of function in metadata : name of object\n"
   ]
  },
  {
   "cell_type": "code",
   "execution_count": 29,
   "id": "1eaa8787",
   "metadata": {},
   "outputs": [],
   "source": [
    "tools = [{\"type\":\"function\",\n",
    "          \"function\":{\n",
    "              \"name\":\"get_current_weather\",\n",
    "              \"description\":\"this function can be used to current weather information for a given city.\",\n",
    "              \"parameters\":{\n",
    "                  \"type\":\"object\",\n",
    "                  \"properties\":{\"city\":{\"type\":\"string\",\"description\":\"name of city/location. e.g. mumbai, new york\"},\n",
    "                                },\n",
    "                                \"required\":['city'],\n",
    "              }\n",
    "          }},\n",
    "          {\"type\":\"function\",\n",
    "          \"function\":{\n",
    "              \"name\":\"get_wikipedia_summary\",\n",
    "              \"description\":\"this function can be used to get information about locations, places people and historical information for a given query.\",\n",
    "              \"parameters\":{\n",
    "                  \"type\":\"object\",\n",
    "                  \"properties\":{\"query\":{\"type\":\"string\",\"description\":\"name of city/location or event. e.g. illiois, world war II\"},\n",
    "                                },\n",
    "                                \"required\":['query'],\n",
    "              }\n",
    "          }}]"
   ]
  },
  {
   "cell_type": "code",
   "execution_count": 36,
   "id": "fd71a927",
   "metadata": {},
   "outputs": [],
   "source": [
    "\n",
    "def generate_response(prompt):\n",
    "    messages = [{\"role\":\"system\",\"content\":\"you are a helpful assistant, who answers questions in concise way\"},\n",
    "                {\"role\":\"user\",\"content\":prompt},]\n",
    "    \n",
    "    while True:\n",
    "        first_response = client.chat.completions.create(model=\"myllm\",messages=messages,\n",
    "                                                        temperature=0.1,tools=tools,\n",
    "                                                        tool_choice='auto')\n",
    "        \n",
    "        first_response = first_response.choices[0].message\n",
    "        if first_response.tool_calls:\n",
    "            # do something\n",
    "            messages.append(first_response)\n",
    "\n",
    "            # iterate through all the functions, execute and log responses in messages\n",
    "            for tool in first_response.tool_calls:\n",
    "                print(tool)\n",
    "                tool_name = tool.function.name\n",
    "                tool_args = json.loads(tool.function.arguments) # json.loads converts str to dict\n",
    "                fun_toexecute = tool_names[tool_name]\n",
    "                tool_output = fun_toexecute(**tool_args)\n",
    "                messages.append({\"tool_call_id\":tool.id,\n",
    "                                \"role\":\"tool\",\"name\":tool_name,\"content\":json.dumps(tool_output)})            \n",
    "        else:\n",
    "            break\n",
    "    return first_response.content"
   ]
  },
  {
   "cell_type": "code",
   "execution_count": 37,
   "id": "55a9cd3b",
   "metadata": {},
   "outputs": [
    {
     "name": "stdout",
     "output_type": "stream",
     "text": [
      "ChatCompletionMessageToolCall(id='call_wHgU9vDuCNJor4KslPaA4bwF', function=Function(arguments='{\"city\": \"ahmedabad\"}', name='get_current_weather'), type='function')\n",
      "ChatCompletionMessageToolCall(id='call_NQtXaV4wu3tVt1SoXcXL8AbM', function=Function(arguments='{\"city\": \"jaipur\"}', name='get_current_weather'), type='function')\n",
      "The current weather is as follows:\n",
      "\n",
      "- **Ahmedabad**: Smoke, Temperature: 304.17 K\n",
      "- **Jaipur**: Haze, Temperature: 306.77 K\n"
     ]
    }
   ],
   "source": [
    "op = generate_response(\"what is the current weather in ahmedabad  and Jaipur today.\")\n",
    "print(op)"
   ]
  },
  {
   "cell_type": "code",
   "execution_count": 39,
   "id": "a00e9d96",
   "metadata": {},
   "outputs": [
    {
     "name": "stdout",
     "output_type": "stream",
     "text": [
      "ChatCompletionMessageToolCall(id='call_GMn1sZWpIBc0Pw819dlmuLPC', function=Function(arguments='{\"query\":\"George Washington\"}', name='get_wikipedia_summary'), type='function')\n",
      "George Washington (February 22, 1732 – December 14, 1799) was the first president of the United States, serving from 1789 to 1797. He is known as the Father of the Nation for his leadership during the American Revolutionary War, where he commanded the Continental Army against British forces.\n",
      "\n",
      "Born in Virginia, Washington became a military leader during the French and Indian War and later opposed British oppression of the American colonies. He was appointed commander-in-chief at the start of the Revolutionary War and achieved significant victories, including the Siege of Boston and the battles of Trenton and Princeton.\n",
      "\n",
      "After the war, Washington presided over the Constitutional Convention in 1787, which drafted the U.S. Constitution. He was unanimously elected president in 1788 and 1792, establishing important precedents for the office, including the two-term limit and the title \"Mr. President.\" He advocated for national unity and neutrality in foreign affairs.\n",
      "\n",
      "Washington's legacy includes his opposition to slavery later in life and his provision for the manumission of his slaves in his will. He remains a highly regarded figure in American history, with numerous memorials, including the capital city and the state of Washington named in his honor.\n"
     ]
    }
   ],
   "source": [
    "op = generate_response(\"Tell me about 1st president of USA\")\n",
    "print(op)"
   ]
  },
  {
   "cell_type": "code",
   "execution_count": 40,
   "id": "05c748bd",
   "metadata": {},
   "outputs": [
    {
     "name": "stdout",
     "output_type": "stream",
     "text": [
      "ChatCompletionMessageToolCall(id='call_hgTdRRmxY553w3hBJ9YOKaVC', function=Function(arguments='{\"query\": \"Tripura\"}', name='get_wikipedia_summary'), type='function')\n",
      "ChatCompletionMessageToolCall(id='call_LE5BF658752HvfbYmOsvfail', function=Function(arguments='{\"city\": \"Agartala\"}', name='get_current_weather'), type='function')\n",
      "The capital city of Tripura is Agartala. Currently, the weather in Agartala is clear sky with a temperature of approximately 25.76°C (298.91 K).\n"
     ]
    }
   ],
   "source": [
    "op = generate_response(\"What is the capital city of Tripura and whats the weather there.\")\n",
    "print(op)"
   ]
  },
  {
   "cell_type": "code",
   "execution_count": null,
   "id": "88b3a49d",
   "metadata": {},
   "outputs": [],
   "source": []
  }
 ],
 "metadata": {
  "kernelspec": {
   "display_name": "gen-ai",
   "language": "python",
   "name": "python3"
  },
  "language_info": {
   "codemirror_mode": {
    "name": "ipython",
    "version": 3
   },
   "file_extension": ".py",
   "mimetype": "text/x-python",
   "name": "python",
   "nbconvert_exporter": "python",
   "pygments_lexer": "ipython3",
   "version": "3.12.3"
  }
 },
 "nbformat": 4,
 "nbformat_minor": 5
}

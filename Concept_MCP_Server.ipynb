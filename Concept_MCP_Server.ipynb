{
 "cells": [
  {
   "cell_type": "markdown",
   "id": "8a444785",
   "metadata": {},
   "source": [
    "## MCP Server"
   ]
  },
  {
   "cell_type": "code",
   "execution_count": 1,
   "id": "68392c3d",
   "metadata": {},
   "outputs": [],
   "source": [
    "import os\n",
    "os.makedirs(\"mcpcode\",exist_ok=True)"
   ]
  },
  {
   "cell_type": "code",
   "execution_count": null,
   "id": "18d8dc1b",
   "metadata": {},
   "outputs": [],
   "source": [
    "!pip install fastmcp --quiet"
   ]
  },
  {
   "cell_type": "code",
   "execution_count": 30,
   "id": "4a56a99e",
   "metadata": {},
   "outputs": [
    {
     "name": "stdout",
     "output_type": "stream",
     "text": [
      "Overwriting mcpcode/mcpserver1.py\n"
     ]
    }
   ],
   "source": [
    "%%writefile mcpcode/mcpserver1.py \n",
    "\n",
    "from mcp.server.fastmcp import FastMCP\n",
    "import wikipedia\n",
    "import requests, json\n",
    "\n",
    "mcp = FastMCP(\"myMCP\")\n",
    "\n",
    "@mcp.tool()\n",
    "async def get_current_weather(city:str)->dict:\n",
    "    \"\"\" can be used to get/fetch current weather information for a city name\n",
    "    \"\"\"\n",
    "    api_key = \"6a8b0ac166a37e2b7a38e64416b3c3fe\"\n",
    "\n",
    "    url = f\"https://api.openweathermap.org/data/2.5/weather?q={city}&appid={api_key}\"\n",
    "    response = requests.get(url)\n",
    "    response = response.content.decode()\n",
    "    response = json.loads(response)\n",
    "    output = {\"City Name\":city,\"weather\":response[\"weather\"][0]['description'],\n",
    "              \"temperature\":response['main']['temp'],\n",
    "              \"unit\":\"kelvin\"}\n",
    "\n",
    "    return output\n",
    "\n",
    "\n",
    "@mcp.tool()\n",
    "async def get_wikipedia_pages(query:str)->list:\n",
    "    info = wikipedia.search(query)\n",
    "    return info\n",
    "\n",
    "\n",
    "if __name__==\"__main__\":\n",
    "    mcp.run(transport=\"http\")\n",
    "    "
   ]
  },
  {
   "cell_type": "code",
   "execution_count": 16,
   "id": "6260e53b",
   "metadata": {},
   "outputs": [
    {
     "name": "stdout",
     "output_type": "stream",
     "text": [
      "Overwriting mcpcode/mcpserver2.py\n"
     ]
    }
   ],
   "source": [
    "%%writefile mcpcode/mcpserver2.py \n",
    "\n",
    "from mcp.server.fastmcp import FastMCP\n",
    "import wikipedia\n",
    "import requests, json\n",
    "\n",
    "mcp = FastMCP(\"myMCP\")\n",
    "\n",
    "@mcp.tool()\n",
    "def get_current_weather(city:str)->dict:\n",
    "    \"\"\" can be used to get/fetch current weather information for a city name\n",
    "    \"\"\"\n",
    "    api_key = \"6a8b0ac166a37e2b7a38e64416b3c3fe\"\n",
    "\n",
    "    url = f\"https://api.openweathermap.org/data/2.5/weather?q={city}&appid={api_key}\"\n",
    "    response = requests.get(url)\n",
    "    response = response.content.decode()\n",
    "    response = json.loads(response)\n",
    "    output = {\"City Name\":city,\"weather\":response[\"weather\"][0]['description'],\n",
    "              \"temperature\":response['main']['temp'],\n",
    "              \"unit\":\"kelvin\"}\n",
    "\n",
    "    return output\n",
    "\n",
    "\n",
    "@mcp.tool()\n",
    "def get_wikipedia_pages(query:str)->list:\n",
    "    info = wikipedia.search(query)\n",
    "    return info\n",
    "\n",
    "\n",
    "if __name__==\"__main__\":\n",
    "    mcp.run(transport=\"stdio\")\n",
    "    "
   ]
  },
  {
   "cell_type": "code",
   "execution_count": 17,
   "id": "5c45e6ad",
   "metadata": {},
   "outputs": [],
   "source": [
    "# run the MCP server\n",
    "# python mcpcode/mcpserver1.py"
   ]
  },
  {
   "cell_type": "markdown",
   "id": "86327ca7",
   "metadata": {},
   "source": [
    "### Implementing an Agent which uses tools from MCP server"
   ]
  },
  {
   "cell_type": "code",
   "execution_count": 18,
   "id": "4e8e3316",
   "metadata": {},
   "outputs": [],
   "source": [
    "!pip install langchain_mcp_adapters mcp --quiet"
   ]
  },
  {
   "cell_type": "code",
   "execution_count": 33,
   "id": "63bd072f",
   "metadata": {},
   "outputs": [],
   "source": [
    "from langchain_mcp_adapters.client import MultiServerMCPClient\n",
    "from langgraph.prebuilt import create_react_agent"
   ]
  },
  {
   "cell_type": "code",
   "execution_count": 34,
   "id": "4967b535",
   "metadata": {},
   "outputs": [
    {
     "name": "stderr",
     "output_type": "stream",
     "text": [
      "  + Exception Group Traceback (most recent call last):\n",
      "  |   File \"/home/user/GAAPB03-training/gen-ai/lib/python3.12/site-packages/IPython/core/interactiveshell.py\", line 3668, in run_code\n",
      "  |     await eval(code_obj, self.user_global_ns, self.user_ns)\n",
      "  |   File \"/tmp/ipykernel_442698/2901729102.py\", line 4, in <module>\n",
      "  |     tools = await client.get_tools()\n",
      "  |             ^^^^^^^^^^^^^^^^^^^^^^^^\n",
      "  |   File \"/home/user/GAAPB03-training/gen-ai/lib/python3.12/site-packages/langchain_mcp_adapters/client.py\", line 137, in get_tools\n",
      "  |     tools_list = await asyncio.gather(*load_mcp_tool_tasks)\n",
      "  |                  ^^^^^^^^^^^^^^^^^^^^^^^^^^^^^^^^^^^^^^^^^^\n",
      "  |   File \"/home/user/GAAPB03-training/gen-ai/lib/python3.12/site-packages/langchain_mcp_adapters/tools.py\", line 133, in load_mcp_tools\n",
      "  |     async with create_session(connection) as tool_session:\n",
      "  |   File \"/usr/lib/python3.12/contextlib.py\", line 231, in __aexit__\n",
      "  |     await self.gen.athrow(value)\n",
      "  |   File \"/home/user/GAAPB03-training/gen-ai/lib/python3.12/site-packages/langchain_mcp_adapters/sessions.py\", line 294, in create_session\n",
      "  |     async with _create_streamable_http_session(\n",
      "  |   File \"/usr/lib/python3.12/contextlib.py\", line 231, in __aexit__\n",
      "  |     await self.gen.athrow(value)\n",
      "  |   File \"/home/user/GAAPB03-training/gen-ai/lib/python3.12/site-packages/langchain_mcp_adapters/sessions.py\", line 226, in _create_streamable_http_session\n",
      "  |     async with streamablehttp_client(\n",
      "  |   File \"/usr/lib/python3.12/contextlib.py\", line 231, in __aexit__\n",
      "  |     await self.gen.athrow(value)\n",
      "  |   File \"/home/user/GAAPB03-training/gen-ai/lib/python3.12/site-packages/mcp/client/streamable_http.py\", line 437, in streamablehttp_client\n",
      "  |     async with anyio.create_task_group() as tg:\n",
      "  |   File \"/home/user/GAAPB03-training/gen-ai/lib/python3.12/site-packages/anyio/_backends/_asyncio.py\", line 772, in __aexit__\n",
      "  |     raise BaseExceptionGroup(\n",
      "  | ExceptionGroup: unhandled errors in a TaskGroup (1 sub-exception)\n",
      "  +-+---------------- 1 ----------------\n",
      "    | Traceback (most recent call last):\n",
      "    |   File \"/home/user/GAAPB03-training/gen-ai/lib/python3.12/site-packages/mcp/client/streamable_http.py\", line 368, in handle_request_async\n",
      "    |     await self._handle_post_request(ctx)\n",
      "    |   File \"/home/user/GAAPB03-training/gen-ai/lib/python3.12/site-packages/mcp/client/streamable_http.py\", line 252, in _handle_post_request\n",
      "    |     response.raise_for_status()\n",
      "    |   File \"/home/user/GAAPB03-training/gen-ai/lib/python3.12/site-packages/httpx/_models.py\", line 829, in raise_for_status\n",
      "    |     raise HTTPStatusError(message, request=request, response=self)\n",
      "    | httpx.HTTPStatusError: Server error '500 Internal Server Error' for url 'http://127.0.0.1:8000/mcp'\n",
      "    | For more information check: https://developer.mozilla.org/en-US/docs/Web/HTTP/Status/500\n",
      "    +------------------------------------\n"
     ]
    }
   ],
   "source": [
    "client = MultiServerMCPClient({\"TredenceMCP\":{\"url\":\"http://127.0.0.1:8000/mcp\",\n",
    "                                              \"transport\":\"streamable_http\"}})\n",
    "\n",
    "tools = await client.get_tools()\n",
    "tools"
   ]
  },
  {
   "cell_type": "code",
   "execution_count": 24,
   "id": "b0ad4d4c",
   "metadata": {},
   "outputs": [],
   "source": [
    "\n",
    "agent = create_react_agent(\"azure_openai:myllm\",tools)\n"
   ]
  },
  {
   "cell_type": "code",
   "execution_count": 25,
   "id": "6ed50e37",
   "metadata": {},
   "outputs": [
    {
     "data": {
      "text/plain": [
       "{'messages': [HumanMessage(content='what is weather in mumbai today?', additional_kwargs={}, response_metadata={}, id='c1272752-b681-42e6-ad45-6b43b5f5e736'),\n",
       "  AIMessage(content='', additional_kwargs={'tool_calls': [{'id': 'call_r5AdDryNVoOFUQafjc18dzaZ', 'function': {'arguments': '{\"city\":\"Mumbai\"}', 'name': 'get_current_weather'}, 'type': 'function'}], 'refusal': None}, response_metadata={'token_usage': {'completion_tokens': 16, 'prompt_tokens': 77, 'total_tokens': 93, 'completion_tokens_details': {'accepted_prediction_tokens': 0, 'audio_tokens': 0, 'reasoning_tokens': 0, 'rejected_prediction_tokens': 0}, 'prompt_tokens_details': {'audio_tokens': 0, 'cached_tokens': 0}}, 'model_name': 'gpt-4o-mini-2024-07-18', 'system_fingerprint': 'fp_efad92c60b', 'id': 'chatcmpl-BmNqX2spqx6VNNtxHdDkARF4wa0WV', 'service_tier': None, 'prompt_filter_results': [{'prompt_index': 0, 'content_filter_results': {'hate': {'filtered': False, 'severity': 'safe'}, 'jailbreak': {'filtered': False, 'detected': False}, 'self_harm': {'filtered': False, 'severity': 'safe'}, 'sexual': {'filtered': False, 'severity': 'safe'}, 'violence': {'filtered': False, 'severity': 'safe'}}}], 'finish_reason': 'tool_calls', 'logprobs': None, 'content_filter_results': {}}, id='run--e0e153e3-e5a6-4699-b3c7-6e7b26e32a04-0', tool_calls=[{'name': 'get_current_weather', 'args': {'city': 'Mumbai'}, 'id': 'call_r5AdDryNVoOFUQafjc18dzaZ', 'type': 'tool_call'}], usage_metadata={'input_tokens': 77, 'output_tokens': 16, 'total_tokens': 93, 'input_token_details': {'audio': 0, 'cache_read': 0}, 'output_token_details': {'audio': 0, 'reasoning': 0}}),\n",
       "  ToolMessage(content='{\\n  \"City Name\": \"Mumbai\",\\n  \"weather\": \"overcast clouds\",\\n  \"temperature\": 301,\\n  \"unit\": \"kelvin\"\\n}', name='get_current_weather', id='4d99d79f-9f63-453a-9081-409a3277c000', tool_call_id='call_r5AdDryNVoOFUQafjc18dzaZ'),\n",
       "  AIMessage(content='Today in Mumbai, the weather is characterized by overcast clouds, with a temperature of 301 K.', additional_kwargs={'refusal': None}, response_metadata={'token_usage': {'completion_tokens': 23, 'prompt_tokens': 135, 'total_tokens': 158, 'completion_tokens_details': {'accepted_prediction_tokens': 0, 'audio_tokens': 0, 'reasoning_tokens': 0, 'rejected_prediction_tokens': 0}, 'prompt_tokens_details': {'audio_tokens': 0, 'cached_tokens': 0}}, 'model_name': 'gpt-4o-mini-2024-07-18', 'system_fingerprint': 'fp_efad92c60b', 'id': 'chatcmpl-BmNqYatkfr9RheTwhIwdEzYVfA7HR', 'service_tier': None, 'prompt_filter_results': [{'prompt_index': 0, 'content_filter_results': {'hate': {'filtered': False, 'severity': 'safe'}, 'jailbreak': {'filtered': False, 'detected': False}, 'self_harm': {'filtered': False, 'severity': 'safe'}, 'sexual': {'filtered': False, 'severity': 'safe'}, 'violence': {'filtered': False, 'severity': 'safe'}}}], 'finish_reason': 'stop', 'logprobs': None, 'content_filter_results': {'hate': {'filtered': False, 'severity': 'safe'}, 'self_harm': {'filtered': False, 'severity': 'safe'}, 'sexual': {'filtered': False, 'severity': 'safe'}, 'violence': {'filtered': False, 'severity': 'safe'}}}, id='run--87d407b6-d006-415f-b62f-cdb6321e8646-0', usage_metadata={'input_tokens': 135, 'output_tokens': 23, 'total_tokens': 158, 'input_token_details': {'audio': 0, 'cache_read': 0}, 'output_token_details': {'audio': 0, 'reasoning': 0}})]}"
      ]
     },
     "execution_count": 25,
     "metadata": {},
     "output_type": "execute_result"
    }
   ],
   "source": [
    "await agent.ainvoke({\"messages\":[{\"role\":\"user\",\"content\":\"what is weather in mumbai today?\"}]})"
   ]
  },
  {
   "cell_type": "code",
   "execution_count": 26,
   "id": "e06c90fd",
   "metadata": {},
   "outputs": [
    {
     "data": {
      "text/plain": [
       "{'messages': [HumanMessage(content='tell me about wikipedia pages for Tata', additional_kwargs={}, response_metadata={}, id='19ca2367-1956-40a7-98f2-d8ed3d8d373c'),\n",
       "  AIMessage(content='', additional_kwargs={'tool_calls': [{'id': 'call_R2fGxBRW9cdJNHz0eLtwg1yz', 'function': {'arguments': '{\"query\":\"Tata\"}', 'name': 'get_wikipedia_pages'}, 'type': 'function'}], 'refusal': None}, response_metadata={'token_usage': {'completion_tokens': 18, 'prompt_tokens': 76, 'total_tokens': 94, 'completion_tokens_details': {'accepted_prediction_tokens': 0, 'audio_tokens': 0, 'reasoning_tokens': 0, 'rejected_prediction_tokens': 0}, 'prompt_tokens_details': {'audio_tokens': 0, 'cached_tokens': 0}}, 'model_name': 'gpt-4o-mini-2024-07-18', 'system_fingerprint': 'fp_efad92c60b', 'id': 'chatcmpl-BmNqtx4u9TlO2HRZiRSWisl56N8Lz', 'service_tier': None, 'prompt_filter_results': [{'prompt_index': 0, 'content_filter_results': {'hate': {'filtered': False, 'severity': 'safe'}, 'jailbreak': {'filtered': False, 'detected': False}, 'self_harm': {'filtered': False, 'severity': 'safe'}, 'sexual': {'filtered': False, 'severity': 'safe'}, 'violence': {'filtered': False, 'severity': 'safe'}}}], 'finish_reason': 'tool_calls', 'logprobs': None, 'content_filter_results': {}}, id='run--31ebba96-8c84-454e-8e43-bcd061652d9d-0', tool_calls=[{'name': 'get_wikipedia_pages', 'args': {'query': 'Tata'}, 'id': 'call_R2fGxBRW9cdJNHz0eLtwg1yz', 'type': 'tool_call'}], usage_metadata={'input_tokens': 76, 'output_tokens': 18, 'total_tokens': 94, 'input_token_details': {'audio': 0, 'cache_read': 0}, 'output_token_details': {'audio': 0, 'reasoning': 0}}),\n",
       "  ToolMessage(content='[\"Tata Group\", \"Tata\", \"Ratan Tata\", \"Tata Motors\", \"Jamsetji Tata\", \"Tata Steel\", \"Tata Consultancy Services\", \"J. R. D. Tata\", \"Tata Sons\", \"Tata family\"]', name='get_wikipedia_pages', id='a10af122-ae95-41dc-b176-c01465a7d100', tool_call_id='call_R2fGxBRW9cdJNHz0eLtwg1yz'),\n",
       "  AIMessage(content='Here are some Wikipedia pages related to \"Tata\":\\n\\n1. **Tata Group** - The parent company of many Tata enterprises and one of the largest conglomerates in India.\\n2. **Tata** - A general page that may discuss the Tata name, its history, and significance.\\n3. **Ratan Tata** - A prominent Indian industrialist and the former chairman of Tata Sons.\\n4. **Tata Motors** - An automobile manufacturing company and a part of the Tata Group.\\n5. **Jamsetji Tata** - The founder of the Tata Group and a key figure in Indian industry.\\n6. **Tata Steel** - One of the world\\'s largest steel manufacturing companies, also part of the Tata Group.\\n7. **Tata Consultancy Services (TCS)** - A leading global IT services, consulting, and business solutions organization.\\n8. **J. R. D. Tata** - An industrialist and the former chairman of Tata Sons, known for his contributions to Indian aviation.\\n9. **Tata Sons** - The holding company of the Tata Group, responsible for managing the group\\'s investments.\\n10. **Tata family** - The family that has been behind the establishment and growth of the Tata Group.\\n\\nIf you would like more detailed information on any specific page, please let me know!', additional_kwargs={'refusal': None}, response_metadata={'token_usage': {'completion_tokens': 268, 'prompt_tokens': 158, 'total_tokens': 426, 'completion_tokens_details': {'accepted_prediction_tokens': 0, 'audio_tokens': 0, 'reasoning_tokens': 0, 'rejected_prediction_tokens': 0}, 'prompt_tokens_details': {'audio_tokens': 0, 'cached_tokens': 0}}, 'model_name': 'gpt-4o-mini-2024-07-18', 'system_fingerprint': 'fp_efad92c60b', 'id': 'chatcmpl-BmNqvdtGmmMeKuga4ClL77wYXo2li', 'service_tier': None, 'prompt_filter_results': [{'prompt_index': 0, 'content_filter_results': {'hate': {'filtered': False, 'severity': 'safe'}, 'jailbreak': {'filtered': False, 'detected': False}, 'self_harm': {'filtered': False, 'severity': 'safe'}, 'sexual': {'filtered': False, 'severity': 'safe'}, 'violence': {'filtered': False, 'severity': 'safe'}}}], 'finish_reason': 'stop', 'logprobs': None, 'content_filter_results': {'hate': {'filtered': False, 'severity': 'safe'}, 'protected_material_code': {'filtered': False, 'detected': False}, 'protected_material_text': {'filtered': False, 'detected': False}, 'self_harm': {'filtered': False, 'severity': 'safe'}, 'sexual': {'filtered': False, 'severity': 'safe'}, 'violence': {'filtered': False, 'severity': 'safe'}}}, id='run--5d6a3e68-34e8-4378-8ae8-6e383bba34c9-0', usage_metadata={'input_tokens': 158, 'output_tokens': 268, 'total_tokens': 426, 'input_token_details': {'audio': 0, 'cache_read': 0}, 'output_token_details': {'audio': 0, 'reasoning': 0}})]}"
      ]
     },
     "execution_count": 26,
     "metadata": {},
     "output_type": "execute_result"
    }
   ],
   "source": [
    "await agent.ainvoke({\"messages\":[{\"role\":\"user\",\"content\":\"tell me about wikipedia pages for Tata\"}]})"
   ]
  },
  {
   "cell_type": "code",
   "execution_count": 32,
   "id": "0fd1e29b",
   "metadata": {},
   "outputs": [
    {
     "name": "stdout",
     "output_type": "stream",
     "text": [
      "Overwriting mcpcode/mcpserver3.py\n"
     ]
    }
   ],
   "source": [
    "%%writefile mcpcode/mcpserver3.py \n",
    "\n",
    "from mcp.server.fastmcp import FastMCP\n",
    "import wikipedia\n",
    "import requests, json\n",
    "\n",
    "mcp = FastMCP(\"myMCP\")\n",
    "\n",
    "\n",
    "@mcp.tool()\n",
    "async def get_current_weather(city:str)->dict:\n",
    "    \"\"\" can be used to get/fetch current weather information for a city name\n",
    "    \"\"\"\n",
    "    api_key = \"6a8b0ac166a37e2b7a38e64416b3c3fe\"\n",
    "\n",
    "    url = f\"https://api.openweathermap.org/data/2.5/weather?q={city}&appid={api_key}\"\n",
    "    response = requests.get(url)\n",
    "    response = response.content.decode()\n",
    "    response = json.loads(response)\n",
    "    output = {\"City Name\":city,\"weather\":response[\"weather\"][0]['description'],\n",
    "              \"temperature\":response['main']['temp'],\n",
    "              \"unit\":\"kelvin\"}\n",
    "\n",
    "    return output\n",
    "\n",
    "\n",
    "@mcp.tool()\n",
    "async def get_wikipedia_pages(query:str)->list:\n",
    "    info = wikipedia.search(query)\n",
    "    return info\n",
    "\n",
    "import uvicorn\n",
    "\n",
    "if __name__==\"__main__\":\n",
    "    uvicorn.run(httpapp,host=\"0.0.0.0\",port=8000)\n",
    "    "
   ]
  },
  {
   "cell_type": "code",
   "execution_count": null,
   "id": "a0631088",
   "metadata": {},
   "outputs": [],
   "source": []
  }
 ],
 "metadata": {
  "kernelspec": {
   "display_name": "gen-ai",
   "language": "python",
   "name": "python3"
  },
  "language_info": {
   "codemirror_mode": {
    "name": "ipython",
    "version": 3
   },
   "file_extension": ".py",
   "mimetype": "text/x-python",
   "name": "python",
   "nbconvert_exporter": "python",
   "pygments_lexer": "ipython3",
   "version": "3.12.3"
  }
 },
 "nbformat": 4,
 "nbformat_minor": 5
}

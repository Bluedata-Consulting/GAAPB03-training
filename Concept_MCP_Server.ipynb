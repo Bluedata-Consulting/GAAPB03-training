{
 "cells": [
  {
   "cell_type": "markdown",
   "id": "8a444785",
   "metadata": {},
   "source": [
    "## MCP Server"
   ]
  },
  {
   "cell_type": "code",
   "execution_count": 1,
   "id": "68392c3d",
   "metadata": {},
   "outputs": [],
   "source": [
    "import os\n",
    "os.makedirs(\"mcpcode\",exist_ok=True)"
   ]
  },
  {
   "cell_type": "code",
   "execution_count": null,
   "id": "18d8dc1b",
   "metadata": {},
   "outputs": [],
   "source": [
    "!pip install fastmcp --quiet"
   ]
  },
  {
   "cell_type": "code",
   "execution_count": 3,
   "id": "4a56a99e",
   "metadata": {},
   "outputs": [
    {
     "name": "stdout",
     "output_type": "stream",
     "text": [
      "Writing mcpcode/mcpserver1.py\n"
     ]
    }
   ],
   "source": [
    "%%writefile mcpcode/mcpserver1.py \n",
    "\n",
    "from mcp.server.fastmcp import FastMCP\n",
    "import wikipedia\n",
    "import requests, json\n",
    "\n",
    "mcp = FastMCP(\"myMCP\")\n",
    "\n",
    "@mcp.tool()\n",
    "async def get_current_weather(city:str)->dict:\n",
    "    \"\"\" can be used to get/fetch current weather information for a city name\n",
    "    \"\"\"\n",
    "    api_key = \"6a8b0ac166a37e2b7a38e64416b3c3fe\"\n",
    "\n",
    "    url = f\"https://api.openweathermap.org/data/2.5/weather?q={city}&appid={api_key}\"\n",
    "    response = requests.get(url)\n",
    "    response = response.content.decode()\n",
    "    response = json.loads(response)\n",
    "    output = {\"City Name\":city,\"weather\":response[\"weather\"][0]['description'],\n",
    "              \"temperature\":response['main']['temp'],\n",
    "              \"unit\":\"kelvin\"}\n",
    "\n",
    "    return output\n",
    "\n",
    "\n",
    "@mcp.tool()\n",
    "async def get_wikipedia_pages(query:str)->list:\n",
    "    info = wikipedia.search(query)\n",
    "    return info\n",
    "\n",
    "\n",
    "if __name__==\"__main__\":\n",
    "    mcp.run(transport=\"streamable-http\")\n",
    "    "
   ]
  },
  {
   "cell_type": "code",
   "execution_count": 4,
   "id": "6260e53b",
   "metadata": {},
   "outputs": [
    {
     "name": "stdout",
     "output_type": "stream",
     "text": [
      "Overwriting mcpcode/mcpserver2.py\n"
     ]
    }
   ],
   "source": [
    "%%writefile mcpcode/mcpserver2.py \n",
    "\n",
    "from mcp.server.fastmcp import FastMCP\n",
    "import wikipedia\n",
    "import requests, json\n",
    "\n",
    "mcp = FastMCP(\"myMCP\")\n",
    "\n",
    "@mcp.tool()\n",
    "def get_current_weather(city:str)->dict:\n",
    "    \"\"\" can be used to get/fetch current weather information for a city name\n",
    "    \"\"\"\n",
    "    api_key = \"6a8b0ac166a37e2b7a38e64416b3c3fe\"\n",
    "\n",
    "    url = f\"https://api.openweathermap.org/data/2.5/weather?q={city}&appid={api_key}\"\n",
    "    response = requests.get(url)\n",
    "    response = response.content.decode()\n",
    "    response = json.loads(response)\n",
    "    output = {\"City Name\":city,\"weather\":response[\"weather\"][0]['description'],\n",
    "              \"temperature\":response['main']['temp'],\n",
    "              \"unit\":\"kelvin\"}\n",
    "\n",
    "    return output\n",
    "\n",
    "\n",
    "@mcp.tool()\n",
    "def get_wikipedia_pages(query:str)->list:\n",
    "    info = wikipedia.search(query)\n",
    "    return info\n",
    "\n",
    "\n",
    "if __name__==\"__main__\":\n",
    "    mcp.run(transport=\"stdio\")\n",
    "    "
   ]
  },
  {
   "cell_type": "code",
   "execution_count": 5,
   "id": "5c45e6ad",
   "metadata": {},
   "outputs": [],
   "source": [
    "# run the MCP server\n",
    "# python mcpcode/mcpserver1.py"
   ]
  },
  {
   "cell_type": "markdown",
   "id": "86327ca7",
   "metadata": {},
   "source": [
    "### Implementing an Agent which uses tools from MCP server"
   ]
  },
  {
   "cell_type": "code",
   "execution_count": 13,
   "id": "63bd072f",
   "metadata": {},
   "outputs": [],
   "source": [
    "from langchain_mcp_adapters.client import MultiServerMCPClient\n",
    "from langgraph.prebuilt import create_react_agent"
   ]
  },
  {
   "cell_type": "code",
   "execution_count": 14,
   "id": "4967b535",
   "metadata": {},
   "outputs": [
    {
     "data": {
      "text/plain": [
       "[StructuredTool(name='get_current_weather', description=' can be used to get/fetch current weather information for a city name\\n    ', args_schema={'properties': {'city': {'title': 'City', 'type': 'string'}}, 'required': ['city'], 'title': 'get_current_weatherArguments', 'type': 'object'}, response_format='content_and_artifact', coroutine=<function convert_mcp_tool_to_langchain_tool.<locals>.call_tool at 0x74fceaad9300>),\n",
       " StructuredTool(name='get_wikipedia_pages', args_schema={'properties': {'query': {'title': 'Query', 'type': 'string'}}, 'required': ['query'], 'title': 'get_wikipedia_pagesArguments', 'type': 'object'}, response_format='content_and_artifact', coroutine=<function convert_mcp_tool_to_langchain_tool.<locals>.call_tool at 0x74fcea81dbc0>)]"
      ]
     },
     "execution_count": 14,
     "metadata": {},
     "output_type": "execute_result"
    }
   ],
   "source": [
    "client = MultiServerMCPClient({\"TredenceMCP\":{\"url\":\"http://127.0.0.1:8000/mcp\",\n",
    "                                              \"transport\":\"streamable_http\"}})\n",
    "\n",
    "tools = await client.get_tools()\n",
    "tools"
   ]
  },
  {
   "cell_type": "code",
   "execution_count": 15,
   "id": "b0ad4d4c",
   "metadata": {},
   "outputs": [],
   "source": [
    "\n",
    "agent = create_react_agent(\"azure_openai:gpt-4.1-mini\",tools)\n"
   ]
  },
  {
   "cell_type": "code",
   "execution_count": 16,
   "id": "6ed50e37",
   "metadata": {},
   "outputs": [
    {
     "data": {
      "text/plain": [
       "{'messages': [HumanMessage(content='what is weather in mumbai today?', additional_kwargs={}, response_metadata={}, id='4711f2c1-abed-4f5e-8a60-945a2115b8cd'),\n",
       "  AIMessage(content='', additional_kwargs={'tool_calls': [{'id': 'call_iBz2LeFUhT3szQMu9gN40WYL', 'function': {'arguments': '{\"city\":\"Mumbai\"}', 'name': 'get_current_weather'}, 'type': 'function'}], 'refusal': None}, response_metadata={'token_usage': {'completion_tokens': 16, 'prompt_tokens': 77, 'total_tokens': 93, 'completion_tokens_details': {'accepted_prediction_tokens': 0, 'audio_tokens': 0, 'reasoning_tokens': 0, 'rejected_prediction_tokens': 0}, 'prompt_tokens_details': {'audio_tokens': 0, 'cached_tokens': 0}}, 'model_name': 'gpt-4.1-mini-2025-04-14', 'system_fingerprint': 'fp_178c8d546f', 'id': 'chatcmpl-BeEYSqiJGIRxjslVwiqTm6ZBZlKsJ', 'prompt_filter_results': [{'prompt_index': 0, 'content_filter_results': {'hate': {'filtered': False, 'severity': 'safe'}, 'jailbreak': {'filtered': False, 'detected': False}, 'self_harm': {'filtered': False, 'severity': 'safe'}, 'sexual': {'filtered': False, 'severity': 'safe'}, 'violence': {'filtered': False, 'severity': 'safe'}}}], 'finish_reason': 'tool_calls', 'logprobs': None, 'content_filter_results': {}}, id='run--71f94001-137f-4f0e-8df5-a845256487e0-0', tool_calls=[{'name': 'get_current_weather', 'args': {'city': 'Mumbai'}, 'id': 'call_iBz2LeFUhT3szQMu9gN40WYL', 'type': 'tool_call'}], usage_metadata={'input_tokens': 77, 'output_tokens': 16, 'total_tokens': 93, 'input_token_details': {'audio': 0, 'cache_read': 0}, 'output_token_details': {'audio': 0, 'reasoning': 0}}),\n",
       "  ToolMessage(content='{\\n  \"City Name\": \"Mumbai\",\\n  \"weather\": \"haze\",\\n  \"temperature\": 304.14,\\n  \"unit\": \"kelvin\"\\n}', name='get_current_weather', id='6ff24901-8644-498a-8da8-f785e5cfb508', tool_call_id='call_iBz2LeFUhT3szQMu9gN40WYL'),\n",
       "  AIMessage(content='The weather in Mumbai today is hazy with a temperature of approximately 304.14 Kelvin. If you want, I can convert this temperature to Celsius or Fahrenheit for you.', additional_kwargs={'refusal': None}, response_metadata={'token_usage': {'completion_tokens': 37, 'prompt_tokens': 136, 'total_tokens': 173, 'completion_tokens_details': {'accepted_prediction_tokens': 0, 'audio_tokens': 0, 'reasoning_tokens': 0, 'rejected_prediction_tokens': 0}, 'prompt_tokens_details': {'audio_tokens': 0, 'cached_tokens': 0}}, 'model_name': 'gpt-4.1-mini-2025-04-14', 'system_fingerprint': 'fp_178c8d546f', 'id': 'chatcmpl-BeEYUlUDnnC7QMJ1FS3RWoGzv5hBv', 'prompt_filter_results': [{'prompt_index': 0, 'content_filter_results': {'hate': {'filtered': False, 'severity': 'safe'}, 'jailbreak': {'filtered': False, 'detected': False}, 'self_harm': {'filtered': False, 'severity': 'safe'}, 'sexual': {'filtered': False, 'severity': 'safe'}, 'violence': {'filtered': False, 'severity': 'safe'}}}], 'finish_reason': 'stop', 'logprobs': None, 'content_filter_results': {'hate': {'filtered': False, 'severity': 'safe'}, 'self_harm': {'filtered': False, 'severity': 'safe'}, 'sexual': {'filtered': False, 'severity': 'safe'}, 'violence': {'filtered': False, 'severity': 'safe'}}}, id='run--f9fe821e-02f6-42bd-b589-b9f3e68669f6-0', usage_metadata={'input_tokens': 136, 'output_tokens': 37, 'total_tokens': 173, 'input_token_details': {'audio': 0, 'cache_read': 0}, 'output_token_details': {'audio': 0, 'reasoning': 0}})]}"
      ]
     },
     "execution_count": 16,
     "metadata": {},
     "output_type": "execute_result"
    }
   ],
   "source": [
    "await agent.ainvoke({\"messages\":[{\"role\":\"user\",\"content\":\"what is weather in mumbai today?\"}]})"
   ]
  },
  {
   "cell_type": "code",
   "execution_count": 18,
   "id": "e06c90fd",
   "metadata": {},
   "outputs": [
    {
     "data": {
      "text/plain": [
       "{'messages': [HumanMessage(content='tell me about wikipedia pages for Tata', additional_kwargs={}, response_metadata={}, id='a3c3db04-03cb-4dcb-945e-078792fdd4d1'),\n",
       "  AIMessage(content='', additional_kwargs={'tool_calls': [{'id': 'call_hbSecBSkerWmz1hpmdoRVFW8', 'function': {'arguments': '{\"query\":\"Tata\"}', 'name': 'get_wikipedia_pages'}, 'type': 'function'}], 'refusal': None}, response_metadata={'token_usage': {'completion_tokens': 18, 'prompt_tokens': 76, 'total_tokens': 94, 'completion_tokens_details': {'accepted_prediction_tokens': 0, 'audio_tokens': 0, 'reasoning_tokens': 0, 'rejected_prediction_tokens': 0}, 'prompt_tokens_details': {'audio_tokens': 0, 'cached_tokens': 0}}, 'model_name': 'gpt-4.1-mini-2025-04-14', 'system_fingerprint': 'fp_178c8d546f', 'id': 'chatcmpl-BeEYqN3vy9dqjoQJmx5aGGg67xeKd', 'prompt_filter_results': [{'prompt_index': 0, 'content_filter_results': {'hate': {'filtered': False, 'severity': 'safe'}, 'jailbreak': {'filtered': False, 'detected': False}, 'self_harm': {'filtered': False, 'severity': 'safe'}, 'sexual': {'filtered': False, 'severity': 'safe'}, 'violence': {'filtered': False, 'severity': 'safe'}}}], 'finish_reason': 'tool_calls', 'logprobs': None, 'content_filter_results': {}}, id='run--0ce1b2a5-c61a-4af2-be11-f410f70b4ee2-0', tool_calls=[{'name': 'get_wikipedia_pages', 'args': {'query': 'Tata'}, 'id': 'call_hbSecBSkerWmz1hpmdoRVFW8', 'type': 'tool_call'}], usage_metadata={'input_tokens': 76, 'output_tokens': 18, 'total_tokens': 94, 'input_token_details': {'audio': 0, 'cache_read': 0}, 'output_token_details': {'audio': 0, 'reasoning': 0}}),\n",
       "  ToolMessage(content='[\"Tata Group\", \"Tata\", \"Tata Motors\", \"Ratan Tata\", \"Tata Steel\", \"Tata Consultancy Services\", \"Jamsetji Tata\", \"Tata Sons\", \"J. R. D. Tata\", \"Tata family\"]', name='get_wikipedia_pages', id='8266f7cf-774c-41fa-8778-2a485bd8db7f', tool_call_id='call_hbSecBSkerWmz1hpmdoRVFW8'),\n",
       "  AIMessage(content=\"There are several Wikipedia pages related to Tata, including:\\n\\n1. Tata Group - The main page about the Tata Group, one of India's largest and oldest conglomerates.\\n2. Tata - Likely a general or disambiguation page for Tata.\\n3. Tata Motors - A page about Tata Motors, a major automobile manufacturing company under the Tata Group.\\n4. Ratan Tata - The page for Ratan Tata, former chairman of Tata Group.\\n5. Tata Steel - The page about Tata Steel, a major steel manufacturing company under Tata Group.\\n6. Tata Consultancy Services - The page about Tata Consultancy Services (TCS), an IT services and consulting company under Tata Group.\\n7. Jamsetji Tata - The page for Jamsetji Tata, the founder of the Tata Group.\\n8. Tata Sons - The page about Tata Sons, the holding company of Tata Group.\\n9. J. R. D. Tata - The page for J. R. D. Tata, a prominent industrialist and chairman of Tata Group.\\n10. Tata family - A page about the Tata family, prominent industrialists and philanthropists in India.\\n\\nIf you want information from any particular page, please let me know!\", additional_kwargs={'refusal': None}, response_metadata={'token_usage': {'completion_tokens': 243, 'prompt_tokens': 158, 'total_tokens': 401, 'completion_tokens_details': {'accepted_prediction_tokens': 0, 'audio_tokens': 0, 'reasoning_tokens': 0, 'rejected_prediction_tokens': 0}, 'prompt_tokens_details': {'audio_tokens': 0, 'cached_tokens': 0}}, 'model_name': 'gpt-4.1-mini-2025-04-14', 'system_fingerprint': 'fp_178c8d546f', 'id': 'chatcmpl-BeEYr6RHBgyyd10CcdmZqgMCSgwUb', 'prompt_filter_results': [{'prompt_index': 0, 'content_filter_results': {'hate': {'filtered': False, 'severity': 'safe'}, 'jailbreak': {'filtered': False, 'detected': False}, 'self_harm': {'filtered': False, 'severity': 'safe'}, 'sexual': {'filtered': False, 'severity': 'safe'}, 'violence': {'filtered': False, 'severity': 'safe'}}}], 'finish_reason': 'stop', 'logprobs': None, 'content_filter_results': {'hate': {'filtered': False, 'severity': 'safe'}, 'protected_material_code': {'filtered': False, 'detected': False}, 'protected_material_text': {'filtered': False, 'detected': False}, 'self_harm': {'filtered': False, 'severity': 'safe'}, 'sexual': {'filtered': False, 'severity': 'safe'}, 'violence': {'filtered': False, 'severity': 'safe'}}}, id='run--349663b4-070e-4274-8a36-611f1310ff90-0', usage_metadata={'input_tokens': 158, 'output_tokens': 243, 'total_tokens': 401, 'input_token_details': {'audio': 0, 'cache_read': 0}, 'output_token_details': {'audio': 0, 'reasoning': 0}})]}"
      ]
     },
     "execution_count": 18,
     "metadata": {},
     "output_type": "execute_result"
    }
   ],
   "source": [
    "await agent.ainvoke({\"messages\":[{\"role\":\"user\",\"content\":\"tell me about wikipedia pages for Tata\"}]})"
   ]
  },
  {
   "cell_type": "code",
   "execution_count": null,
   "id": "0fd1e29b",
   "metadata": {},
   "outputs": [],
   "source": []
  }
 ],
 "metadata": {
  "kernelspec": {
   "display_name": "gen-ai",
   "language": "python",
   "name": "python3"
  },
  "language_info": {
   "codemirror_mode": {
    "name": "ipython",
    "version": 3
   },
   "file_extension": ".py",
   "mimetype": "text/x-python",
   "name": "python",
   "nbconvert_exporter": "python",
   "pygments_lexer": "ipython3",
   "version": "3.12.3"
  }
 },
 "nbformat": 4,
 "nbformat_minor": 5
}

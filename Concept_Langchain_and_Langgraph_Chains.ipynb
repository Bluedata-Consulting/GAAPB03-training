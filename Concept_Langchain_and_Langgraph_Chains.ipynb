{
 "cells": [
  {
   "cell_type": "markdown",
   "id": "1efb5833",
   "metadata": {},
   "source": [
    "# LangChain and LangGraph"
   ]
  },
  {
   "cell_type": "code",
   "execution_count": 1,
   "id": "28e23646",
   "metadata": {},
   "outputs": [],
   "source": [
    "# pip install langchain langchain-core langchain-community langchain-experimental \n",
    "# pip install langchain-openai"
   ]
  },
  {
   "cell_type": "markdown",
   "id": "b8353600",
   "metadata": {},
   "source": [
    "### Chatmodels, Prompt Templates and Parsers"
   ]
  },
  {
   "cell_type": "code",
   "execution_count": 3,
   "id": "2bbe9485",
   "metadata": {},
   "outputs": [
    {
     "name": "stdout",
     "output_type": "stream",
     "text": [
      "In the heart of the Deccan, where the gardens bloom bright,  \n",
      "Bangalore, oh Bangalore, a city of light.  \n",
      "With tech towers reaching, ambitions so tall,  \n",
      "A blend of old echoes and the new city's call.  \n",
      "\n",
      "Beneath the soft shadows of the ancient trees,  \n",
      "Where laughter mingles with whispers of the breeze,  \n",
      "The bustle of markets, the aromas that sway,  \n",
      "From fragrant masalas to fresh flower displays.  \n",
      "\n",
      "The hum of the traffic, a symphony played,  \n",
      "On streets where the cycles and auto-rickshaws parade.  \n",
      "Cafés and bistros, where stories are shared,  \n",
      "In the city of dreams, where each heart is dared.  \n",
      "\n",
      "From Lalbagh's green canvas, to Cubbon's embrace,  \n",
      "The serenity flows through this vibrant space.  \n",
      "A tapestry woven with culture's rich thread,  \n",
      "In festivals cherished, where history’s led.  \n",
      "\n",
      "The echoes of Kannada, the spices that dance,  \n",
      "A fusion of flavors, a woven romance.  \n",
      "Startups and scholars, unite in the fray,  \n",
      "In a city where futures are sculpted each day.  \n",
      "\n",
      "As twilight descends and the skyline aglow,  \n",
      "The city awakens, its spirit in flow.  \n",
      "For Bangalore, oh Bangalore, with a heart so alive,  \n",
      "In every corner and alley, aspiration will thrive.  \n",
      "\n",
      "So here’s to your laughter, your dreams, and your might,  \n",
      "In the bustling embrace of the soft southern night.  \n",
      "With each passing moment, your legacy grows,  \n",
      "Bangalore, oh Bangalore, the pulse never slows.\n"
     ]
    }
   ],
   "source": [
    "from langchain_openai import AzureChatOpenAI\n",
    "\n",
    "model = AzureChatOpenAI(model='myllm')\n",
    "\n",
    "# use it as an LLM -> pass a prompt\n",
    "prompt = \"Write a poem about the city Bangalore\"\n",
    "response = model.invoke(prompt)\n",
    "print(response.content)"
   ]
  },
  {
   "cell_type": "code",
   "execution_count": 5,
   "id": "074e60b2",
   "metadata": {},
   "outputs": [
    {
     "data": {
      "text/plain": [
       "AIMessage(content=\"I'm just a computer program, but I'm here and ready to help you! How can I assist you today?\", additional_kwargs={'refusal': None}, response_metadata={'token_usage': {'completion_tokens': 23, 'prompt_tokens': 12, 'total_tokens': 35, 'completion_tokens_details': {'accepted_prediction_tokens': 0, 'audio_tokens': 0, 'reasoning_tokens': 0, 'rejected_prediction_tokens': 0}, 'prompt_tokens_details': {'audio_tokens': 0, 'cached_tokens': 0}}, 'model_name': 'gpt-4o-mini-2024-07-18', 'system_fingerprint': 'fp_7a53abb7a2', 'id': 'chatcmpl-Bf82wRxmgdfKsg2t5bSwuch8ylMbM', 'service_tier': None, 'prompt_filter_results': [{'prompt_index': 0, 'content_filter_results': {'hate': {'filtered': False, 'severity': 'safe'}, 'self_harm': {'filtered': False, 'severity': 'safe'}, 'sexual': {'filtered': False, 'severity': 'safe'}, 'violence': {'filtered': False, 'severity': 'safe'}}}], 'finish_reason': 'stop', 'logprobs': None, 'content_filter_results': {'hate': {'filtered': False, 'severity': 'safe'}, 'self_harm': {'filtered': False, 'severity': 'safe'}, 'sexual': {'filtered': False, 'severity': 'safe'}, 'violence': {'filtered': False, 'severity': 'safe'}}}, id='run--38c78757-0651-4cc2-88cf-43c9efe3334f-0', usage_metadata={'input_tokens': 12, 'output_tokens': 23, 'total_tokens': 35, 'input_token_details': {'audio': 0, 'cache_read': 0}, 'output_token_details': {'audio': 0, 'reasoning': 0}})"
      ]
     },
     "execution_count": 5,
     "metadata": {},
     "output_type": "execute_result"
    }
   ],
   "source": [
    "# use it as a chatmodel - pass a chatprompt\n",
    "\n",
    "from langchain_core.messages import HumanMessage\n",
    "\n",
    "message = [HumanMessage(content=\"Hi How are you?\")]\n",
    "model.invoke(message)\n"
   ]
  },
  {
   "cell_type": "code",
   "execution_count": 6,
   "id": "f643397b",
   "metadata": {},
   "outputs": [
    {
     "data": {
      "text/plain": [
       "ChatPromptTemplate(input_variables=['language', 'text'], input_types={}, partial_variables={}, messages=[SystemMessagePromptTemplate(prompt=PromptTemplate(input_variables=['language'], input_types={}, partial_variables={}, template='Translate the following into the language {language}'), additional_kwargs={}), HumanMessagePromptTemplate(prompt=PromptTemplate(input_variables=['text'], input_types={}, partial_variables={}, template='{text}'), additional_kwargs={})])"
      ]
     },
     "execution_count": 6,
     "metadata": {},
     "output_type": "execute_result"
    }
   ],
   "source": [
    "# chat prompt template\n",
    "from langchain_core.prompts import ChatPromptTemplate\n",
    "\n",
    "system_prompt = \"Translate the following into the language {language}\"\n",
    "prompt_temp = ChatPromptTemplate([(\"system\",system_prompt),(\"user\",\"{text}\")])\n",
    "prompt_temp"
   ]
  },
  {
   "cell_type": "code",
   "execution_count": 7,
   "id": "eaab1acf",
   "metadata": {},
   "outputs": [
    {
     "data": {
      "text/plain": [
       "['language', 'text']"
      ]
     },
     "execution_count": 7,
     "metadata": {},
     "output_type": "execute_result"
    }
   ],
   "source": [
    "prompt_temp.input_variables"
   ]
  },
  {
   "cell_type": "code",
   "execution_count": 10,
   "id": "c0c4fec2",
   "metadata": {},
   "outputs": [
    {
     "data": {
      "text/plain": [
       "ChatPromptValue(messages=[SystemMessage(content='Translate the following into the language French', additional_kwargs={}, response_metadata={}), HumanMessage(content='Hi How are you?', additional_kwargs={}, response_metadata={})])"
      ]
     },
     "execution_count": 10,
     "metadata": {},
     "output_type": "execute_result"
    }
   ],
   "source": [
    "myprompt = prompt_temp.invoke({\"language\":\"French\",\"text\":\"Hi How are you?\"})\n",
    "myprompt"
   ]
  },
  {
   "cell_type": "code",
   "execution_count": 11,
   "id": "767762f1",
   "metadata": {},
   "outputs": [
    {
     "data": {
      "text/plain": [
       "AIMessage(content='Salut, comment ça va ?', additional_kwargs={'refusal': None}, response_metadata={'token_usage': {'completion_tokens': 7, 'prompt_tokens': 23, 'total_tokens': 30, 'completion_tokens_details': {'accepted_prediction_tokens': 0, 'audio_tokens': 0, 'reasoning_tokens': 0, 'rejected_prediction_tokens': 0}, 'prompt_tokens_details': {'audio_tokens': 0, 'cached_tokens': 0}}, 'model_name': 'gpt-4o-mini-2024-07-18', 'system_fingerprint': 'fp_7a53abb7a2', 'id': 'chatcmpl-Bf86DS2e9obNVlQTTD6JL0zWlqlaz', 'service_tier': None, 'prompt_filter_results': [{'prompt_index': 0, 'content_filter_results': {'hate': {'filtered': False, 'severity': 'safe'}, 'self_harm': {'filtered': False, 'severity': 'safe'}, 'sexual': {'filtered': False, 'severity': 'safe'}, 'violence': {'filtered': False, 'severity': 'safe'}}}], 'finish_reason': 'stop', 'logprobs': None, 'content_filter_results': {'hate': {'filtered': False, 'severity': 'safe'}, 'self_harm': {'filtered': False, 'severity': 'safe'}, 'sexual': {'filtered': False, 'severity': 'safe'}, 'violence': {'filtered': False, 'severity': 'safe'}}}, id='run--53556ea2-efac-4e61-b91a-de6ce8f1493b-0', usage_metadata={'input_tokens': 23, 'output_tokens': 7, 'total_tokens': 30, 'input_token_details': {'audio': 0, 'cache_read': 0}, 'output_token_details': {'audio': 0, 'reasoning': 0}})"
      ]
     },
     "execution_count": 11,
     "metadata": {},
     "output_type": "execute_result"
    }
   ],
   "source": [
    "op = model.invoke(myprompt)\n",
    "op"
   ]
  },
  {
   "cell_type": "code",
   "execution_count": null,
   "id": "02f5b8cc",
   "metadata": {},
   "outputs": [
    {
     "data": {
      "text/plain": [
       "'Salut, comment ça va ?'"
      ]
     },
     "execution_count": 12,
     "metadata": {},
     "output_type": "execute_result"
    }
   ],
   "source": [
    "from langchain_core.output_parsers import StrOutputParser\n",
    "parser = StrOutputParser()\n",
    "parser.invoke(op)"
   ]
  },
  {
   "cell_type": "code",
   "execution_count": null,
   "id": "ba32228e",
   "metadata": {},
   "outputs": [],
   "source": []
  }
 ],
 "metadata": {
  "kernelspec": {
   "display_name": "gen-ai",
   "language": "python",
   "name": "python3"
  },
  "language_info": {
   "codemirror_mode": {
    "name": "ipython",
    "version": 3
   },
   "file_extension": ".py",
   "mimetype": "text/x-python",
   "name": "python",
   "nbconvert_exporter": "python",
   "pygments_lexer": "ipython3",
   "version": "3.12.3"
  }
 },
 "nbformat": 4,
 "nbformat_minor": 5
}
